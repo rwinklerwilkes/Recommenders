{
 "cells": [
  {
   "cell_type": "code",
   "execution_count": 1,
   "metadata": {},
   "outputs": [],
   "source": [
    "import numpy as np\n",
    "from numpy.random import choice\n",
    "import pandas as pd\n",
    "from matplotlib import pyplot as plt\n",
    "from scipy.sparse import csc_matrix, csr_matrix, lil_matrix\n",
    "\n",
    "def load_movielens(mean_adjust = 'user'):\n",
    "    '''Loads movielens set into a Dataframe. Adjusted rating is user by default'''\n",
    "    path = 'ml-latest-small\\\\'\n",
    "    df = pd.read_csv(path + 'ratings.csv')\n",
    "    movie_xref = pd.read_csv(path + 'movies.csv')\n",
    "    users = df.groupby('userId').mean()['rating'].reset_index()\n",
    "    users['user_mean_rating'] = users['rating']\n",
    "    users['uid'] = users.index\n",
    "    users.drop('rating',inplace=True,axis=1)\n",
    "    df = df.merge(users,left_on='userId',right_on='userId')\n",
    "    movies = df.groupby('movieId').mean()['rating'].reset_index()\n",
    "    movies['movie_mean_rating'] = movies['rating']\n",
    "    movies = movies.merge(movie_xref,left_on='movieId',right_on='movieId')\n",
    "    movies.drop('rating',inplace=True,axis=1)\n",
    "    movies['mid'] = movies.index\n",
    "    df = df.merge(movies,left_on='movieId',right_on='movieId')\n",
    "    if mean_adjust == 'user':\n",
    "        df['adjusted_rating'] = df['rating'] - df['user_mean_rating']\n",
    "    elif mean_adjust == 'movie':\n",
    "        df['adjusted_rating'] = df['rating'] - df['movie_mean_rating']\n",
    "    return df\n",
    "\n",
    "def test_sparse(sparse_matrix):\n",
    "    n = sparse_matrix.nnz\n",
    "    s = sparse_matrix.shape\n",
    "    return 1-n/(s[0]*s[1])\n",
    "\n",
    "def train_test_split(sparse_matrix,pct):\n",
    "    '''Splits a sparse matrix into two sets - a train set and a test set'''\n",
    "    nz_coord = list(zip(*sparse_matrix.nonzero()))\n",
    "    nz_coord_array = np.array(nz_coord)\n",
    "    num_rand = int(np.floor(len(nz_coord)*(pct/100.0)))\n",
    "    n = len(nz_coord)\n",
    "    c = choice(n,size=num_rand,replace=False)\n",
    "    rows = nz_coord_array[c][:,0]\n",
    "    cols = nz_coord_array[c][:,1]\n",
    "    vals = np.array(sparse_matrix[rows,cols]).flatten()\n",
    "    train = sparse_matrix.copy()\n",
    "    test = lil_matrix(train.shape)\n",
    "    test[rows,cols] = vals\n",
    "    test = test.tocsr()\n",
    "    train[rows,cols] = 0\n",
    "    train.eliminate_zeros()\n",
    "    return train,test\n",
    "\n",
    "df = load_movielens()\n",
    "users_list = df['uid']\n",
    "movies_list = df['mid']\n",
    "ratings_list = df['rating']\n",
    "df_sparse = csr_matrix((ratings_list,(users_list,movies_list)))\n",
    "train,test = train_test_split(df_sparse,20)\n"
   ]
  },
  {
   "cell_type": "code",
   "execution_count": 2,
   "metadata": {},
   "outputs": [],
   "source": [
    "movie_xref = df[['mid','title','genres']]\n",
    "movie_xref = movie_xref.drop_duplicates()"
   ]
  },
  {
   "cell_type": "markdown",
   "metadata": {},
   "source": [
    "# Bagging"
   ]
  },
  {
   "cell_type": "code",
   "execution_count": 3,
   "metadata": {},
   "outputs": [],
   "source": [
    "import implicit"
   ]
  },
  {
   "cell_type": "code",
   "execution_count": 4,
   "metadata": {},
   "outputs": [],
   "source": [
    "def bootstrap(sparse_matrix):\n",
    "    '''\n",
    "        Row-wise bootstrapping of the sparse matrix\n",
    "        Returns the sampled rows as after CF we'll need to average out ratings over any \n",
    "        duplicated users\n",
    "    '''\n",
    "    rows = sparse_matrix.shape[0]\n",
    "    rows_to_sample = np.random.choice(rows,rows)\n",
    "    bootstrapped_matrix = sparse_matrix[rows_to_sample,:]\n",
    "    return bootstrapped_matrix, rows_to_sample"
   ]
  },
  {
   "cell_type": "code",
   "execution_count": 55,
   "metadata": {},
   "outputs": [],
   "source": [
    "user_list = df['uid']\n",
    "movies_list = df['mid']\n",
    "ratings_list = df['rating']\n",
    "ratings_list_implicit = [1 for i in ratings_list]\n",
    "new_sparse = csr_matrix((ratings_list,(user_list,movies_list)))\n",
    "#1 or 0 each value\n",
    "new_sparse = new_sparse.sign()\n",
    "train,test = train_test_split(new_sparse,20)"
   ]
  },
  {
   "cell_type": "code",
   "execution_count": 56,
   "metadata": {},
   "outputs": [],
   "source": [
    "bs_train, bs_rows = bootstrap(train)"
   ]
  },
  {
   "cell_type": "code",
   "execution_count": 57,
   "metadata": {},
   "outputs": [
    {
     "data": {
      "text/plain": [
       "<671x9066 sparse matrix of type '<class 'numpy.float64'>'\n",
       "\twith 78819 stored elements in Compressed Sparse Row format>"
      ]
     },
     "execution_count": 57,
     "metadata": {},
     "output_type": "execute_result"
    }
   ],
   "source": [
    "bs_train"
   ]
  },
  {
   "cell_type": "code",
   "execution_count": 58,
   "metadata": {},
   "outputs": [],
   "source": [
    "def user_rated_movies(df,sparse_matrix,uid,cluster=False):\n",
    "    '''uid can be cluster or user id'''\n",
    "    mid = sparse_matrix[uid].nonzero()[1]\n",
    "    if cluster:\n",
    "        user_string = 'cluster'\n",
    "    else:\n",
    "        user_string = 'uid'    \n",
    "    df_rows = df.loc[(df[user_string]==uid)&(df['mid'].isin(train[uid].nonzero()[1])),:]\n",
    "    gb = df_rows.groupby('title').agg(['count','mean'])['rating']\n",
    "    gb = gb.sort_values(by='mean',ascending=False)\n",
    "    print(gb[:10])\n",
    "    \n",
    "def train_model(df,train):\n",
    "    factors = 20\n",
    "    regularization = 0.1\n",
    "    iterations = 50\n",
    "    model = implicit.als.AlternatingLeastSquares(factors=factors,regularization=regularization,iterations=iterations)\n",
    "\n",
    "    # train the model on a sparse matrix of item/user/confidence weights\n",
    "    model.fit(train.T)\n",
    "    return model\n",
    "\n",
    "def bootstrap_to_user_item_matrix(bootstrap_model, bootstrap_rows):\n",
    "    '''\n",
    "    Each bootstrapped fit model will have some duplicate rows in it\n",
    "    This function will recreate a user-item matrix so that there are no duplicates\n",
    "    '''\n",
    "    new_pred_matrix = np.zeros((m.user_factors.shape[0],m.item_factors.shape[0]))\n",
    "    user_f = bootstrap_model.user_factors\n",
    "    item_f = bootstrap_model.item_factors\n",
    "    pred_matrix = item_f.dot(user_f.T).T\n",
    "    for i in range(new_pred_matrix.shape[0]):\n",
    "        bs_dups = np.where(bootstrap_rows==i)[0]\n",
    "        if len(bs_dups) > 0:\n",
    "            model_pred = pred_matrix[bs_dups].mean(axis=0)\n",
    "            new_pred_matrix[i] = model_pred\n",
    "    return new_pred_matrix\n",
    "        \n",
    "\n",
    "def bag_recommendations(df, bootstraps_models, bootstraps_rows,shape):\n",
    "    '''\n",
    "        df is original dataframe\n",
    "        bootstraps is list of bootstrapped matrices\n",
    "        bootstraps_rows is list of rows sampled for each bootstrap\n",
    "    '''\n",
    "    bagged_model = np.zeros(shape)\n",
    "    user_ct_for_avg = np.zeros(shape[0])\n",
    "    for i in range(len(bootstraps_models)):\n",
    "        bs_model = bootstraps_models[i]\n",
    "        bs_rows = bootstraps_rows[i]\n",
    "        pred_matrix = bootstrap_to_user_item_matrix(bs_model,bs_rows)\n",
    "        bagged_model = np.add(bagged_model,pred_matrix)\n",
    "        users_for_this_model = np.unique(pred_matrix.nonzero()[0])\n",
    "        user_ct_for_avg[users_for_this_model] += 1\n",
    "    return bagged_model/user_ct_for_avg[:,None]\n",
    "    \n",
    "def recommend_movies_bootstrap(df,prediction_matrix,uid):\n",
    "    '''Predict what a user (or cluster) would like based on trained model'''\n",
    "    top_10 = prediction_matrix[uid].argsort()[-10:][::-1]\n",
    "    movie_xref = df[['mid','title','genres']]\n",
    "    movie_xref = movie_xref.drop_duplicates()\n",
    "    print(movie_xref[movie_xref['mid'].isin(top_10)])"
   ]
  },
  {
   "cell_type": "code",
   "execution_count": 59,
   "metadata": {},
   "outputs": [],
   "source": [
    "#Need to figure out the text from Aggarwal:\n",
    "\n",
    "##For each training data set, an item rating can be predicted\n",
    "##for a user only if that user is represented at least once in the matrix. In such a case,\n",
    "##the predicted rating from that ensemble component is the average rating of that item\n",
    "##over the duplicate occurrences of that user. "
   ]
  },
  {
   "cell_type": "code",
   "execution_count": 60,
   "metadata": {},
   "outputs": [
    {
     "ename": "NameError",
     "evalue": "name 'new_pred_matrix' is not defined",
     "output_type": "error",
     "traceback": [
      "\u001b[1;31m---------------------------------------------------------------------------\u001b[0m",
      "\u001b[1;31mNameError\u001b[0m                                 Traceback (most recent call last)",
      "\u001b[1;32m<ipython-input-60-d73a9d0f878c>\u001b[0m in \u001b[0;36m<module>\u001b[1;34m()\u001b[0m\n\u001b[1;32m----> 1\u001b[1;33m \u001b[0mnew_pred_matrix\u001b[0m\u001b[1;33m.\u001b[0m\u001b[0mshape\u001b[0m\u001b[1;33m\u001b[0m\u001b[0m\n\u001b[0m",
      "\u001b[1;31mNameError\u001b[0m: name 'new_pred_matrix' is not defined"
     ]
    }
   ],
   "source": [
    "new_pred_matrix.shape"
   ]
  },
  {
   "cell_type": "code",
   "execution_count": 61,
   "metadata": {},
   "outputs": [
    {
     "name": "stderr",
     "output_type": "stream",
     "text": [
      "WARNING:root:Intel MKL BLAS detected. Its highly recommend to set the environment variable 'export MKL_NUM_THREADS=1' to disable its internal multithreading\n"
     ]
    }
   ],
   "source": [
    "m = train_model(df,bs_train)"
   ]
  },
  {
   "cell_type": "code",
   "execution_count": 62,
   "metadata": {},
   "outputs": [
    {
     "data": {
      "text/plain": [
       "array([], dtype=int64)"
      ]
     },
     "execution_count": 62,
     "metadata": {},
     "output_type": "execute_result"
    }
   ],
   "source": [
    "np.where(bs_rows==9000)[0]"
   ]
  },
  {
   "cell_type": "code",
   "execution_count": 63,
   "metadata": {},
   "outputs": [],
   "source": [
    "user_f = m.user_factors\n",
    "item_f = m.item_factors\n",
    "pred_matrix = item_f.dot(user_f.T).T"
   ]
  },
  {
   "cell_type": "code",
   "execution_count": 64,
   "metadata": {},
   "outputs": [],
   "source": [
    "b = bootstrap_to_user_item_matrix(m,bs_rows)"
   ]
  },
  {
   "cell_type": "code",
   "execution_count": 65,
   "metadata": {},
   "outputs": [],
   "source": [
    "user_ct_for_avg = np.zeros(671)"
   ]
  },
  {
   "cell_type": "code",
   "execution_count": 66,
   "metadata": {},
   "outputs": [],
   "source": [
    "users_for_this_model = np.unique(b.nonzero()[0])"
   ]
  },
  {
   "cell_type": "code",
   "execution_count": 67,
   "metadata": {},
   "outputs": [],
   "source": [
    "user_ct_for_avg[users_for_this_model] += 1"
   ]
  },
  {
   "cell_type": "code",
   "execution_count": 68,
   "metadata": {},
   "outputs": [
    {
     "name": "stderr",
     "output_type": "stream",
     "text": [
      "WARNING:root:Intel MKL BLAS detected. Its highly recommend to set the environment variable 'export MKL_NUM_THREADS=1' to disable its internal multithreading\n",
      "WARNING:root:Intel MKL BLAS detected. Its highly recommend to set the environment variable 'export MKL_NUM_THREADS=1' to disable its internal multithreading\n",
      "WARNING:root:Intel MKL BLAS detected. Its highly recommend to set the environment variable 'export MKL_NUM_THREADS=1' to disable its internal multithreading\n",
      "WARNING:root:Intel MKL BLAS detected. Its highly recommend to set the environment variable 'export MKL_NUM_THREADS=1' to disable its internal multithreading\n",
      "WARNING:root:Intel MKL BLAS detected. Its highly recommend to set the environment variable 'export MKL_NUM_THREADS=1' to disable its internal multithreading\n"
     ]
    }
   ],
   "source": [
    "models = []\n",
    "rows = []\n",
    "for i in range(5):\n",
    "    bs_train, bs_rows = bootstrap(train)\n",
    "    m = train_model(df,bs_train)\n",
    "    models.append(m)\n",
    "    rows.append(bs_rows)"
   ]
  },
  {
   "cell_type": "code",
   "execution_count": 107,
   "metadata": {},
   "outputs": [
    {
     "data": {
      "text/plain": [
       "(671, 9066)"
      ]
     },
     "execution_count": 107,
     "metadata": {},
     "output_type": "execute_result"
    }
   ],
   "source": [
    "pred_matrix.shape"
   ]
  },
  {
   "cell_type": "code",
   "execution_count": 69,
   "metadata": {},
   "outputs": [
    {
     "name": "stderr",
     "output_type": "stream",
     "text": [
      "C:\\Users\\Rich\\Anaconda3\\lib\\site-packages\\ipykernel_launcher.py:55: RuntimeWarning: invalid value encountered in true_divide\n"
     ]
    }
   ],
   "source": [
    "shape = (671, 9066)\n",
    "pred = bag_recommendations(df,models,rows,shape)"
   ]
  },
  {
   "cell_type": "code",
   "execution_count": 70,
   "metadata": {},
   "outputs": [
    {
     "data": {
      "text/plain": [
       "(671, 9066)"
      ]
     },
     "execution_count": 70,
     "metadata": {},
     "output_type": "execute_result"
    }
   ],
   "source": [
    "pred.shape"
   ]
  },
  {
   "cell_type": "code",
   "execution_count": 71,
   "metadata": {},
   "outputs": [
    {
     "name": "stdout",
     "output_type": "stream",
     "text": [
      "                                 count  mean\n",
      "title                                       \n",
      "Bully (2001)                         1   5.0\n",
      "Office Space (1999)                  1   5.0\n",
      "Roger & Me (1989)                    1   5.0\n",
      "Caddyshack II (1988)                 1   5.0\n",
      "American Movie (1999)                1   5.0\n",
      "Shining, The (1980)                  1   5.0\n",
      "Uncle Buck (1989)                    1   5.0\n",
      "Punch-Drunk Love (2002)              1   5.0\n",
      "Sex, Lies, and Videotape (1989)      1   5.0\n",
      "Stand by Me (1986)                   1   4.0\n"
     ]
    }
   ],
   "source": [
    "user_rated_movies(df,new_sparse,32)"
   ]
  },
  {
   "cell_type": "code",
   "execution_count": 72,
   "metadata": {},
   "outputs": [],
   "source": [
    "top_10 = pred[2].argsort()[-10:][::-1]"
   ]
  },
  {
   "cell_type": "code",
   "execution_count": 73,
   "metadata": {},
   "outputs": [
    {
     "name": "stdout",
     "output_type": "stream",
     "text": [
      "        mid                                title  \\\n",
      "11460  2288               American Beauty (1999)   \n",
      "11680  2374                    Fight Club (1999)   \n",
      "21849  1728                   Beetlejuice (1988)   \n",
      "23412  2340      Ferris Bueller's Day Off (1986)   \n",
      "23564  2398      Who Framed Roger Rabbit? (1988)   \n",
      "25794  1486  There's Something About Mary (1998)   \n",
      "26330  2164                  American Pie (1999)   \n",
      "26441  2407          Being John Malkovich (1999)   \n",
      "27007  3156              Meet the Parents (2000)   \n",
      "56352  3228    O Brother, Where Art Thou? (2000)   \n",
      "\n",
      "                                                  genres  \n",
      "11460                                      Drama|Romance  \n",
      "11680                        Action|Crime|Drama|Thriller  \n",
      "21849                                     Comedy|Fantasy  \n",
      "23412                                             Comedy  \n",
      "23564  Adventure|Animation|Children|Comedy|Crime|Fant...  \n",
      "25794                                     Comedy|Romance  \n",
      "26330                                     Comedy|Romance  \n",
      "26441                               Comedy|Drama|Fantasy  \n",
      "27007                                             Comedy  \n",
      "56352                             Adventure|Comedy|Crime  \n"
     ]
    }
   ],
   "source": [
    "recommend_movies_bootstrap(df,pred,32)"
   ]
  },
  {
   "cell_type": "code",
   "execution_count": 74,
   "metadata": {},
   "outputs": [
    {
     "data": {
      "text/html": [
       "<div>\n",
       "<style scoped>\n",
       "    .dataframe tbody tr th:only-of-type {\n",
       "        vertical-align: middle;\n",
       "    }\n",
       "\n",
       "    .dataframe tbody tr th {\n",
       "        vertical-align: top;\n",
       "    }\n",
       "\n",
       "    .dataframe thead th {\n",
       "        text-align: right;\n",
       "    }\n",
       "</style>\n",
       "<table border=\"1\" class=\"dataframe\">\n",
       "  <thead>\n",
       "    <tr style=\"text-align: right;\">\n",
       "      <th></th>\n",
       "      <th>userId</th>\n",
       "      <th>movieId</th>\n",
       "      <th>rating</th>\n",
       "      <th>timestamp</th>\n",
       "      <th>user_mean_rating</th>\n",
       "      <th>uid</th>\n",
       "      <th>movie_mean_rating</th>\n",
       "      <th>title</th>\n",
       "      <th>genres</th>\n",
       "      <th>mid</th>\n",
       "      <th>adjusted_rating</th>\n",
       "    </tr>\n",
       "  </thead>\n",
       "  <tbody>\n",
       "    <tr>\n",
       "      <th>0</th>\n",
       "      <td>1</td>\n",
       "      <td>31</td>\n",
       "      <td>2.5</td>\n",
       "      <td>1260759144</td>\n",
       "      <td>2.550000</td>\n",
       "      <td>0</td>\n",
       "      <td>3.178571</td>\n",
       "      <td>Dangerous Minds (1995)</td>\n",
       "      <td>Drama</td>\n",
       "      <td>30</td>\n",
       "      <td>-0.050000</td>\n",
       "    </tr>\n",
       "    <tr>\n",
       "      <th>1</th>\n",
       "      <td>7</td>\n",
       "      <td>31</td>\n",
       "      <td>3.0</td>\n",
       "      <td>851868750</td>\n",
       "      <td>3.465909</td>\n",
       "      <td>6</td>\n",
       "      <td>3.178571</td>\n",
       "      <td>Dangerous Minds (1995)</td>\n",
       "      <td>Drama</td>\n",
       "      <td>30</td>\n",
       "      <td>-0.465909</td>\n",
       "    </tr>\n",
       "    <tr>\n",
       "      <th>2</th>\n",
       "      <td>31</td>\n",
       "      <td>31</td>\n",
       "      <td>4.0</td>\n",
       "      <td>1273541953</td>\n",
       "      <td>4.166667</td>\n",
       "      <td>30</td>\n",
       "      <td>3.178571</td>\n",
       "      <td>Dangerous Minds (1995)</td>\n",
       "      <td>Drama</td>\n",
       "      <td>30</td>\n",
       "      <td>-0.166667</td>\n",
       "    </tr>\n",
       "    <tr>\n",
       "      <th>3</th>\n",
       "      <td>32</td>\n",
       "      <td>31</td>\n",
       "      <td>4.0</td>\n",
       "      <td>834828440</td>\n",
       "      <td>3.666667</td>\n",
       "      <td>31</td>\n",
       "      <td>3.178571</td>\n",
       "      <td>Dangerous Minds (1995)</td>\n",
       "      <td>Drama</td>\n",
       "      <td>30</td>\n",
       "      <td>0.333333</td>\n",
       "    </tr>\n",
       "    <tr>\n",
       "      <th>4</th>\n",
       "      <td>36</td>\n",
       "      <td>31</td>\n",
       "      <td>3.0</td>\n",
       "      <td>847057202</td>\n",
       "      <td>3.615385</td>\n",
       "      <td>35</td>\n",
       "      <td>3.178571</td>\n",
       "      <td>Dangerous Minds (1995)</td>\n",
       "      <td>Drama</td>\n",
       "      <td>30</td>\n",
       "      <td>-0.615385</td>\n",
       "    </tr>\n",
       "  </tbody>\n",
       "</table>\n",
       "</div>"
      ],
      "text/plain": [
       "   userId  movieId  rating   timestamp  user_mean_rating  uid  \\\n",
       "0       1       31     2.5  1260759144          2.550000    0   \n",
       "1       7       31     3.0   851868750          3.465909    6   \n",
       "2      31       31     4.0  1273541953          4.166667   30   \n",
       "3      32       31     4.0   834828440          3.666667   31   \n",
       "4      36       31     3.0   847057202          3.615385   35   \n",
       "\n",
       "   movie_mean_rating                   title genres  mid  adjusted_rating  \n",
       "0           3.178571  Dangerous Minds (1995)  Drama   30        -0.050000  \n",
       "1           3.178571  Dangerous Minds (1995)  Drama   30        -0.465909  \n",
       "2           3.178571  Dangerous Minds (1995)  Drama   30        -0.166667  \n",
       "3           3.178571  Dangerous Minds (1995)  Drama   30         0.333333  \n",
       "4           3.178571  Dangerous Minds (1995)  Drama   30        -0.615385  "
      ]
     },
     "execution_count": 74,
     "metadata": {},
     "output_type": "execute_result"
    }
   ],
   "source": [
    "df.head()"
   ]
  },
  {
   "cell_type": "markdown",
   "metadata": {},
   "source": [
    "# Test Bagging"
   ]
  },
  {
   "cell_type": "code",
   "execution_count": 89,
   "metadata": {},
   "outputs": [],
   "source": [
    "from sklearn import metrics\n",
    "def auc_score(predictions, test):\n",
    "    '''\n",
    "    This simple function will output the area under the curve using sklearn's metrics. \n",
    "    \n",
    "    parameters:\n",
    "    \n",
    "    - predictions: your prediction output\n",
    "    \n",
    "    - test: the actual target result you are comparing to\n",
    "    \n",
    "    returns:\n",
    "    \n",
    "    - AUC (area under the Receiver Operating Characterisic curve)\n",
    "    '''\n",
    "    fpr, tpr, thresholds = metrics.roc_curve(test, predictions)\n",
    "    return metrics.auc(fpr, tpr)\n",
    "\n",
    "\n",
    "def calc_mean_auc(training_set, altered_users, predictions, test_set):\n",
    "    '''\n",
    "    This function will calculate the mean AUC by user for any user that had their user-item matrix altered. \n",
    "    \n",
    "    parameters:\n",
    "    \n",
    "    training_set - The training set resulting from make_train, where a certain percentage of the original\n",
    "    user/item interactions are reset to zero to hide them from the model \n",
    "    \n",
    "    predictions - The matrix of your predicted ratings for each user/item pair as output from the implicit MF.\n",
    "    \n",
    "    altered_users - The indices of the users where at least one user/item pair was altered from make_train function\n",
    "    \n",
    "    test_set - The test set constucted earlier from make_train function\n",
    "    \n",
    "    \n",
    "    \n",
    "    returns:\n",
    "    \n",
    "    The mean AUC (area under the Receiver Operator Characteristic curve) of the test set only on user-item interactions\n",
    "    there were originally zero to test ranking ability in addition to the most popular items as a benchmark.\n",
    "    '''\n",
    "    \n",
    "    \n",
    "    store_auc = [] # An empty list to store the AUC for each user that had an item removed from the training set\n",
    "    popularity_auc = [] # To store popular AUC scores\n",
    "    pop_items = np.array(test_set.sum(axis = 0)).reshape(-1) # Get sum of item iteractions to find most popular\n",
    "    for user in altered_users: # Iterate through each user that had an item altered\n",
    "        training_row = training_set[user,:].toarray().reshape(-1) # Get the training set row\n",
    "        zero_inds = np.where(training_row == 0) # Find where the interaction had not yet occurred\n",
    "        # Get the predicted values based on our user/item vectors\n",
    "        pred=predictions[user,zero_inds].reshape(-1)\n",
    "        # Get only the items that were originally zero\n",
    "        # Select all ratings from the MF prediction for this user that originally had no iteraction\n",
    "        actual = test_set[user,:].toarray()[0,zero_inds].reshape(-1) \n",
    "        # Select the binarized yes/no interaction pairs from the original full data\n",
    "        # that align with the same pairs in training \n",
    "        pop = pop_items[zero_inds] # Get the item popularity for our chosen items\n",
    "        pred_auc = auc_score(pred, actual)\n",
    "        pop_auc = auc_score(pop, actual)\n",
    "        if np.isnan(pred_auc):\n",
    "            pred_auc = 0\n",
    "        if np.isnan(pop_auc):\n",
    "            pop_auc = 0\n",
    "        store_auc.append(pred_auc) # Calculate AUC for the given user and store\n",
    "        popularity_auc.append(pop_auc) # Calculate AUC using most popular and score\n",
    "    # End users iteration\n",
    "    \n",
    "    print(float('%.3f'%np.mean(store_auc)), float('%.3f'%np.mean(popularity_auc)))\n",
    "    return store_auc, popularity_auc"
   ]
  },
  {
   "cell_type": "code",
   "execution_count": 24,
   "metadata": {},
   "outputs": [],
   "source": [
    "altered_users = np.unique(test.nonzero()[0])"
   ]
  },
  {
   "cell_type": "code",
   "execution_count": 29,
   "metadata": {},
   "outputs": [],
   "source": [
    "training_row = bs_train[0,:].toarray().reshape(-1)\n",
    "zero_inds = np.where(training_row==0)"
   ]
  },
  {
   "cell_type": "code",
   "execution_count": 43,
   "metadata": {},
   "outputs": [
    {
     "data": {
      "text/plain": [
       "(9044,)"
      ]
     },
     "execution_count": 43,
     "metadata": {},
     "output_type": "execute_result"
    }
   ],
   "source": [
    "pred[0,zero_inds].reshape(-1).shape"
   ]
  },
  {
   "cell_type": "code",
   "execution_count": 45,
   "metadata": {},
   "outputs": [
    {
     "data": {
      "text/plain": [
       "(9044,)"
      ]
     },
     "execution_count": 45,
     "metadata": {},
     "output_type": "execute_result"
    }
   ],
   "source": [
    "test[0,:].toarray()[0,zero_inds].reshape(-1).shape"
   ]
  },
  {
   "cell_type": "code",
   "execution_count": 27,
   "metadata": {},
   "outputs": [
    {
     "data": {
      "text/plain": [
       "array([-0.02106492,  0.00569918,  0.02313504, ...,  0.        ,\n",
       "       -0.00095914, -0.0027684 ])"
      ]
     },
     "execution_count": 27,
     "metadata": {},
     "output_type": "execute_result"
    }
   ],
   "source": [
    "pred[0].toarray()"
   ]
  },
  {
   "cell_type": "code",
   "execution_count": 84,
   "metadata": {},
   "outputs": [],
   "source": [
    "pred = np.nan_to_num(pred)"
   ]
  },
  {
   "cell_type": "code",
   "execution_count": 90,
   "metadata": {},
   "outputs": [
    {
     "name": "stderr",
     "output_type": "stream",
     "text": [
      "C:\\Users\\Rich\\Anaconda3\\lib\\site-packages\\sklearn\\metrics\\ranking.py:571: UndefinedMetricWarning: No positive samples in y_true, true positive value should be meaningless\n",
      "  UndefinedMetricWarning)\n"
     ]
    },
    {
     "name": "stdout",
     "output_type": "stream",
     "text": [
      "0.896 0.912\n"
     ]
    }
   ],
   "source": [
    "s,p = calc_mean_auc(bs_train,altered_users,pred,test)"
   ]
  },
  {
   "cell_type": "code",
   "execution_count": 92,
   "metadata": {},
   "outputs": [
    {
     "name": "stderr",
     "output_type": "stream",
     "text": [
      "WARNING:root:Intel MKL BLAS detected. Its highly recommend to set the environment variable 'export MKL_NUM_THREADS=1' to disable its internal multithreading\n",
      "C:\\Users\\Rich\\Anaconda3\\lib\\site-packages\\sklearn\\metrics\\ranking.py:571: UndefinedMetricWarning: No positive samples in y_true, true positive value should be meaningless\n",
      "  UndefinedMetricWarning)\n"
     ]
    },
    {
     "name": "stdout",
     "output_type": "stream",
     "text": [
      "0.907 0.92\n"
     ]
    }
   ],
   "source": [
    "m = train_model(df,train)\n",
    "user_f = m.user_factors\n",
    "item_f = m.item_factors\n",
    "pred_matrix = item_f.dot(user_f.T).T\n",
    "s,p = calc_mean_auc(train,altered_users,pred_matrix,test)"
   ]
  },
  {
   "cell_type": "code",
   "execution_count": null,
   "metadata": {},
   "outputs": [],
   "source": []
  }
 ],
 "metadata": {
  "kernelspec": {
   "display_name": "Python 3",
   "language": "python",
   "name": "python3"
  },
  "language_info": {
   "codemirror_mode": {
    "name": "ipython",
    "version": 3
   },
   "file_extension": ".py",
   "mimetype": "text/x-python",
   "name": "python",
   "nbconvert_exporter": "python",
   "pygments_lexer": "ipython3",
   "version": "3.6.0"
  },
  "varInspector": {
   "cols": {
    "lenName": 16,
    "lenType": 16,
    "lenVar": 40
   },
   "kernels_config": {
    "python": {
     "delete_cmd_postfix": "",
     "delete_cmd_prefix": "del ",
     "library": "var_list.py",
     "varRefreshCmd": "print(var_dic_list())"
    },
    "r": {
     "delete_cmd_postfix": ") ",
     "delete_cmd_prefix": "rm(",
     "library": "var_list.r",
     "varRefreshCmd": "cat(var_dic_list()) "
    }
   },
   "types_to_exclude": [
    "module",
    "function",
    "builtin_function_or_method",
    "instance",
    "_Feature"
   ],
   "window_display": false
  }
 },
 "nbformat": 4,
 "nbformat_minor": 2
}
