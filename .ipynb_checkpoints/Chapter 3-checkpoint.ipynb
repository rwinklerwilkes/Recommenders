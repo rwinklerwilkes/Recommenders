{
 "cells": [
  {
   "cell_type": "code",
   "execution_count": 1,
   "metadata": {},
   "outputs": [],
   "source": [
    "import numpy as np\n",
    "import pandas as pd\n",
    "from matplotlib import pyplot as plt\n",
    "from scipy.sparse import csc_matrix"
   ]
  },
  {
   "cell_type": "code",
   "execution_count": 2,
   "metadata": {},
   "outputs": [],
   "source": [
    "def load_movielens(mean_adjust = 'user'):\n",
    "    '''Loads movielens set into a Dataframe. Adjusted rating is user by default'''\n",
    "    path = 'ml-latest-small\\\\'\n",
    "    df = pd.read_csv(path + 'ratings.csv')\n",
    "    movie_xref = pd.read_csv(path + 'movies.csv')\n",
    "    users = df.groupby('userId').mean()['rating'].reset_index()\n",
    "    users['user_mean_rating'] = users['rating']\n",
    "    users['uid'] = users.index\n",
    "    users.drop('rating',inplace=True,axis=1)\n",
    "    df = df.merge(users,left_on='userId',right_on='userId')\n",
    "    movies = df.groupby('movieId').mean()['rating'].reset_index()\n",
    "    movies['movie_mean_rating'] = movies['rating']\n",
    "    movies = movies.merge(movie_xref,left_on='movieId',right_on='movieId')\n",
    "    movies.drop('rating',inplace=True,axis=1)\n",
    "    movies['mid'] = movies.index\n",
    "    df = df.merge(movies,left_on='movieId',right_on='movieId')\n",
    "    if mean_adjust == 'user':\n",
    "        df['adjusted_rating'] = df['rating'] - df['user_mean_rating']\n",
    "    elif mean_adjust == 'movie':\n",
    "        df['adjusted_rating'] = df['rating'] - df['movie_mean_rating']\n",
    "    return df"
   ]
  },
  {
   "cell_type": "markdown",
   "metadata": {},
   "source": [
    "# Naive Bayes"
   ]
  },
  {
   "cell_type": "code",
   "execution_count": 3,
   "metadata": {},
   "outputs": [],
   "source": [
    "df = load_movielens()\n",
    "users_list = df['uid']\n",
    "movies_list = df['mid']\n",
    "ratings_list = df['rating']\n",
    "df_sparse = csc_matrix((ratings_list,(users_list,movies_list)))"
   ]
  },
  {
   "cell_type": "code",
   "execution_count": 113,
   "metadata": {},
   "outputs": [],
   "source": [
    "def calculate_priors(df):\n",
    "    m_ct = df.groupby('mid').count()['uid'].reset_index()\n",
    "    mr_ct = df.groupby(['mid','rating']).count()['uid'].reset_index()\n",
    "    total_ct = m_ct.merge(mr_ct,left_on='mid',right_on='mid')\n",
    "    total_ct['prob'] = total_ct['uid_y']/total_ct['uid_x']\n",
    "    return total_ct[['mid','rating','prob']]\n",
    "\n",
    "\n",
    "#TODO - Need to calculate the laplacian smoothed priors with ALL values present, not just items which were rated\n",
    "#Probably need to calculate the number of unique ratings that can be used (used_ratings)\n",
    "#then make a len(used_ratings) x num_cols zero filled matrix and put the unique counts in there\n",
    "def calculate_priors_sparse(df_sparse,laplacian = None):\n",
    "    '''laplacian should be a floating point'''\n",
    "    '''This takes a sparse matrix which has as columns the set of items to be rated'''\n",
    "    '''The rows are each one user.'''\n",
    "    '''Nonzero entries are ratings of items they have rated'''\n",
    "    \n",
    "    num_cols = df_sparse.shape[1]\n",
    "    ct = []\n",
    "    for c in range(num_cols):\n",
    "        #counts the number of unique ratings (per column) and how many times that rating occurred\n",
    "        unq,cts = np.unique(df_sparse[:,c].toarray(),return_counts=True)\n",
    "        d = dict(zip(unq, cts))\n",
    "        d = {k:v for k,v in d.items() if k!=0}\n",
    "        ct.append(d)\n",
    "    #This dataframe now has rows which are films, columns which are ratings, and each entry has the number of times\n",
    "    #which that particular rating occurred for that particular film\n",
    "    ct_df = pd.DataFrame(ct)\n",
    "    numerator_cols = ct_df.columns\n",
    "    ct_df['rowsum'] = ct_df.sum(axis=1)\n",
    "    \n",
    "    if laplacian is not None:\n",
    "        ct_df[numerator_cols] = ct_df[numerator_cols].fillna(0) + laplacian\n",
    "        ct_df['rowsum'] = ct_df['rowsum'].fillna(0) + laplacian * len(numerator_cols)\n",
    "    ct_df = ct_df.apply(lambda x: x/x.rowsum,axis=1)\n",
    "    ct_df = ct_df.drop('rowsum',axis=1)\n",
    "    ct_df = ct_df.unstack().reset_index()\n",
    "    ct_df.columns = ['rating','mid','prob']\n",
    "    return ct_df\n",
    "\n",
    "#Will need to fix this similarly to the above\n",
    "def calculate_conditional(df,rating_vs,rating_k,j,k,laplacian = None):\n",
    "    '''\n",
    "    df is the sparse dataframe containing the data to be trained/rated\n",
    "    rating_vs is the rating that we're comparing against for the conditional - \n",
    "        P(r_uk | r_uj = v_s), what's the likelihood that we observed rating r_uk for item k (user u) given that\n",
    "        user u gave item j the rating v_s\n",
    "    '''\n",
    "    df_j = df[:,j]\n",
    "    #Find set of users who rated item j rating\n",
    "    users = (df_j == rating_vs).nonzero()[0]\n",
    "    num_users = len(users)\n",
    "    #Of those users, how many rated item k the same as the original user?\n",
    "    df_k = df_sparse[users,k]\n",
    "    nz = df_k.nonzero()\n",
    "    nzk = df_k[nz[0]].toarray()\n",
    "    unq,cts = np.unique(nzk,return_counts=True)\n",
    "    ct = []\n",
    "\n",
    "    d = dict(zip(unq, cts))\n",
    "    d = {k:v for k,v in d.items() if k!=0}\n",
    "    ct.append(d)\n",
    "    #This dataframe now has rows which are films, columns which are ratings, and each entry has the number of times\n",
    "    #which that particular rating occurred for that particular film\n",
    "    ct_df = pd.DataFrame(ct)\n",
    "    numerator_cols = ct_df.columns\n",
    "    ct_df['rowsum'] = ct_df.sum(axis=1)\n",
    "\n",
    "    if laplacian is not None:\n",
    "        ct_df[numerator_cols] = ct_df[numerator_cols].fillna(0) + laplacian\n",
    "        ct_df['rowsum'] = ct_df['rowsum'].fillna(0) + laplacian * num_users\n",
    "    try:\n",
    "        retval = (ct_df[rating_vs].values/ct_df['rowsum'].values)[0]\n",
    "    except:\n",
    "        retval = 1/num_users\n",
    "    return retval\n",
    "    \n",
    "def calculate_rating(df,user,item,laplacian = None):\n",
    "    '''\n",
    "    df: sparse array (csc?) containing the data to be predicted\n",
    "    user is index of user to look at\n",
    "    item is item to be rated\n",
    "    \n",
    "    for all items that the user rated, we need to see, for each rating possible to use,\n",
    "    what the likelihood is that user rated item, that rating. In order to do so, we use the formula:\n",
    "    \n",
    "    P(r_uj = v_s | Observed ratings of user u) is proportional to P(r_uj = v_s) * PI(P(r_uk | r_uj = v_s) for k in I_u)\n",
    "    Where I_u is the set of items that user u has rated\n",
    "    P(r_uj = vs) is called the prior probability, and we'll need to calculate that for each item first\n",
    "    P(r_uk | r_uj = v_s) is called the conditional probability.\n",
    "    '''\n",
    "    \n",
    "    #priors contains the prior probabilities for all items\n",
    "    #for a given item, it's the list of all ratings and what ratio, \n",
    "    #for each rating for that item, what was the likelihood it occurred\n",
    "    priors = calculate_priors_sparse(df,laplacian = laplacian)\n",
    "    vals = list(set(df.data))\n",
    "    num = 0\n",
    "    denom = 0\n",
    "    user_items = df[user,:].nonzero()[1]\n",
    "    for i in range(len(vals)):\n",
    "        vs = vals[i]\n",
    "        try:\n",
    "            prior = priors.loc[(priors['mid']==item)&(priors['rating']==vs),'prob'].values[0]\n",
    "        except:\n",
    "            prior = 0\n",
    "            continue\n",
    "        mult = 1\n",
    "        for k in user_items:\n",
    "            user_rating = df[user,k]\n",
    "            conditional = calculate_conditional(df,vs,user_rating,item,k,laplacian = laplacian)\n",
    "            mult = mult * conditional \n",
    "            if np.isnan(conditional or np.isnan(prior)):\n",
    "                print('vs: %0.3f rating: %0.3f item: %i k: %i')\n",
    "        num += vs*prior*mult\n",
    "        denom += denom + prior * mult\n",
    "    return num/denom"
   ]
  },
  {
   "cell_type": "code",
   "execution_count": 100,
   "metadata": {},
   "outputs": [],
   "source": [
    "test = [\n",
    "    [1,-1,1,-1,1,-1],\n",
    "    [1,1,0,-1,-1,-1],\n",
    "    [0,1,1,-1,-1,0],\n",
    "    [-1,-1,-1,1,1,1],\n",
    "    [-1,0,-1,1,1,1]\n",
    "]\n",
    "test_array = np.array(test)\n",
    "test_sparse = csc_matrix(test_array)"
   ]
  },
  {
   "cell_type": "code",
   "execution_count": null,
   "metadata": {},
   "outputs": [],
   "source": [
    "p = calculate_priors_sparse(df_sparse,laplacian=0.8)"
   ]
  },
  {
   "cell_type": "code",
   "execution_count": 111,
   "metadata": {},
   "outputs": [
    {
     "ename": "ZeroDivisionError",
     "evalue": "division by zero",
     "output_type": "error",
     "traceback": [
      "\u001b[1;31m---------------------------------------------------------------------------\u001b[0m",
      "\u001b[1;31mKeyError\u001b[0m                                  Traceback (most recent call last)",
      "\u001b[1;32m~\\Anaconda3\\lib\\site-packages\\pandas\\core\\indexes\\base.py\u001b[0m in \u001b[0;36mget_loc\u001b[1;34m(self, key, method, tolerance)\u001b[0m\n\u001b[0;32m   2524\u001b[0m             \u001b[1;32mtry\u001b[0m\u001b[1;33m:\u001b[0m\u001b[1;33m\u001b[0m\u001b[0m\n\u001b[1;32m-> 2525\u001b[1;33m                 \u001b[1;32mreturn\u001b[0m \u001b[0mself\u001b[0m\u001b[1;33m.\u001b[0m\u001b[0m_engine\u001b[0m\u001b[1;33m.\u001b[0m\u001b[0mget_loc\u001b[0m\u001b[1;33m(\u001b[0m\u001b[0mkey\u001b[0m\u001b[1;33m)\u001b[0m\u001b[1;33m\u001b[0m\u001b[0m\n\u001b[0m\u001b[0;32m   2526\u001b[0m             \u001b[1;32mexcept\u001b[0m \u001b[0mKeyError\u001b[0m\u001b[1;33m:\u001b[0m\u001b[1;33m\u001b[0m\u001b[0m\n",
      "\u001b[1;32mpandas/_libs/index.pyx\u001b[0m in \u001b[0;36mpandas._libs.index.IndexEngine.get_loc\u001b[1;34m()\u001b[0m\n",
      "\u001b[1;32mpandas/_libs/index.pyx\u001b[0m in \u001b[0;36mpandas._libs.index.IndexEngine.get_loc\u001b[1;34m()\u001b[0m\n",
      "\u001b[1;32mpandas/_libs/hashtable_class_helper.pxi\u001b[0m in \u001b[0;36mpandas._libs.hashtable.PyObjectHashTable.get_item\u001b[1;34m()\u001b[0m\n",
      "\u001b[1;32mpandas/_libs/hashtable_class_helper.pxi\u001b[0m in \u001b[0;36mpandas._libs.hashtable.PyObjectHashTable.get_item\u001b[1;34m()\u001b[0m\n",
      "\u001b[1;31mKeyError\u001b[0m: 0.5",
      "\nDuring handling of the above exception, another exception occurred:\n",
      "\u001b[1;31mKeyError\u001b[0m                                  Traceback (most recent call last)",
      "\u001b[1;32m<ipython-input-110-074e831f2566>\u001b[0m in \u001b[0;36mcalculate_conditional\u001b[1;34m(df, rating_vs, rating_k, j, k, laplacian)\u001b[0m\n\u001b[0;32m     67\u001b[0m     \u001b[1;32mtry\u001b[0m\u001b[1;33m:\u001b[0m\u001b[1;33m\u001b[0m\u001b[0m\n\u001b[1;32m---> 68\u001b[1;33m         \u001b[0mretval\u001b[0m \u001b[1;33m=\u001b[0m \u001b[1;33m(\u001b[0m\u001b[0mct_df\u001b[0m\u001b[1;33m[\u001b[0m\u001b[0mrating_vs\u001b[0m\u001b[1;33m]\u001b[0m\u001b[1;33m.\u001b[0m\u001b[0mvalues\u001b[0m\u001b[1;33m/\u001b[0m\u001b[0mct_df\u001b[0m\u001b[1;33m[\u001b[0m\u001b[1;34m'rowsum'\u001b[0m\u001b[1;33m]\u001b[0m\u001b[1;33m.\u001b[0m\u001b[0mvalues\u001b[0m\u001b[1;33m)\u001b[0m\u001b[1;33m[\u001b[0m\u001b[1;36m0\u001b[0m\u001b[1;33m]\u001b[0m\u001b[1;33m\u001b[0m\u001b[0m\n\u001b[0m\u001b[0;32m     69\u001b[0m     \u001b[1;32mexcept\u001b[0m\u001b[1;33m:\u001b[0m\u001b[1;33m\u001b[0m\u001b[0m\n",
      "\u001b[1;32m~\\Anaconda3\\lib\\site-packages\\pandas\\core\\frame.py\u001b[0m in \u001b[0;36m__getitem__\u001b[1;34m(self, key)\u001b[0m\n\u001b[0;32m   2138\u001b[0m         \u001b[1;32melse\u001b[0m\u001b[1;33m:\u001b[0m\u001b[1;33m\u001b[0m\u001b[0m\n\u001b[1;32m-> 2139\u001b[1;33m             \u001b[1;32mreturn\u001b[0m \u001b[0mself\u001b[0m\u001b[1;33m.\u001b[0m\u001b[0m_getitem_column\u001b[0m\u001b[1;33m(\u001b[0m\u001b[0mkey\u001b[0m\u001b[1;33m)\u001b[0m\u001b[1;33m\u001b[0m\u001b[0m\n\u001b[0m\u001b[0;32m   2140\u001b[0m \u001b[1;33m\u001b[0m\u001b[0m\n",
      "\u001b[1;32m~\\Anaconda3\\lib\\site-packages\\pandas\\core\\frame.py\u001b[0m in \u001b[0;36m_getitem_column\u001b[1;34m(self, key)\u001b[0m\n\u001b[0;32m   2145\u001b[0m         \u001b[1;32mif\u001b[0m \u001b[0mself\u001b[0m\u001b[1;33m.\u001b[0m\u001b[0mcolumns\u001b[0m\u001b[1;33m.\u001b[0m\u001b[0mis_unique\u001b[0m\u001b[1;33m:\u001b[0m\u001b[1;33m\u001b[0m\u001b[0m\n\u001b[1;32m-> 2146\u001b[1;33m             \u001b[1;32mreturn\u001b[0m \u001b[0mself\u001b[0m\u001b[1;33m.\u001b[0m\u001b[0m_get_item_cache\u001b[0m\u001b[1;33m(\u001b[0m\u001b[0mkey\u001b[0m\u001b[1;33m)\u001b[0m\u001b[1;33m\u001b[0m\u001b[0m\n\u001b[0m\u001b[0;32m   2147\u001b[0m \u001b[1;33m\u001b[0m\u001b[0m\n",
      "\u001b[1;32m~\\Anaconda3\\lib\\site-packages\\pandas\\core\\generic.py\u001b[0m in \u001b[0;36m_get_item_cache\u001b[1;34m(self, item)\u001b[0m\n\u001b[0;32m   1841\u001b[0m         \u001b[1;32mif\u001b[0m \u001b[0mres\u001b[0m \u001b[1;32mis\u001b[0m \u001b[1;32mNone\u001b[0m\u001b[1;33m:\u001b[0m\u001b[1;33m\u001b[0m\u001b[0m\n\u001b[1;32m-> 1842\u001b[1;33m             \u001b[0mvalues\u001b[0m \u001b[1;33m=\u001b[0m \u001b[0mself\u001b[0m\u001b[1;33m.\u001b[0m\u001b[0m_data\u001b[0m\u001b[1;33m.\u001b[0m\u001b[0mget\u001b[0m\u001b[1;33m(\u001b[0m\u001b[0mitem\u001b[0m\u001b[1;33m)\u001b[0m\u001b[1;33m\u001b[0m\u001b[0m\n\u001b[0m\u001b[0;32m   1843\u001b[0m             \u001b[0mres\u001b[0m \u001b[1;33m=\u001b[0m \u001b[0mself\u001b[0m\u001b[1;33m.\u001b[0m\u001b[0m_box_item_values\u001b[0m\u001b[1;33m(\u001b[0m\u001b[0mitem\u001b[0m\u001b[1;33m,\u001b[0m \u001b[0mvalues\u001b[0m\u001b[1;33m)\u001b[0m\u001b[1;33m\u001b[0m\u001b[0m\n",
      "\u001b[1;32m~\\Anaconda3\\lib\\site-packages\\pandas\\core\\internals.py\u001b[0m in \u001b[0;36mget\u001b[1;34m(self, item, fastpath)\u001b[0m\n\u001b[0;32m   3842\u001b[0m             \u001b[1;32mif\u001b[0m \u001b[1;32mnot\u001b[0m \u001b[0misna\u001b[0m\u001b[1;33m(\u001b[0m\u001b[0mitem\u001b[0m\u001b[1;33m)\u001b[0m\u001b[1;33m:\u001b[0m\u001b[1;33m\u001b[0m\u001b[0m\n\u001b[1;32m-> 3843\u001b[1;33m                 \u001b[0mloc\u001b[0m \u001b[1;33m=\u001b[0m \u001b[0mself\u001b[0m\u001b[1;33m.\u001b[0m\u001b[0mitems\u001b[0m\u001b[1;33m.\u001b[0m\u001b[0mget_loc\u001b[0m\u001b[1;33m(\u001b[0m\u001b[0mitem\u001b[0m\u001b[1;33m)\u001b[0m\u001b[1;33m\u001b[0m\u001b[0m\n\u001b[0m\u001b[0;32m   3844\u001b[0m             \u001b[1;32melse\u001b[0m\u001b[1;33m:\u001b[0m\u001b[1;33m\u001b[0m\u001b[0m\n",
      "\u001b[1;32m~\\Anaconda3\\lib\\site-packages\\pandas\\core\\indexes\\base.py\u001b[0m in \u001b[0;36mget_loc\u001b[1;34m(self, key, method, tolerance)\u001b[0m\n\u001b[0;32m   2526\u001b[0m             \u001b[1;32mexcept\u001b[0m \u001b[0mKeyError\u001b[0m\u001b[1;33m:\u001b[0m\u001b[1;33m\u001b[0m\u001b[0m\n\u001b[1;32m-> 2527\u001b[1;33m                 \u001b[1;32mreturn\u001b[0m \u001b[0mself\u001b[0m\u001b[1;33m.\u001b[0m\u001b[0m_engine\u001b[0m\u001b[1;33m.\u001b[0m\u001b[0mget_loc\u001b[0m\u001b[1;33m(\u001b[0m\u001b[0mself\u001b[0m\u001b[1;33m.\u001b[0m\u001b[0m_maybe_cast_indexer\u001b[0m\u001b[1;33m(\u001b[0m\u001b[0mkey\u001b[0m\u001b[1;33m)\u001b[0m\u001b[1;33m)\u001b[0m\u001b[1;33m\u001b[0m\u001b[0m\n\u001b[0m\u001b[0;32m   2528\u001b[0m \u001b[1;33m\u001b[0m\u001b[0m\n",
      "\u001b[1;32mpandas/_libs/index.pyx\u001b[0m in \u001b[0;36mpandas._libs.index.IndexEngine.get_loc\u001b[1;34m()\u001b[0m\n",
      "\u001b[1;32mpandas/_libs/index.pyx\u001b[0m in \u001b[0;36mpandas._libs.index.IndexEngine.get_loc\u001b[1;34m()\u001b[0m\n",
      "\u001b[1;32mpandas/_libs/hashtable_class_helper.pxi\u001b[0m in \u001b[0;36mpandas._libs.hashtable.PyObjectHashTable.get_item\u001b[1;34m()\u001b[0m\n",
      "\u001b[1;32mpandas/_libs/hashtable_class_helper.pxi\u001b[0m in \u001b[0;36mpandas._libs.hashtable.PyObjectHashTable.get_item\u001b[1;34m()\u001b[0m\n",
      "\u001b[1;31mKeyError\u001b[0m: 0.5",
      "\nDuring handling of the above exception, another exception occurred:\n",
      "\u001b[1;31mZeroDivisionError\u001b[0m                         Traceback (most recent call last)",
      "\u001b[1;32m<ipython-input-111-9a49d05acbd9>\u001b[0m in \u001b[0;36m<module>\u001b[1;34m()\u001b[0m\n\u001b[1;32m----> 1\u001b[1;33m \u001b[0mr\u001b[0m \u001b[1;33m=\u001b[0m \u001b[0mcalculate_rating\u001b[0m\u001b[1;33m(\u001b[0m\u001b[0mdf_sparse\u001b[0m\u001b[1;33m,\u001b[0m\u001b[1;36m2\u001b[0m\u001b[1;33m,\u001b[0m\u001b[1;36m1\u001b[0m\u001b[1;33m,\u001b[0m\u001b[0mlaplacian\u001b[0m \u001b[1;33m=\u001b[0m \u001b[1;36m0.8\u001b[0m\u001b[1;33m)\u001b[0m\u001b[1;33m\u001b[0m\u001b[0m\n\u001b[0m",
      "\u001b[1;32m<ipython-input-110-074e831f2566>\u001b[0m in \u001b[0;36mcalculate_rating\u001b[1;34m(df, user, item, laplacian)\u001b[0m\n\u001b[0;32m    104\u001b[0m         \u001b[1;32mfor\u001b[0m \u001b[0mk\u001b[0m \u001b[1;32min\u001b[0m \u001b[0muser_items\u001b[0m\u001b[1;33m:\u001b[0m\u001b[1;33m\u001b[0m\u001b[0m\n\u001b[0;32m    105\u001b[0m             \u001b[0muser_rating\u001b[0m \u001b[1;33m=\u001b[0m \u001b[0mdf\u001b[0m\u001b[1;33m[\u001b[0m\u001b[0muser\u001b[0m\u001b[1;33m,\u001b[0m\u001b[0mk\u001b[0m\u001b[1;33m]\u001b[0m\u001b[1;33m\u001b[0m\u001b[0m\n\u001b[1;32m--> 106\u001b[1;33m             \u001b[0mconditional\u001b[0m \u001b[1;33m=\u001b[0m \u001b[0mcalculate_conditional\u001b[0m\u001b[1;33m(\u001b[0m\u001b[0mdf\u001b[0m\u001b[1;33m,\u001b[0m\u001b[0mvs\u001b[0m\u001b[1;33m,\u001b[0m\u001b[0muser_rating\u001b[0m\u001b[1;33m,\u001b[0m\u001b[0mitem\u001b[0m\u001b[1;33m,\u001b[0m\u001b[0mk\u001b[0m\u001b[1;33m,\u001b[0m\u001b[0mlaplacian\u001b[0m \u001b[1;33m=\u001b[0m \u001b[0mlaplacian\u001b[0m\u001b[1;33m)\u001b[0m\u001b[1;33m\u001b[0m\u001b[0m\n\u001b[0m\u001b[0;32m    107\u001b[0m             \u001b[0mmult\u001b[0m \u001b[1;33m=\u001b[0m \u001b[0mmult\u001b[0m \u001b[1;33m*\u001b[0m \u001b[0mconditional\u001b[0m\u001b[1;33m\u001b[0m\u001b[0m\n\u001b[0;32m    108\u001b[0m             \u001b[1;32mif\u001b[0m \u001b[0mnp\u001b[0m\u001b[1;33m.\u001b[0m\u001b[0misnan\u001b[0m\u001b[1;33m(\u001b[0m\u001b[0mconditional\u001b[0m \u001b[1;32mor\u001b[0m \u001b[0mnp\u001b[0m\u001b[1;33m.\u001b[0m\u001b[0misnan\u001b[0m\u001b[1;33m(\u001b[0m\u001b[0mprior\u001b[0m\u001b[1;33m)\u001b[0m\u001b[1;33m)\u001b[0m\u001b[1;33m:\u001b[0m\u001b[1;33m\u001b[0m\u001b[0m\n",
      "\u001b[1;32m<ipython-input-110-074e831f2566>\u001b[0m in \u001b[0;36mcalculate_conditional\u001b[1;34m(df, rating_vs, rating_k, j, k, laplacian)\u001b[0m\n\u001b[0;32m     68\u001b[0m         \u001b[0mretval\u001b[0m \u001b[1;33m=\u001b[0m \u001b[1;33m(\u001b[0m\u001b[0mct_df\u001b[0m\u001b[1;33m[\u001b[0m\u001b[0mrating_vs\u001b[0m\u001b[1;33m]\u001b[0m\u001b[1;33m.\u001b[0m\u001b[0mvalues\u001b[0m\u001b[1;33m/\u001b[0m\u001b[0mct_df\u001b[0m\u001b[1;33m[\u001b[0m\u001b[1;34m'rowsum'\u001b[0m\u001b[1;33m]\u001b[0m\u001b[1;33m.\u001b[0m\u001b[0mvalues\u001b[0m\u001b[1;33m)\u001b[0m\u001b[1;33m[\u001b[0m\u001b[1;36m0\u001b[0m\u001b[1;33m]\u001b[0m\u001b[1;33m\u001b[0m\u001b[0m\n\u001b[0;32m     69\u001b[0m     \u001b[1;32mexcept\u001b[0m\u001b[1;33m:\u001b[0m\u001b[1;33m\u001b[0m\u001b[0m\n\u001b[1;32m---> 70\u001b[1;33m         \u001b[0mretval\u001b[0m \u001b[1;33m=\u001b[0m \u001b[1;36m1\u001b[0m\u001b[1;33m/\u001b[0m\u001b[0mnum_users\u001b[0m\u001b[1;33m\u001b[0m\u001b[0m\n\u001b[0m\u001b[0;32m     71\u001b[0m     \u001b[1;32mreturn\u001b[0m \u001b[0mretval\u001b[0m\u001b[1;33m\u001b[0m\u001b[0m\n\u001b[0;32m     72\u001b[0m \u001b[1;33m\u001b[0m\u001b[0m\n",
      "\u001b[1;31mZeroDivisionError\u001b[0m: division by zero"
     ]
    }
   ],
   "source": [
    "r = calculate_rating(df_sparse,2,1,laplacian = 0.8)"
   ]
  },
  {
   "cell_type": "code",
   "execution_count": 85,
   "metadata": {},
   "outputs": [
    {
     "data": {
      "text/plain": [
       "0.69230769230769229"
      ]
     },
     "execution_count": 85,
     "metadata": {},
     "output_type": "execute_result"
    }
   ],
   "source": [
    "j = 0\n",
    "rating_vs = 3\n",
    "k = 1\n",
    "laplacian = None\n",
    "\n",
    "df_j = df_sparse[:,j]\n",
    "#Find set of users who rated item j rating\n",
    "users = (df_j == rating_vs).nonzero()[0]\n",
    "num_users = len(users)\n",
    "#Of those users, how many rated item k the same as the original user?\n",
    "df_k = df_sparse[users,k]\n",
    "nz = df_k.nonzero()\n",
    "nzk = df_k[nz[0]].toarray()\n",
    "unq,cts = np.unique(nzk,return_counts=True)\n",
    "ct = []\n",
    "\n",
    "d = dict(zip(unq, cts))\n",
    "d = {k:v for k,v in d.items() if k!=0}\n",
    "ct.append(d)\n",
    "#This dataframe now has rows which are films, columns which are ratings, and each entry has the number of times\n",
    "#which that particular rating occurred for that particular film\n",
    "ct_df = pd.DataFrame(ct)\n",
    "numerator_cols = ct_df.columns\n",
    "ct_df['rowsum'] = ct_df.sum(axis=1)\n",
    "\n",
    "if laplacian is not None:\n",
    "    ct_df[numerator_cols] = ct_df[numerator_cols].fillna(0) + laplacian\n",
    "    ct_df['rowsum'] = ct_df['rowsum'].fillna(0) + laplacian * len(numerator_cols)\n",
    "(ct_df[rating_vs].values/ct_df['rowsum'].values)[0]\n"
   ]
  },
  {
   "cell_type": "code",
   "execution_count": 66,
   "metadata": {},
   "outputs": [
    {
     "data": {
      "text/plain": [
       "0    0.692308\n",
       "dtype: float64"
      ]
     },
     "execution_count": 66,
     "metadata": {},
     "output_type": "execute_result"
    }
   ],
   "source": [
    "ct_df[rating_vs]/ct_df['rowsum']"
   ]
  },
  {
   "cell_type": "code",
   "execution_count": 69,
   "metadata": {},
   "outputs": [],
   "source": [
    "??calculate_conditional"
   ]
  },
  {
   "cell_type": "code",
   "execution_count": 87,
   "metadata": {},
   "outputs": [
    {
     "data": {
      "text/plain": [
       "0.69230769230769229"
      ]
     },
     "execution_count": 87,
     "metadata": {},
     "output_type": "execute_result"
    }
   ],
   "source": [
    "calculate_conditional(df_sparse,3,3,0,1)"
   ]
  },
  {
   "cell_type": "code",
   "execution_count": null,
   "metadata": {},
   "outputs": [],
   "source": []
  }
 ],
 "metadata": {
  "kernelspec": {
   "display_name": "Python 3",
   "language": "python",
   "name": "python3"
  },
  "language_info": {
   "codemirror_mode": {
    "name": "ipython",
    "version": 3
   },
   "file_extension": ".py",
   "mimetype": "text/x-python",
   "name": "python",
   "nbconvert_exporter": "python",
   "pygments_lexer": "ipython3",
   "version": "3.6.0"
  },
  "varInspector": {
   "cols": {
    "lenName": 16,
    "lenType": 16,
    "lenVar": 40
   },
   "kernels_config": {
    "python": {
     "delete_cmd_postfix": "",
     "delete_cmd_prefix": "del ",
     "library": "var_list.py",
     "varRefreshCmd": "print(var_dic_list())"
    },
    "r": {
     "delete_cmd_postfix": ") ",
     "delete_cmd_prefix": "rm(",
     "library": "var_list.r",
     "varRefreshCmd": "cat(var_dic_list()) "
    }
   },
   "types_to_exclude": [
    "module",
    "function",
    "builtin_function_or_method",
    "instance",
    "_Feature"
   ],
   "window_display": false
  }
 },
 "nbformat": 4,
 "nbformat_minor": 2
}
