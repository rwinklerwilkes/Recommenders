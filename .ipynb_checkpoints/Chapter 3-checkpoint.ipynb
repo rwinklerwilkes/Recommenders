{
 "cells": [
  {
   "cell_type": "code",
   "execution_count": 1,
   "metadata": {},
   "outputs": [],
   "source": [
    "import numpy as np\n",
    "import pandas as pd\n",
    "from matplotlib import pyplot as plt\n",
    "from scipy.sparse import csc_matrix, csr_matrix"
   ]
  },
  {
   "cell_type": "code",
   "execution_count": 2,
   "metadata": {},
   "outputs": [],
   "source": [
    "def load_movielens(mean_adjust = 'user'):\n",
    "    '''Loads movielens set into a Dataframe. Adjusted rating is user by default'''\n",
    "    path = 'ml-latest-small\\\\'\n",
    "    df = pd.read_csv(path + 'ratings.csv')\n",
    "    movie_xref = pd.read_csv(path + 'movies.csv')\n",
    "    users = df.groupby('userId').mean()['rating'].reset_index()\n",
    "    users['user_mean_rating'] = users['rating']\n",
    "    users['uid'] = users.index\n",
    "    users.drop('rating',inplace=True,axis=1)\n",
    "    df = df.merge(users,left_on='userId',right_on='userId')\n",
    "    movies = df.groupby('movieId').mean()['rating'].reset_index()\n",
    "    movies['movie_mean_rating'] = movies['rating']\n",
    "    movies = movies.merge(movie_xref,left_on='movieId',right_on='movieId')\n",
    "    movies.drop('rating',inplace=True,axis=1)\n",
    "    movies['mid'] = movies.index\n",
    "    df = df.merge(movies,left_on='movieId',right_on='movieId')\n",
    "    if mean_adjust == 'user':\n",
    "        df['adjusted_rating'] = df['rating'] - df['user_mean_rating']\n",
    "    elif mean_adjust == 'movie':\n",
    "        df['adjusted_rating'] = df['rating'] - df['movie_mean_rating']\n",
    "    return df\n",
    "\n",
    "def test_sparse(sparse_matrix):\n",
    "    n = sparse_matrix.nnz\n",
    "    s = sparse_matrix.shape\n",
    "    return 1-n/(s[0]*s[1])"
   ]
  },
  {
   "cell_type": "code",
   "execution_count": 3,
   "metadata": {},
   "outputs": [],
   "source": [
    "df = load_movielens()\n",
    "users_list = df['uid']\n",
    "movies_list = df['mid']\n",
    "ratings_list = df['rating']\n",
    "df_sparse = csr_matrix((ratings_list,(users_list,movies_list)))"
   ]
  },
  {
   "cell_type": "markdown",
   "metadata": {},
   "source": [
    "# Naive Bayes"
   ]
  },
  {
   "cell_type": "code",
   "execution_count": 6,
   "metadata": {},
   "outputs": [],
   "source": [
    "def calculate_priors(df):\n",
    "    m_ct = df.groupby('mid').count()['uid'].reset_index()\n",
    "    mr_ct = df.groupby(['mid','rating']).count()['uid'].reset_index()\n",
    "    total_ct = m_ct.merge(mr_ct,left_on='mid',right_on='mid')\n",
    "    total_ct['prob'] = total_ct['uid_y']/total_ct['uid_x']\n",
    "    return total_ct[['mid','rating','prob']]\n",
    "\n",
    "def calculate_priors_sparse(df_sparse,laplacian = None):\n",
    "    '''laplacian should be a floating point'''\n",
    "    '''This takes a sparse matrix which has as columns the set of items to be rated'''\n",
    "    '''The rows are each one user.'''\n",
    "    '''Nonzero entries are ratings of items they have rated'''\n",
    "    \n",
    "    num_cols = df_sparse.shape[1]\n",
    "    all_ratings = list(set(df_sparse.data))\n",
    "    all_ratings = all_ratings\n",
    "    all_ratings = sorted(all_ratings)\n",
    "    num_ratings = len(all_ratings)\n",
    "    ct_df = np.zeros((num_cols,num_ratings))\n",
    "\n",
    "    for c in range(num_cols):\n",
    "        #counts the number of unique ratings (per column) and how many times that rating occurred\n",
    "        unq,cts = np.unique(df_sparse[:,c].toarray(),return_counts=True)\n",
    "        d = dict(zip(unq, cts))\n",
    "        d = {k:v for k,v in d.items() if k > 0}\n",
    "        rating_dict = {rating:0 for rating in all_ratings}\n",
    "        for k,v in d.items():\n",
    "            rating_dict[k] = v\n",
    "        #d = {k:v for k,v in d.items() if k!=0}\n",
    "        ct_df[c] = [i[1] for i in sorted(rating_dict.items(),key=lambda x: x[0])]\n",
    "    #This dataframe now has rows which are films, columns which are ratings, and each entry has the number of times\n",
    "    #which that particular rating occurred for that particular film\n",
    "    ct_df = pd.DataFrame(ct_df)\n",
    "    ct_df.columns = all_ratings\n",
    "    numerator_cols = ct_df.columns\n",
    "    ct_df['rowsum'] = ct_df.sum(axis=1)\n",
    "\n",
    "    if laplacian is not None:\n",
    "        ct_df[numerator_cols] = ct_df[numerator_cols].fillna(0) + laplacian\n",
    "        ct_df['rowsum'] = ct_df['rowsum'].fillna(0) + laplacian * len(numerator_cols)\n",
    "    ct_df = ct_df.apply(lambda x: x/x.rowsum,axis=1)\n",
    "    ct_df = ct_df.drop('rowsum',axis=1)\n",
    "    ct_df = ct_df.unstack().reset_index()\n",
    "    ct_df.columns = ['rating','mid','prob']\n",
    "    return ct_df\n",
    "\n",
    "#Will need to fix this similarly to the above\n",
    "def calculate_conditional(df,rating_vs,rating_k,j,k,laplacian = None):\n",
    "    '''\n",
    "    df is the sparse dataframe containing the data to be trained/rated\n",
    "    rating_vs is the rating that we're comparing against for the conditional - \n",
    "        P(r_uk | r_uj = v_s), what's the likelihood that we observed rating r_uk for item k (user u) given that\n",
    "        user u gave item j the rating v_s\n",
    "    '''\n",
    "    total_users = df.shape[0]\n",
    "    df_j = df[:,j]\n",
    "    #Find set of users who rated item j rating\n",
    "    users = (df_j == rating_vs).nonzero()[0]\n",
    "    num_users = len(users)\n",
    "    #Of those users, how many rated item k the same as the original user?\n",
    "    df_k = df_sparse[users,k]\n",
    "    nz = df_k.nonzero()\n",
    "    nzk = df_k[nz[0]].toarray()\n",
    "    unq,cts = np.unique(nzk,return_counts=True)\n",
    "    ct = []\n",
    "\n",
    "    d = dict(zip(unq, cts))\n",
    "    d = {k:v for k,v in d.items() if k!=0}\n",
    "    ct.append(d)\n",
    "    #This dataframe now has rows which are films, columns which are ratings, and each entry has the number of times\n",
    "    #which that particular rating occurred for that particular film\n",
    "    ct_df = pd.DataFrame(ct)\n",
    "    numerator_cols = ct_df.columns\n",
    "    ct_df['rowsum'] = ct_df.sum(axis=1)\n",
    "\n",
    "    if laplacian is not None:\n",
    "        ct_df[numerator_cols] = ct_df[numerator_cols].fillna(0) + laplacian\n",
    "        ct_df['rowsum'] = ct_df['rowsum'].fillna(0) + laplacian * total_users\n",
    "    try:\n",
    "        retval = (ct_df[rating_vs].values/ct_df['rowsum'].values)[0]\n",
    "    except:\n",
    "        retval = 1/total_users\n",
    "    return retval\n",
    "    \n",
    "def calculate_rating(df,user,item,laplacian = None):\n",
    "    '''\n",
    "    df: sparse array (csc?) containing the data to be predicted\n",
    "    user is index of user to look at\n",
    "    item is item to be rated\n",
    "    \n",
    "    for all items that the user rated, we need to see, for each rating possible to use,\n",
    "    what the likelihood is that user rated item, that rating. In order to do so, we use the formula:\n",
    "    \n",
    "    P(r_uj = v_s | Observed ratings of user u) is proportional to P(r_uj = v_s) * PI(P(r_uk | r_uj = v_s) for k in I_u)\n",
    "    Where I_u is the set of items that user u has rated\n",
    "    P(r_uj = vs) is called the prior probability, and we'll need to calculate that for each item first\n",
    "    P(r_uk | r_uj = v_s) is called the conditional probability.\n",
    "    '''\n",
    "    \n",
    "    #priors contains the prior probabilities for all items\n",
    "    #for a given item, it's the list of all ratings and what ratio, \n",
    "    #for each rating for that item, what was the likelihood it occurred\n",
    "    priors = calculate_priors_sparse(df,laplacian = laplacian)\n",
    "    vals = list(set(df.data))\n",
    "    num = 0\n",
    "    denom = 0\n",
    "    user_items = df[user,:].nonzero()[1]\n",
    "    for i in range(len(vals)):\n",
    "        vs = vals[i]\n",
    "        try:\n",
    "            prior = priors.loc[(priors['mid']==item)&(priors['rating']==vs),'prob'].values[0]\n",
    "        except:\n",
    "            prior = 0\n",
    "            continue\n",
    "        mult = 1\n",
    "        for k in user_items:\n",
    "            user_rating = df[user,k]\n",
    "            conditional = calculate_conditional(df,vs,user_rating,item,k,laplacian = laplacian)\n",
    "            mult = mult * conditional \n",
    "            if np.isnan(conditional or np.isnan(prior)):\n",
    "                print('vs: %0.3f rating: %0.3f item: %i k: %i')\n",
    "        num += vs*prior*mult\n",
    "        denom += prior * mult\n",
    "    return num/denom\n",
    "\n",
    "def print_user_movies(df,user):\n",
    "    movies = df.loc[df['uid']==user,'title']\n",
    "    print(movies)"
   ]
  },
  {
   "cell_type": "code",
   "execution_count": null,
   "metadata": {},
   "outputs": [],
   "source": []
  },
  {
   "cell_type": "code",
   "execution_count": 100,
   "metadata": {},
   "outputs": [],
   "source": [
    "test = [\n",
    "    [1,-1,1,-1,1,-1],\n",
    "    [1,1,0,-1,-1,-1],\n",
    "    [0,1,1,-1,-1,0],\n",
    "    [-1,-1,-1,1,1,1],\n",
    "    [-1,0,-1,1,1,1]\n",
    "]\n",
    "test_array = np.array(test)\n",
    "test_sparse = csc_matrix(test_array)"
   ]
  },
  {
   "cell_type": "code",
   "execution_count": 134,
   "metadata": {},
   "outputs": [],
   "source": [
    "p = calculate_priors_sparse(df_sparse,laplacian=0.8)"
   ]
  },
  {
   "cell_type": "code",
   "execution_count": 135,
   "metadata": {},
   "outputs": [
    {
     "name": "stdout",
     "output_type": "stream",
     "text": [
      "3.98558709162\n"
     ]
    }
   ],
   "source": [
    "r = calculate_rating(df_sparse,2,1,laplacian = 0.8)\n",
    "print(r)"
   ]
  },
  {
   "cell_type": "code",
   "execution_count": 136,
   "metadata": {},
   "outputs": [
    {
     "name": "stdout",
     "output_type": "stream",
     "text": [
      "4.00000000244\n"
     ]
    }
   ],
   "source": [
    "r = calculate_rating(df_sparse,2,321,laplacian=0.8)\n",
    "print(r)"
   ]
  },
  {
   "cell_type": "code",
   "execution_count": 137,
   "metadata": {},
   "outputs": [
    {
     "name": "stdout",
     "output_type": "stream",
     "text": [
      "2.99619678703\n"
     ]
    }
   ],
   "source": [
    "r = calculate_rating(df_sparse,2,595,laplacian=0.8)\n",
    "print(r)"
   ]
  },
  {
   "cell_type": "code",
   "execution_count": 20,
   "metadata": {},
   "outputs": [
    {
     "name": "stdout",
     "output_type": "stream",
     "text": [
      "3.66251781122\n"
     ]
    }
   ],
   "source": [
    "r = calculate_rating(df_sparse,580,1,laplacian=0.8)\n",
    "print(r)"
   ]
  },
  {
   "cell_type": "markdown",
   "metadata": {},
   "source": [
    "# Latent Factor Models"
   ]
  },
  {
   "cell_type": "code",
   "execution_count": 88,
   "metadata": {},
   "outputs": [],
   "source": [
    "def construct_factors(df_sparse,num_factors):\n",
    "    '''Constructs the num_factors user factors and item factors for the sparse matrix'''\n",
    "    m = df_sparse.shape[0]\n",
    "    n = df_sparse.shape[1]\n",
    "    U = np.random.rand(m,num_factors)\n",
    "    V = np.random.rand(n,num_factors)\n",
    "    return U,V\n",
    "\n",
    "def error(df_sparse,U,V):\n",
    "    '''Calculates the matrix portion of the error term'''\n",
    "    d = df_sparse.nonzero()\n",
    "    rows = d[0].reshape(1,-1).flatten()\n",
    "    cols = d[1].reshape(1,-1).flatten()\n",
    "    e = df_sparse[d] - np.matmul(U,V.T)[d]\n",
    "    e = np.asarray(e).flatten()\n",
    "    e = csc_matrix((e,(rows,cols)))\n",
    "    return e\n",
    "\n",
    "def frobenius_norm(df_sparse,U,V):\n",
    "    e = error(df_sparse,U,V)\n",
    "    e = e.power(2)\n",
    "    return e.sum()\n",
    "\n",
    "def cost_function(df_sparse,U,V,l):\n",
    "    '''Calculates the cost function to minimize, l is the regularization term'''\n",
    "    e = frobenius_norm(df_sparse,U,V)\n",
    "    usum = np.square(U).sum()\n",
    "    vsum = np.square(V).sum()\n",
    "    J = 0.5 * e + (l/2)*usum + (l/2)*vsum\n",
    "    return J\n",
    "\n",
    "def update_factors(df_sparse,U,V,l,alpha):\n",
    "    '''alpha is learning rate, l is regularization parameter'''\n",
    "    nz = df_sparse.nonzero()\n",
    "    E = error(df_sparse,U,V)\n",
    "    U_temp = U*(1-alpha * l) + alpha * (E * V)\n",
    "    V_temp = V*(1-alpha * l) + alpha * (E.T * U)\n",
    "    return U_temp,V_temp\n",
    "\n",
    "def fit(df_sparse,num_factors,learning_rate,regularization_rate):\n",
    "    U,V = construct_factors(df_sparse,num_factors)\n",
    "    J = cost_function(df_sparse,U,V,regularization_rate)\n",
    "    prev = J\n",
    "    iter_ctr = 0\n",
    "    while True:\n",
    "        iter_ctr += 1\n",
    "        U,V = update_factors(df_sparse,U,V,regularization_rate,learning_rate)\n",
    "        J = cost_function(df_sparse,U,V,regularization_rate)\n",
    "        pct_change = J/prev-1\n",
    "        if abs(pct_change) < 0.001 or iter_ctr > 1000:\n",
    "            break\n",
    "        prev = J\n",
    "    return U,V\n",
    "    "
   ]
  },
  {
   "cell_type": "code",
   "execution_count": 89,
   "metadata": {},
   "outputs": [],
   "source": [
    "U,V = fit(df_sparse,10,0.0001,0.8)\n",
    "pred_rat = np.matmul(U,V.T)"
   ]
  },
  {
   "cell_type": "code",
   "execution_count": 81,
   "metadata": {},
   "outputs": [],
   "source": [
    "e = error(df_sparse,U,V)"
   ]
  },
  {
   "cell_type": "code",
   "execution_count": 82,
   "metadata": {},
   "outputs": [
    {
     "name": "stdout",
     "output_type": "stream",
     "text": [
      "2.5\n",
      "0.0479521599001\n",
      "2.4520478401\n"
     ]
    }
   ],
   "source": [
    "print(df_sparse[0,30])\n",
    "print(e[0,30])\n",
    "print(pred_rat[0,30])"
   ]
  },
  {
   "cell_type": "code",
   "execution_count": 83,
   "metadata": {},
   "outputs": [
    {
     "data": {
      "text/plain": [
       "54999.428332574898"
      ]
     },
     "execution_count": 83,
     "metadata": {},
     "output_type": "execute_result"
    }
   ],
   "source": [
    "cost_function(df_sparse,U,V,l)"
   ]
  },
  {
   "cell_type": "code",
   "execution_count": 84,
   "metadata": {},
   "outputs": [],
   "source": [
    "e = error(df_sparse,U,V)"
   ]
  },
  {
   "cell_type": "markdown",
   "metadata": {},
   "source": [
    "# Split into Train-Test Sets"
   ]
  },
  {
   "cell_type": "code",
   "execution_count": 4,
   "metadata": {},
   "outputs": [],
   "source": [
    "from numpy.random import choice\n",
    "from scipy.sparse import lil_matrix\n",
    "\n",
    "def train_test_split(sparse_matrix,pct):\n",
    "    '''Splits a sparse matrix into two sets - a train set and a test set'''\n",
    "    nz_coord = list(zip(*sparse_matrix.nonzero()))\n",
    "    nz_coord_array = np.array(nz_coord)\n",
    "    num_rand = int(np.floor(len(nz_coord)*(pct/100.0)))\n",
    "    n = len(nz_coord)\n",
    "    c = choice(n,size=num_rand,replace=False)\n",
    "    rows = nz_coord_array[c][:,0]\n",
    "    cols = nz_coord_array[c][:,1]\n",
    "    vals = np.array(sparse_matrix[rows,cols]).flatten()\n",
    "    train = sparse_matrix.copy()\n",
    "    test = lil_matrix(train.shape)\n",
    "    test[rows,cols] = vals\n",
    "    test = test.tocsr()\n",
    "    train[rows,cols] = 0\n",
    "    train.eliminate_zeros()\n",
    "    return train,test"
   ]
  },
  {
   "cell_type": "code",
   "execution_count": 5,
   "metadata": {},
   "outputs": [],
   "source": [
    "train,test = train_test_split(df_sparse,5)"
   ]
  },
  {
   "cell_type": "code",
   "execution_count": 94,
   "metadata": {},
   "outputs": [
    {
     "data": {
      "text/plain": [
       "<671x9066 sparse matrix of type '<class 'numpy.float64'>'\n",
       "\twith 5000 stored elements in Compressed Sparse Row format>"
      ]
     },
     "execution_count": 94,
     "metadata": {},
     "output_type": "execute_result"
    }
   ],
   "source": [
    "test"
   ]
  },
  {
   "cell_type": "code",
   "execution_count": 95,
   "metadata": {},
   "outputs": [],
   "source": [
    "U,V = fit(train,10,0.0001,0.8)\n",
    "pred_rat = np.matmul(U,V.T)"
   ]
  },
  {
   "cell_type": "code",
   "execution_count": 96,
   "metadata": {},
   "outputs": [],
   "source": [
    "e = error(test,U,V)"
   ]
  },
  {
   "cell_type": "code",
   "execution_count": 97,
   "metadata": {},
   "outputs": [
    {
     "data": {
      "text/plain": [
       "<671x9057 sparse matrix of type '<class 'numpy.float64'>'\n",
       "\twith 5000 stored elements in Compressed Sparse Column format>"
      ]
     },
     "execution_count": 97,
     "metadata": {},
     "output_type": "execute_result"
    }
   ],
   "source": [
    "e"
   ]
  },
  {
   "cell_type": "markdown",
   "metadata": {},
   "source": [
    "# Playing With Dimensionality Reduction"
   ]
  },
  {
   "cell_type": "code",
   "execution_count": 4,
   "metadata": {},
   "outputs": [
    {
     "data": {
      "text/plain": [
       "<671x9066 sparse matrix of type '<class 'numpy.float64'>'\n",
       "\twith 100004 stored elements in Compressed Sparse Row format>"
      ]
     },
     "execution_count": 4,
     "metadata": {},
     "output_type": "execute_result"
    }
   ],
   "source": [
    "df_sparse"
   ]
  },
  {
   "cell_type": "code",
   "execution_count": 6,
   "metadata": {},
   "outputs": [],
   "source": [
    "from sklearn.cluster import MiniBatchKMeans, KMeans"
   ]
  },
  {
   "cell_type": "code",
   "execution_count": 10,
   "metadata": {},
   "outputs": [],
   "source": [
    "inertia = []\n",
    "for i in range(2,51):\n",
    "    num_clusters = i\n",
    "    km = MiniBatchKMeans(num_clusters)\n",
    "    km.fit(df_sparse)\n",
    "    inertia.append(km.inertia_)"
   ]
  },
  {
   "cell_type": "code",
   "execution_count": 11,
   "metadata": {},
   "outputs": [
    {
     "data": {
      "image/png": "[encoded data removed]",
      "text/plain": [
       "<matplotlib.figure.Figure at 0x1e0682b3588>"
      ]
     },
     "metadata": {},
     "output_type": "display_data"
    }
   ],
   "source": [
    "plt.plot(list(range(2,51)),inertia)\n",
    "plt.show()"
   ]
  },
  {
   "cell_type": "code",
   "execution_count": 12,
   "metadata": {},
   "outputs": [],
   "source": [
    "num_clusters = 35\n",
    "km = MiniBatchKMeans(num_clusters)\n",
    "labels = km.fit_predict(df_sparse)"
   ]
  },
  {
   "cell_type": "code",
   "execution_count": 13,
   "metadata": {},
   "outputs": [],
   "source": [
    "user_ids = pd.DataFrame(sorted(df['uid'].unique()),columns=['uid'])\n",
    "user_ids['cluster'] = labels"
   ]
  },
  {
   "cell_type": "code",
   "execution_count": 14,
   "metadata": {},
   "outputs": [],
   "source": [
    "df = df.merge(user_ids,left_on='uid',right_on='uid')"
   ]
  },
  {
   "cell_type": "code",
   "execution_count": 33,
   "metadata": {},
   "outputs": [],
   "source": [
    "cluster_list = df['cluster']\n",
    "movies_list = df['mid']\n",
    "ratings_list = df['rating']\n",
    "ratings_list_implicit = [1 for i in ratings_list]\n",
    "new_sparse = csr_matrix((ratings_list,(cluster_list,movies_list)))"
   ]
  },
  {
   "cell_type": "markdown",
   "metadata": {},
   "source": [
    "# Cluster Analysis"
   ]
  },
  {
   "cell_type": "code",
   "execution_count": 31,
   "metadata": {},
   "outputs": [
    {
     "data": {
      "text/plain": [
       "29"
      ]
     },
     "execution_count": 31,
     "metadata": {},
     "output_type": "execute_result"
    }
   ],
   "source": [
    "cluster_uid_ct = df.groupby('cluster').uid.nunique()\n",
    "#How many of the 35 clusters have only 1 or 2 users?\n",
    "len(cluster_uid_ct[cluster_uid_ct<=2])\n",
    "#Wayyyy too many single/two user clusters - lack of density in dataset"
   ]
  },
  {
   "cell_type": "code",
   "execution_count": 7,
   "metadata": {},
   "outputs": [
    {
     "name": "stderr",
     "output_type": "stream",
     "text": [
      "WARNING:root:Intel MKL BLAS detected. Its highly recommend to set the environment variable 'export MKL_NUM_THREADS=1' to disable its internal multithreading\n"
     ]
    }
   ],
   "source": [
    "#What if we train CF and then cluster?\n",
    "\n",
    "import implicit\n",
    "factors = 20\n",
    "regularization = 0.1\n",
    "iterations = 50\n",
    "model = implicit.als.AlternatingLeastSquares(factors=factors,regularization=regularization,iterations=iterations)\n",
    "\n",
    "# train the model on a sparse matrix of item/user/confidence weights\n",
    "model.fit(df_sparse.T)\n",
    "\n",
    "user_vecs = model.user_factors\n",
    "item_vecs = model.item_factors"
   ]
  },
  {
   "cell_type": "code",
   "execution_count": 8,
   "metadata": {},
   "outputs": [
    {
     "data": {
      "text/plain": [
       "(671, 20)"
      ]
     },
     "execution_count": 8,
     "metadata": {},
     "output_type": "execute_result"
    }
   ],
   "source": [
    "user_vecs.shape"
   ]
  },
  {
   "cell_type": "code",
   "execution_count": 9,
   "metadata": {},
   "outputs": [],
   "source": [
    "inertia = []\n",
    "for i in range(2,51):\n",
    "    num_clusters = i\n",
    "    km = MiniBatchKMeans(num_clusters)\n",
    "    km.fit(user_vecs)\n",
    "    inertia.append(km.inertia_)"
   ]
  },
  {
   "cell_type": "code",
   "execution_count": 10,
   "metadata": {},
   "outputs": [
    {
     "data": {
      "image/png": "[encoded data removed]",
      "text/plain": [
       "<matplotlib.figure.Figure at 0x207dc052160>"
      ]
     },
     "metadata": {},
     "output_type": "display_data"
    }
   ],
   "source": [
    "plt.plot(list(range(2,51)),inertia)\n",
    "plt.show()"
   ]
  },
  {
   "cell_type": "code",
   "execution_count": 11,
   "metadata": {},
   "outputs": [],
   "source": [
    "num_clusters = 10\n",
    "km = MiniBatchKMeans(num_clusters)\n",
    "labels = km.fit_predict(user_vecs)\n",
    "user_ids = pd.DataFrame(sorted(df['uid'].unique()),columns=['uid'])\n",
    "user_ids['cluster'] = labels"
   ]
  },
  {
   "cell_type": "code",
   "execution_count": 12,
   "metadata": {},
   "outputs": [],
   "source": [
    "user_ids.groupby('cluster').uid.nunique()\n",
    "df = df.merge(user_ids,left_on='uid',right_on='uid')"
   ]
  },
  {
   "cell_type": "code",
   "execution_count": 25,
   "metadata": {},
   "outputs": [],
   "source": [
    "df = df.join(df['genres'].str.get_dummies())"
   ]
  },
  {
   "cell_type": "code",
   "execution_count": 31,
   "metadata": {},
   "outputs": [
    {
     "data": {
      "text/html": [
       "<div>\n",
       "<style scoped>\n",
       "    .dataframe tbody tr th:only-of-type {\n",
       "        vertical-align: middle;\n",
       "    }\n",
       "\n",
       "    .dataframe tbody tr th {\n",
       "        vertical-align: top;\n",
       "    }\n",
       "\n",
       "    .dataframe thead tr th {\n",
       "        text-align: left;\n",
       "    }\n",
       "\n",
       "    .dataframe thead tr:last-of-type th {\n",
       "        text-align: right;\n",
       "    }\n",
       "</style>\n",
       "<table border=\"1\" class=\"dataframe\">\n",
       "  <thead>\n",
       "    <tr>\n",
       "      <th></th>\n",
       "      <th colspan=\"2\" halign=\"left\">rating</th>\n",
       "      <th colspan=\"2\" halign=\"left\">Drama</th>\n",
       "    </tr>\n",
       "    <tr>\n",
       "      <th></th>\n",
       "      <th>count</th>\n",
       "      <th>mean</th>\n",
       "      <th>count</th>\n",
       "      <th>mean</th>\n",
       "    </tr>\n",
       "    <tr>\n",
       "      <th>cluster</th>\n",
       "      <th></th>\n",
       "      <th></th>\n",
       "      <th></th>\n",
       "      <th></th>\n",
       "    </tr>\n",
       "  </thead>\n",
       "  <tbody>\n",
       "    <tr>\n",
       "      <th>0</th>\n",
       "      <td>4742</td>\n",
       "      <td>3.650148</td>\n",
       "      <td>4742</td>\n",
       "      <td>0.462885</td>\n",
       "    </tr>\n",
       "    <tr>\n",
       "      <th>1</th>\n",
       "      <td>23489</td>\n",
       "      <td>3.696965</td>\n",
       "      <td>23489</td>\n",
       "      <td>0.455660</td>\n",
       "    </tr>\n",
       "    <tr>\n",
       "      <th>2</th>\n",
       "      <td>19919</td>\n",
       "      <td>3.528641</td>\n",
       "      <td>19919</td>\n",
       "      <td>0.388423</td>\n",
       "    </tr>\n",
       "    <tr>\n",
       "      <th>3</th>\n",
       "      <td>13586</td>\n",
       "      <td>3.478986</td>\n",
       "      <td>13586</td>\n",
       "      <td>0.520609</td>\n",
       "    </tr>\n",
       "    <tr>\n",
       "      <th>4</th>\n",
       "      <td>10239</td>\n",
       "      <td>3.388661</td>\n",
       "      <td>10239</td>\n",
       "      <td>0.454048</td>\n",
       "    </tr>\n",
       "    <tr>\n",
       "      <th>5</th>\n",
       "      <td>10267</td>\n",
       "      <td>3.831109</td>\n",
       "      <td>10267</td>\n",
       "      <td>0.537255</td>\n",
       "    </tr>\n",
       "    <tr>\n",
       "      <th>6</th>\n",
       "      <td>4153</td>\n",
       "      <td>3.577414</td>\n",
       "      <td>4153</td>\n",
       "      <td>0.390802</td>\n",
       "    </tr>\n",
       "    <tr>\n",
       "      <th>7</th>\n",
       "      <td>1518</td>\n",
       "      <td>3.696970</td>\n",
       "      <td>1518</td>\n",
       "      <td>0.386693</td>\n",
       "    </tr>\n",
       "    <tr>\n",
       "      <th>8</th>\n",
       "      <td>3989</td>\n",
       "      <td>3.561544</td>\n",
       "      <td>3989</td>\n",
       "      <td>0.411883</td>\n",
       "    </tr>\n",
       "    <tr>\n",
       "      <th>9</th>\n",
       "      <td>8102</td>\n",
       "      <td>2.958405</td>\n",
       "      <td>8102</td>\n",
       "      <td>0.373488</td>\n",
       "    </tr>\n",
       "  </tbody>\n",
       "</table>\n",
       "</div>"
      ],
      "text/plain": [
       "        rating            Drama          \n",
       "         count      mean  count      mean\n",
       "cluster                                  \n",
       "0         4742  3.650148   4742  0.462885\n",
       "1        23489  3.696965  23489  0.455660\n",
       "2        19919  3.528641  19919  0.388423\n",
       "3        13586  3.478986  13586  0.520609\n",
       "4        10239  3.388661  10239  0.454048\n",
       "5        10267  3.831109  10267  0.537255\n",
       "6         4153  3.577414   4153  0.390802\n",
       "7         1518  3.696970   1518  0.386693\n",
       "8         3989  3.561544   3989  0.411883\n",
       "9         8102  2.958405   8102  0.373488"
      ]
     },
     "execution_count": 31,
     "metadata": {},
     "output_type": "execute_result"
    }
   ],
   "source": [
    "df.groupby('cluster').agg(['count','mean'])[['rating','Drama']]"
   ]
  },
  {
   "cell_type": "code",
   "execution_count": 97,
   "metadata": {},
   "outputs": [],
   "source": [
    "#Let's look at cluster 5 and see what's going on there\n",
    "five = df[df['cluster']==5]"
   ]
  },
  {
   "cell_type": "code",
   "execution_count": 92,
   "metadata": {},
   "outputs": [],
   "source": [
    "unique_genres = list(df['genres'].str.get_dummies().columns[1:])"
   ]
  },
  {
   "cell_type": "code",
   "execution_count": 93,
   "metadata": {},
   "outputs": [
    {
     "data": {
      "text/plain": [
       "Action         0.047633\n",
       "Adventure      0.056519\n",
       "Animation      0.000885\n",
       "Children       0.019264\n",
       "Comedy        -0.013973\n",
       "Crime         -0.006527\n",
       "Documentary   -0.013004\n",
       "Drama         -0.060809\n",
       "Fantasy       -0.011045\n",
       "Film-Noir     -0.007447\n",
       "Horror        -0.048793\n",
       "IMAX          -0.028265\n",
       "Musical        0.004824\n",
       "Mystery       -0.011688\n",
       "Romance        0.026674\n",
       "Sci-Fi        -0.006740\n",
       "Thriller       0.110588\n",
       "War           -0.025215\n",
       "Western       -0.015825\n",
       "dtype: float64"
      ]
     },
     "execution_count": 93,
     "metadata": {},
     "output_type": "execute_result"
    }
   ],
   "source": [
    "#They watch Drama a little more, watch action/adventure a little less\n",
    "m = df.shape[0]\n",
    "overall_pct = df[unique_genres].sum()/m\n",
    "m = five.shape[0]\n",
    "five[unique_genres].sum()/m - overall_pct"
   ]
  },
  {
   "cell_type": "code",
   "execution_count": 94,
   "metadata": {},
   "outputs": [
    {
     "data": {
      "text/plain": [
       "Action         0.270549\n",
       "Adventure      0.220161\n",
       "Animation      0.061698\n",
       "Children       0.086797\n",
       "Comedy         0.380245\n",
       "Crime          0.162653\n",
       "Documentary    0.015639\n",
       "Drama          0.447502\n",
       "Fantasy        0.106566\n",
       "Film-Noir      0.011400\n",
       "Horror         0.067897\n",
       "IMAX           0.031559\n",
       "Musical        0.047218\n",
       "Mystery        0.076247\n",
       "Romance        0.193352\n",
       "Sci-Fi         0.153644\n",
       "Thriller       0.252390\n",
       "War            0.050248\n",
       "Western        0.019119\n",
       "dtype: float64"
      ]
     },
     "execution_count": 94,
     "metadata": {},
     "output_type": "execute_result"
    }
   ],
   "source": [
    "m = df.shape[0]\n",
    "df[unique_genres].sum()/m"
   ]
  },
  {
   "cell_type": "code",
   "execution_count": 104,
   "metadata": {},
   "outputs": [
    {
     "name": "stdout",
     "output_type": "stream",
     "text": [
      "Genre: Action\t\tAvg_Rating: -0.09\n",
      "Genre: Adventure\t\tAvg_Rating: -0.04\n",
      "Genre: Animation\t\tAvg_Rating: 0.08\n",
      "Genre: Children\t\tAvg_Rating: -0.07\n",
      "Genre: Comedy\t\tAvg_Rating: -0.08\n",
      "Genre: Crime\t\tAvg_Rating: 0.12\n",
      "Genre: Documentary\t\tAvg_Rating: 0.31\n",
      "Genre: Drama\t\tAvg_Rating: 0.12\n",
      "Genre: Fantasy\t\tAvg_Rating: -0.03\n",
      "Genre: Film-Noir\t\tAvg_Rating: 0.34\n",
      "Genre: Horror\t\tAvg_Rating: -0.17\n",
      "Genre: IMAX\t\tAvg_Rating: 0.01\n",
      "Genre: Musical\t\tAvg_Rating: 0.05\n",
      "Genre: Mystery\t\tAvg_Rating: 0.11\n",
      "Genre: Romance\t\tAvg_Rating: 0.01\n",
      "Genre: Sci-Fi\t\tAvg_Rating: -0.10\n",
      "Genre: Thriller\t\tAvg_Rating: -0.02\n",
      "Genre: War\t\tAvg_Rating: 0.22\n",
      "Genre: Western\t\tAvg_Rating: 0.02\n"
     ]
    }
   ],
   "source": [
    "for g in unique_genres:\n",
    "    print('Genre: %s\\t\\tAvg_Rating: %0.2f'%(g,df.loc[df[g]==1,'adjusted_rating'].mean()))"
   ]
  },
  {
   "cell_type": "code",
   "execution_count": 103,
   "metadata": {},
   "outputs": [
    {
     "name": "stdout",
     "output_type": "stream",
     "text": [
      "Genre: Action\t\tAvg_Rating: -0.21\n",
      "Genre: Adventure\t\tAvg_Rating: -0.15\n",
      "Genre: Animation\t\tAvg_Rating: 0.02\n",
      "Genre: Children\t\tAvg_Rating: -0.06\n",
      "Genre: Comedy\t\tAvg_Rating: -0.08\n",
      "Genre: Crime\t\tAvg_Rating: 0.10\n",
      "Genre: Documentary\t\tAvg_Rating: 0.30\n",
      "Genre: Drama\t\tAvg_Rating: 0.10\n",
      "Genre: Fantasy\t\tAvg_Rating: -0.04\n",
      "Genre: Film-Noir\t\tAvg_Rating: 0.37\n",
      "Genre: Horror\t\tAvg_Rating: -0.23\n",
      "Genre: IMAX\t\tAvg_Rating: -0.18\n",
      "Genre: Musical\t\tAvg_Rating: 0.04\n",
      "Genre: Mystery\t\tAvg_Rating: 0.10\n",
      "Genre: Romance\t\tAvg_Rating: 0.05\n",
      "Genre: Sci-Fi\t\tAvg_Rating: -0.24\n",
      "Genre: Thriller\t\tAvg_Rating: -0.06\n",
      "Genre: War\t\tAvg_Rating: 0.22\n",
      "Genre: Western\t\tAvg_Rating: 0.03\n"
     ]
    }
   ],
   "source": [
    "#Compared to average, they like Sci-Fi less than overall adjusted average, as well as Action and Adventure\n",
    "#Oddly they also like IMAX less than in the overall adjusted average\n",
    "for g in unique_genres:\n",
    "    print('Genre: %s\\t\\tAvg_Rating: %0.2f'%(g,five.loc[five[g]==1,'adjusted_rating'].mean()))"
   ]
  },
  {
   "cell_type": "code",
   "execution_count": 90,
   "metadata": {},
   "outputs": [
    {
     "data": {
      "text/plain": [
       "title\n",
       "Apollo 13 (1995)                                       14\n",
       "Beauty and the Beast (1991)                            13\n",
       "Lion King, The (1994)                                  12\n",
       "Harry Potter and the Prisoner of Azkaban (2004)         4\n",
       "Star Wars: Episode II - Attack of the Clones (2002)     4\n",
       "Spider-Man 2 (2004)                                     4\n",
       "Matrix Reloaded, The (2003)                             4\n",
       "Alice in Wonderland (2010)                              3\n",
       "Avatar (2009)                                           3\n",
       "Fantasia 2000 (1999)                                    2\n",
       "Harry Potter and the Goblet of Fire (2005)              2\n",
       "Inception (2010)                                        2\n",
       "300 (2007)                                              2\n",
       "Everest (1998)                                          2\n",
       "Batman Begins (2005)                                    2\n",
       "Toy Story 3 (2010)                                      2\n",
       "Charlie and the Chocolate Factory (2005)                2\n",
       "Dark Knight, The (2008)                                 1\n",
       "Harry Potter and the Order of the Phoenix (2007)        1\n",
       "Harry Potter and the Deathly Hallows: Part 1 (2010)     1\n",
       "Harry Potter and the Deathly Hallows: Part 2 (2011)     1\n",
       "Where the Wild Things Are (2009)                        1\n",
       "I Am Legend (2007)                                      1\n",
       "Watchmen (2009)                                         1\n",
       "Iron Man 2 (2010)                                       1\n",
       "Matrix Revolutions, The (2003)                          1\n",
       "Mission to Mir (1997)                                   1\n",
       "Polar Express, The (2004)                               1\n",
       "Robots (2005)                                           1\n",
       "Shine a Light (2008)                                    1\n",
       "Star Trek (2009)                                        1\n",
       "Star Wars: Episode VII - The Force Awakens (2015)       1\n",
       "Treasure Planet (2002)                                  1\n",
       "V for Vendetta (2006)                                   1\n",
       "Interstellar (2014)                                     1\n",
       "Name: movieId, dtype: int64"
      ]
     },
     "execution_count": 90,
     "metadata": {},
     "output_type": "execute_result"
    }
   ],
   "source": [
    "five.loc[five['IMAX']==1].groupby('title').count()['movieId'].sort_values(ascending=False)"
   ]
  },
  {
   "cell_type": "code",
   "execution_count": 56,
   "metadata": {},
   "outputs": [
    {
     "data": {
      "text/plain": [
       "3.569246972090574"
      ]
     },
     "execution_count": 56,
     "metadata": {},
     "output_type": "execute_result"
    }
   ],
   "source": [
    "five.loc[five['Action']==1,'rating'].mean()"
   ]
  },
  {
   "cell_type": "code",
   "execution_count": 79,
   "metadata": {},
   "outputs": [
    {
     "data": {
      "text/plain": [
       "userId                                              99\n",
       "movieId                                           1029\n",
       "rating                                               3\n",
       "timestamp                                    938587916\n",
       "user_mean_rating                               3.43085\n",
       "uid                                                 98\n",
       "movie_mean_rating                              3.70238\n",
       "title                                     Dumbo (1941)\n",
       "genres                Animation|Children|Drama|Musical\n",
       "mid                                                833\n",
       "adjusted_rating                              -0.430851\n",
       "cluster                                              5\n",
       "(no genres listed)                                   0\n",
       "Action                                               0\n",
       "Adventure                                            0\n",
       "Animation                                            1\n",
       "Children                                             1\n",
       "Comedy                                               0\n",
       "Crime                                                0\n",
       "Documentary                                          0\n",
       "Drama                                                1\n",
       "Fantasy                                              0\n",
       "Film-Noir                                            0\n",
       "Horror                                               0\n",
       "IMAX                                                 0\n",
       "Musical                                              1\n",
       "Mystery                                              0\n",
       "Romance                                              0\n",
       "Sci-Fi                                               0\n",
       "Thriller                                             0\n",
       "War                                                  0\n",
       "Western                                              0\n",
       "Name: 12456, dtype: object"
      ]
     },
     "execution_count": 79,
     "metadata": {},
     "output_type": "execute_result"
    }
   ],
   "source": [
    "five.iloc[0]"
   ]
  },
  {
   "cell_type": "code",
   "execution_count": null,
   "metadata": {},
   "outputs": [],
   "source": []
  },
  {
   "cell_type": "code",
   "execution_count": null,
   "metadata": {},
   "outputs": [],
   "source": []
  },
  {
   "cell_type": "code",
   "execution_count": 59,
   "metadata": {},
   "outputs": [
    {
     "data": {
      "text/plain": [
       "Action         0.184962\n",
       "Adventure      0.169670\n",
       "Animation      0.051622\n",
       "Children       0.073244\n",
       "Comedy         0.352294\n",
       "Crime          0.162267\n",
       "Documentary    0.022791\n",
       "Drama          0.537255\n",
       "Fantasy        0.085030\n",
       "Film-Noir      0.025811\n",
       "Horror         0.055907\n",
       "IMAX           0.009253\n",
       "Musical        0.063115\n",
       "Mystery        0.089413\n",
       "Romance        0.212818\n",
       "Sci-Fi         0.126619\n",
       "Thriller       0.210383\n",
       "War            0.061654\n",
       "Western        0.022986\n",
       "dtype: float64"
      ]
     },
     "execution_count": 59,
     "metadata": {},
     "output_type": "execute_result"
    }
   ],
   "source": [
    "m = five.shape[0]\n",
    "five[unique_genres].mean()"
   ]
  },
  {
   "cell_type": "code",
   "execution_count": 74,
   "metadata": {},
   "outputs": [
    {
     "data": {
      "text/plain": [
       "title\n",
       "Fargo (1996)                                                                      31\n",
       "American Beauty (1999)                                                            30\n",
       "Star Wars: Episode IV - A New Hope (1977)                                         29\n",
       "Schindler's List (1993)                                                           28\n",
       "L.A. Confidential (1997)                                                          28\n",
       "Silence of the Lambs, The (1991)                                                  27\n",
       "E.T. the Extra-Terrestrial (1982)                                                 27\n",
       "Saving Private Ryan (1998)                                                        27\n",
       "Pulp Fiction (1994)                                                               27\n",
       "Raiders of the Lost Ark (Indiana Jones and the Raiders of the Lost Ark) (1981)    26\n",
       "Star Wars: Episode V - The Empire Strikes Back (1980)                             26\n",
       "Back to the Future (1985)                                                         26\n",
       "Shakespeare in Love (1998)                                                        25\n",
       "One Flew Over the Cuckoo's Nest (1975)                                            25\n",
       "Casablanca (1942)                                                                 24\n",
       "Wizard of Oz, The (1939)                                                          24\n",
       "Shawshank Redemption, The (1994)                                                  23\n",
       "Sixth Sense, The (1999)                                                           23\n",
       "Rear Window (1954)                                                                23\n",
       "Matrix, The (1999)                                                                23\n",
       "Alien (1979)                                                                      22\n",
       "Godfather, The (1972)                                                             22\n",
       "Goodfellas (1990)                                                                 22\n",
       "North by Northwest (1959)                                                         22\n",
       "Terminator 2: Judgment Day (1991)                                                 21\n",
       "Stand by Me (1986)                                                                21\n",
       "Groundhog Day (1993)                                                              21\n",
       "Godfather: Part II, The (1974)                                                    21\n",
       "Blade Runner (1982)                                                               21\n",
       "Citizen Kane (1941)                                                               21\n",
       "                                                                                  ..\n",
       "Mackenna's Gold (1969)                                                             1\n",
       "Manson Family, The (2003)                                                          1\n",
       "Mad Hot Ballroom (2005)                                                            1\n",
       "Madame Butterfly (1995)                                                            1\n",
       "Madame Sousatzka (1988)                                                            1\n",
       "Madeline (1998)                                                                    1\n",
       "Magic Flute, The (Trollflöjten) (1975)                                             1\n",
       "Magnificent Ambersons, The (1942)                                                  1\n",
       "Magnum Force (1973)                                                                1\n",
       "Mahler (1974)                                                                      1\n",
       "Maid in Manhattan (2002)                                                           1\n",
       "Making Mr. Right (1987)                                                            1\n",
       "Mala Noche (1985)                                                                  1\n",
       "Man Facing Southeast (1986)                                                        1\n",
       "Man Who Knew Too Much, The (1934)                                                  1\n",
       "Man Who Would Be King, The (1975)                                                  1\n",
       "Man Without a Face, The (1993)                                                     1\n",
       "Man Without a Past, The (Mies vailla menneisyyttä) (2002)                          1\n",
       "Man and a Woman, A (Un homme et une femme) (1966)                                  1\n",
       "Man from Snowy River, The (1982)                                                   1\n",
       "Man on Fire (2004)                                                                 1\n",
       "Man on the Train (Homme du train, L') (2002)                                       1\n",
       "Man with the Golden Arm, The (1955)                                                1\n",
       "Manchurian Candidate, The (2004)                                                   1\n",
       "Manderlay (2005)                                                                   1\n",
       "Maniac (1980)                                                                      1\n",
       "Maniac Cop (1988)                                                                  1\n",
       "Manic (2001)                                                                       1\n",
       "Mannequin (1987)                                                                   1\n",
       "'night Mother (1986)                                                               1\n",
       "Name: movieId, Length: 3111, dtype: int64"
      ]
     },
     "execution_count": 74,
     "metadata": {},
     "output_type": "execute_result"
    }
   ],
   "source": [
    "five.groupby('title').count()['movieId'].sort_values(ascending=False)"
   ]
  },
  {
   "cell_type": "markdown",
   "metadata": {},
   "source": [
    "# Using \"Implicit\" Library"
   ]
  },
  {
   "cell_type": "code",
   "execution_count": 119,
   "metadata": {},
   "outputs": [],
   "source": [
    "cluster_list = df['cluster']\n",
    "movies_list = df['mid']\n",
    "ratings_list = df['rating']\n",
    "ratings_list_implicit = [1 for i in ratings_list]\n",
    "new_sparse = csr_matrix((ratings_list_implicit,(cluster_list,movies_list)))"
   ]
  },
  {
   "cell_type": "code",
   "execution_count": 99,
   "metadata": {},
   "outputs": [],
   "source": [
    "train,test = train_test_split(new_sparse,20)"
   ]
  },
  {
   "cell_type": "code",
   "execution_count": 120,
   "metadata": {},
   "outputs": [
    {
     "data": {
      "text/plain": [
       "matrix([[17, 13, 11, ...,  0,  0,  0],\n",
       "        [88, 20,  6, ...,  1,  1,  0],\n",
       "        [42, 28, 10, ...,  0,  0,  0],\n",
       "        ..., \n",
       "        [25,  2, 19, ...,  0,  0,  0],\n",
       "        [17, 22,  2, ...,  0,  0,  0],\n",
       "        [ 8,  3,  2, ...,  0,  0,  0]], dtype=int32)"
      ]
     },
     "execution_count": 120,
     "metadata": {},
     "output_type": "execute_result"
    }
   ],
   "source": [
    "new_sparse.todense()"
   ]
  },
  {
   "cell_type": "code",
   "execution_count": 100,
   "metadata": {},
   "outputs": [],
   "source": [
    "def user_rated_movies(df,sparse_matrix,uid,cluster=False):\n",
    "    '''uid can be cluster or user id'''\n",
    "    mid = sparse_matrix[uid].nonzero()[1]\n",
    "    if cluster:\n",
    "        user_string = 'cluster'\n",
    "    else:\n",
    "        user_string = 'uid'    \n",
    "    df_rows = df.loc[(df[user_string]==uid)&(df['mid'].isin(train[uid].nonzero()[1])),:]\n",
    "    gb = df_rows.groupby('title').agg(['count','mean'])['user_mean_rating']\n",
    "    gb = gb.sort_values(by='count',ascending=False)\n",
    "    print(gb[:10])\n",
    "    \n",
    "def train_model(df,train):\n",
    "    factors = 20\n",
    "    regularization = 0.1\n",
    "    iterations = 50\n",
    "    model = implicit.als.AlternatingLeastSquares(factors=factors,regularization=regularization,iterations=iterations)\n",
    "\n",
    "    # train the model on a sparse matrix of item/user/confidence weights\n",
    "    model.fit(train.T)\n",
    "    return model\n",
    "    \n",
    "def recommend_movies(df,model,train,test,uid,cluster=False):\n",
    "    '''Predict what a user (or cluster) would like based on trained model'''\n",
    "    r = model.recommend(uid,test.T)\n",
    "    user_rated_movies(df,train,uid,cluster)\n",
    "    rec_mids = [i[0] for i in r]\n",
    "    movies = df[['mid','title']].drop_duplicates().reset_index().drop('index',axis=1)\n",
    "    print(movies.loc[movies['mid'].isin(rec_mids),:])"
   ]
  },
  {
   "cell_type": "code",
   "execution_count": 102,
   "metadata": {},
   "outputs": [
    {
     "name": "stderr",
     "output_type": "stream",
     "text": [
      "WARNING:root:Intel MKL BLAS detected. Its highly recommend to set the environment variable 'export MKL_NUM_THREADS=1' to disable its internal multithreading\n"
     ]
    },
    {
     "name": "stdout",
     "output_type": "stream",
     "text": [
      "                                                    count      mean\n",
      "title                                                              \n",
      "Fargo (1996)                                           31  3.814699\n",
      "American Beauty (1999)                                 30  3.813383\n",
      "Star Wars: Episode IV - A New Hope (1977)              29  3.792649\n",
      "L.A. Confidential (1997)                               28  3.848288\n",
      "Schindler's List (1993)                                28  3.843445\n",
      "Saving Private Ryan (1998)                             27  3.839837\n",
      "Silence of the Lambs, The (1991)                       27  3.817845\n",
      "Pulp Fiction (1994)                                    27  3.819453\n",
      "E.T. the Extra-Terrestrial (1982)                      27  3.835872\n",
      "Raiders of the Lost Ark (Indiana Jones and the ...     26  3.816219\n",
      "     mid                                      title\n",
      "21   100                          Braveheart (1995)\n",
      "29   447                      Mrs. Doubtfire (1993)\n",
      "79   282                            Stargate (1994)\n",
      "91   871        Monty Python's Life of Brian (1979)\n",
      "106  472                    Schindler's List (1993)\n",
      "131   31  Twelve Monkeys (a.k.a. 12 Monkeys) (1995)\n",
      "176  268                           Quiz Show (1994)\n",
      "178  314            Clear and Present Danger (1994)\n",
      "234  258                Natural Born Killers (1994)\n",
      "278  561                 Mission: Impossible (1996)\n"
     ]
    }
   ],
   "source": [
    "#Those recommendations look pretty bad - what did I do wrong?\n",
    "m = train_model(df,train)\n",
    "recommend_movies(df,m,train,test,5,True)"
   ]
  },
  {
   "cell_type": "code",
   "execution_count": 111,
   "metadata": {},
   "outputs": [],
   "source": [
    "#Below code taken from https://jessesw.com/Rec-System/\n",
    "from sklearn import metrics\n",
    "def auc_score(predictions, test):\n",
    "    '''\n",
    "    This simple function will output the area under the curve using sklearn's metrics. \n",
    "    \n",
    "    parameters:\n",
    "    \n",
    "    - predictions: your prediction output\n",
    "    \n",
    "    - test: the actual target result you are comparing to\n",
    "    \n",
    "    returns:\n",
    "    \n",
    "    - AUC (area under the Receiver Operating Characterisic curve)\n",
    "    '''\n",
    "    fpr, tpr, thresholds = metrics.roc_curve(test, predictions)\n",
    "    return metrics.auc(fpr, tpr)\n",
    "\n",
    "def calc_mean_auc(training_set, altered_users, predictions, test_set):\n",
    "    '''\n",
    "    This function will calculate the mean AUC by user for any user that had their user-item matrix altered. \n",
    "    \n",
    "    parameters:\n",
    "    \n",
    "    training_set - The training set resulting from make_train, where a certain percentage of the original\n",
    "    user/item interactions are reset to zero to hide them from the model \n",
    "    \n",
    "    predictions - The matrix of your predicted ratings for each user/item pair as output from the implicit MF.\n",
    "    These should be stored in a list, with user vectors as item zero and item vectors as item one. \n",
    "    \n",
    "    altered_users - The indices of the users where at least one user/item pair was altered from make_train function\n",
    "    \n",
    "    test_set - The test set constucted earlier from make_train function\n",
    "    \n",
    "    \n",
    "    \n",
    "    returns:\n",
    "    \n",
    "    The mean AUC (area under the Receiver Operator Characteristic curve) of the test set only on user-item interactions\n",
    "    there were originally zero to test ranking ability in addition to the most popular items as a benchmark.\n",
    "    '''\n",
    "    \n",
    "    \n",
    "    store_auc = [] # An empty list to store the AUC for each user that had an item removed from the training set\n",
    "    popularity_auc = [] # To store popular AUC scores\n",
    "    pop_items = np.array(test_set.sum(axis = 0)).reshape(-1) # Get sum of item iteractions to find most popular\n",
    "    item_vecs = predictions[1]\n",
    "    for user in altered_users: # Iterate through each user that had an item altered\n",
    "        training_row = training_set[user,:].toarray().reshape(-1) # Get the training set row\n",
    "        zero_inds = np.where(training_row == 0) # Find where the interaction had not yet occurred\n",
    "        # Get the predicted values based on our user/item vectors\n",
    "        user_vec = predictions[0][user,:]\n",
    "        pred = user_vec.dot(item_vecs).toarray()[0,zero_inds].reshape(-1)\n",
    "        # Get only the items that were originally zero\n",
    "        # Select all ratings from the MF prediction for this user that originally had no iteraction\n",
    "        actual = test_set[user,:].toarray()[0,zero_inds].reshape(-1) \n",
    "        # Select the binarized yes/no interaction pairs from the original full data\n",
    "        # that align with the same pairs in training \n",
    "        pop = pop_items[zero_inds] # Get the item popularity for our chosen items\n",
    "        store_auc.append(auc_score(pred, actual)) # Calculate AUC for the given user and store\n",
    "        popularity_auc.append(auc_score(pop, actual)) # Calculate AUC using most popular and score\n",
    "    # End users iteration\n",
    "    \n",
    "    return float('%.3f'%np.mean(store_auc)), float('%.3f'%np.mean(popularity_auc))  \n",
    "   # Return the mean AUC rounded to three decimal places for both test and popularity benchmark"
   ]
  },
  {
   "cell_type": "code",
   "execution_count": 140,
   "metadata": {},
   "outputs": [
    {
     "name": "stderr",
     "output_type": "stream",
     "text": [
      "WARNING:root:Intel MKL BLAS detected. Its highly recommend to set the environment variable 'export MKL_NUM_THREADS=1' to disable its internal multithreading\n"
     ]
    }
   ],
   "source": [
    "m = train_model(df,train)"
   ]
  },
  {
   "cell_type": "code",
   "execution_count": 133,
   "metadata": {},
   "outputs": [
    {
     "name": "stdout",
     "output_type": "stream",
     "text": [
      "                                           count      mean\n",
      "title                                                     \n",
      "Fargo (1996)                                  15  3.528448\n",
      "Back to the Future (1985)                     15  3.528448\n",
      "Amadeus (1984)                                15  3.528448\n",
      "Jaws (1975)                                   15  3.528448\n",
      "It's a Wonderful Life (1946)                  15  3.528448\n",
      "Butch Cassidy and the Sundance Kid (1969)     14  3.525277\n",
      "L.A. Confidential (1997)                      14  3.525277\n",
      "Groundhog Day (1993)                          14  3.526733\n",
      "Gone with the Wind (1939)                     14  3.537180\n",
      "Casablanca (1942)                             14  3.537180\n",
      "       mid                                              title\n",
      "33     522                  Terminator 2: Judgment Day (1991)\n",
      "40     617                                     Twister (1996)\n",
      "59     955  Raiders of the Lost Ark (Indiana Jones and the...\n",
      "118    964                              Apocalypse Now (1979)\n",
      "173    233                                Little Women (1994)\n",
      "221    254                                        Nell (1994)\n",
      "253    332                                    Maverick (1994)\n",
      "263    345                    When a Man Loves a Woman (1994)\n",
      "313   2173         Ghostbusters (a.k.a. Ghost Busters) (1984)\n",
      "1776   729                          North by Northwest (1959)\n"
     ]
    }
   ],
   "source": [
    "recommend_movies(df,m,train,test,3,True)"
   ]
  },
  {
   "cell_type": "code",
   "execution_count": 126,
   "metadata": {},
   "outputs": [],
   "source": [
    "altered_users = np.unique(test.nonzero()[0])"
   ]
  },
  {
   "cell_type": "code",
   "execution_count": 134,
   "metadata": {},
   "outputs": [],
   "source": [
    "user_vecs = m.user_factors\n",
    "item_vecs = m.item_factors"
   ]
  },
  {
   "cell_type": "code",
   "execution_count": 135,
   "metadata": {},
   "outputs": [
    {
     "data": {
      "text/plain": [
       "-0.029825978"
      ]
     },
     "execution_count": 135,
     "metadata": {},
     "output_type": "execute_result"
    }
   ],
   "source": [
    "np.min(item_vecs.dot(user_vecs.T).T)"
   ]
  },
  {
   "cell_type": "code",
   "execution_count": 138,
   "metadata": {},
   "outputs": [
    {
     "ename": "ImportError",
     "evalue": "cannot import name 'evaluation'",
     "output_type": "error",
     "traceback": [
      "\u001b[1;31m---------------------------------------------------------------------------\u001b[0m",
      "\u001b[1;31mImportError\u001b[0m                               Traceback (most recent call last)",
      "\u001b[1;32m<ipython-input-138-8799ebf79270>\u001b[0m in \u001b[0;36m<module>\u001b[1;34m()\u001b[0m\n\u001b[1;32m----> 1\u001b[1;33m \u001b[1;32mfrom\u001b[0m \u001b[0mimplicit\u001b[0m \u001b[1;32mimport\u001b[0m \u001b[0mevaluation\u001b[0m\u001b[1;33m\u001b[0m\u001b[0m\n\u001b[0m",
      "\u001b[1;31mImportError\u001b[0m: cannot import name 'evaluation'"
     ]
    }
   ],
   "source": [
    "from implicit import evaluation\n"
   ]
  },
  {
   "cell_type": "markdown",
   "metadata": {},
   "source": [
    "# Maybe I'll try to use Surprise next?"
   ]
  },
  {
   "cell_type": "code",
   "execution_count": null,
   "metadata": {},
   "outputs": [],
   "source": [
    "#http://surpriselib.com/"
   ]
  }
 ],
 "metadata": {
  "kernelspec": {
   "display_name": "Python 3",
   "language": "python",
   "name": "python3"
  },
  "language_info": {
   "codemirror_mode": {
    "name": "ipython",
    "version": 3
   },
   "file_extension": ".py",
   "mimetype": "text/x-python",
   "name": "python",
   "nbconvert_exporter": "python",
   "pygments_lexer": "ipython3",
   "version": "3.6.0"
  },
  "varInspector": {
   "cols": {
    "lenName": 16,
    "lenType": 16,
    "lenVar": 40
   },
   "kernels_config": {
    "python": {
     "delete_cmd_postfix": "",
     "delete_cmd_prefix": "del ",
     "library": "var_list.py",
     "varRefreshCmd": "print(var_dic_list())"
    },
    "r": {
     "delete_cmd_postfix": ") ",
     "delete_cmd_prefix": "rm(",
     "library": "var_list.r",
     "varRefreshCmd": "cat(var_dic_list()) "
    }
   },
   "types_to_exclude": [
    "module",
    "function",
    "builtin_function_or_method",
    "instance",
    "_Feature"
   ],
   "window_display": false
  }
 },
 "nbformat": 4,
 "nbformat_minor": 2
}
