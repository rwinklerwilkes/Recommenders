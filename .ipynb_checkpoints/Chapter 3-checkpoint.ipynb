{
 "cells": [
  {
   "cell_type": "code",
   "execution_count": 1,
   "metadata": {},
   "outputs": [],
   "source": [
    "import numpy as np\n",
    "import pandas as pd\n",
    "from matplotlib import pyplot as plt\n",
    "from scipy.sparse import csc_matrix, csr_matrix"
   ]
  },
  {
   "cell_type": "code",
   "execution_count": 8,
   "metadata": {},
   "outputs": [],
   "source": [
    "def load_movielens(mean_adjust = 'user'):\n",
    "    '''Loads movielens set into a Dataframe. Adjusted rating is user by default'''\n",
    "    path = 'ml-latest-small\\\\'\n",
    "    df = pd.read_csv(path + 'ratings.csv')\n",
    "    movie_xref = pd.read_csv(path + 'movies.csv')\n",
    "    users = df.groupby('userId').mean()['rating'].reset_index()\n",
    "    users['user_mean_rating'] = users['rating']\n",
    "    users['uid'] = users.index\n",
    "    users.drop('rating',inplace=True,axis=1)\n",
    "    df = df.merge(users,left_on='userId',right_on='userId')\n",
    "    movies = df.groupby('movieId').mean()['rating'].reset_index()\n",
    "    movies['movie_mean_rating'] = movies['rating']\n",
    "    movies = movies.merge(movie_xref,left_on='movieId',right_on='movieId')\n",
    "    movies.drop('rating',inplace=True,axis=1)\n",
    "    movies['mid'] = movies.index\n",
    "    df = df.merge(movies,left_on='movieId',right_on='movieId')\n",
    "    if mean_adjust == 'user':\n",
    "        df['adjusted_rating'] = df['rating'] - df['user_mean_rating']\n",
    "    elif mean_adjust == 'movie':\n",
    "        df['adjusted_rating'] = df['rating'] - df['movie_mean_rating']\n",
    "    return df\n",
    "\n",
    "def test_sparse(sparse_matrix):\n",
    "    n = sparse_matrix.nnz\n",
    "    s = sparse_matrix.shape\n",
    "    return 1-n/(s[0]*s[1])"
   ]
  },
  {
   "cell_type": "code",
   "execution_count": 9,
   "metadata": {},
   "outputs": [],
   "source": [
    "df = load_movielens()\n",
    "users_list = df['uid']\n",
    "movies_list = df['mid']\n",
    "ratings_list = df['rating']\n",
    "df_sparse = csr_matrix((ratings_list,(users_list,movies_list)))"
   ]
  },
  {
   "cell_type": "markdown",
   "metadata": {},
   "source": [
    "# Naive Bayes"
   ]
  },
  {
   "cell_type": "code",
   "execution_count": 6,
   "metadata": {},
   "outputs": [],
   "source": [
    "def calculate_priors(df):\n",
    "    m_ct = df.groupby('mid').count()['uid'].reset_index()\n",
    "    mr_ct = df.groupby(['mid','rating']).count()['uid'].reset_index()\n",
    "    total_ct = m_ct.merge(mr_ct,left_on='mid',right_on='mid')\n",
    "    total_ct['prob'] = total_ct['uid_y']/total_ct['uid_x']\n",
    "    return total_ct[['mid','rating','prob']]\n",
    "\n",
    "def calculate_priors_sparse(df_sparse,laplacian = None):\n",
    "    '''laplacian should be a floating point'''\n",
    "    '''This takes a sparse matrix which has as columns the set of items to be rated'''\n",
    "    '''The rows are each one user.'''\n",
    "    '''Nonzero entries are ratings of items they have rated'''\n",
    "    \n",
    "    num_cols = df_sparse.shape[1]\n",
    "    all_ratings = list(set(df_sparse.data))\n",
    "    all_ratings = all_ratings\n",
    "    all_ratings = sorted(all_ratings)\n",
    "    num_ratings = len(all_ratings)\n",
    "    ct_df = np.zeros((num_cols,num_ratings))\n",
    "\n",
    "    for c in range(num_cols):\n",
    "        #counts the number of unique ratings (per column) and how many times that rating occurred\n",
    "        unq,cts = np.unique(df_sparse[:,c].toarray(),return_counts=True)\n",
    "        d = dict(zip(unq, cts))\n",
    "        d = {k:v for k,v in d.items() if k > 0}\n",
    "        rating_dict = {rating:0 for rating in all_ratings}\n",
    "        for k,v in d.items():\n",
    "            rating_dict[k] = v\n",
    "        #d = {k:v for k,v in d.items() if k!=0}\n",
    "        ct_df[c] = [i[1] for i in sorted(rating_dict.items(),key=lambda x: x[0])]\n",
    "    #This dataframe now has rows which are films, columns which are ratings, and each entry has the number of times\n",
    "    #which that particular rating occurred for that particular film\n",
    "    ct_df = pd.DataFrame(ct_df)\n",
    "    ct_df.columns = all_ratings\n",
    "    numerator_cols = ct_df.columns\n",
    "    ct_df['rowsum'] = ct_df.sum(axis=1)\n",
    "\n",
    "    if laplacian is not None:\n",
    "        ct_df[numerator_cols] = ct_df[numerator_cols].fillna(0) + laplacian\n",
    "        ct_df['rowsum'] = ct_df['rowsum'].fillna(0) + laplacian * len(numerator_cols)\n",
    "    ct_df = ct_df.apply(lambda x: x/x.rowsum,axis=1)\n",
    "    ct_df = ct_df.drop('rowsum',axis=1)\n",
    "    ct_df = ct_df.unstack().reset_index()\n",
    "    ct_df.columns = ['rating','mid','prob']\n",
    "    return ct_df\n",
    "\n",
    "#Will need to fix this similarly to the above\n",
    "def calculate_conditional(df,rating_vs,rating_k,j,k,laplacian = None):\n",
    "    '''\n",
    "    df is the sparse dataframe containing the data to be trained/rated\n",
    "    rating_vs is the rating that we're comparing against for the conditional - \n",
    "        P(r_uk | r_uj = v_s), what's the likelihood that we observed rating r_uk for item k (user u) given that\n",
    "        user u gave item j the rating v_s\n",
    "    '''\n",
    "    total_users = df.shape[0]\n",
    "    df_j = df[:,j]\n",
    "    #Find set of users who rated item j rating\n",
    "    users = (df_j == rating_vs).nonzero()[0]\n",
    "    num_users = len(users)\n",
    "    #Of those users, how many rated item k the same as the original user?\n",
    "    df_k = df_sparse[users,k]\n",
    "    nz = df_k.nonzero()\n",
    "    nzk = df_k[nz[0]].toarray()\n",
    "    unq,cts = np.unique(nzk,return_counts=True)\n",
    "    ct = []\n",
    "\n",
    "    d = dict(zip(unq, cts))\n",
    "    d = {k:v for k,v in d.items() if k!=0}\n",
    "    ct.append(d)\n",
    "    #This dataframe now has rows which are films, columns which are ratings, and each entry has the number of times\n",
    "    #which that particular rating occurred for that particular film\n",
    "    ct_df = pd.DataFrame(ct)\n",
    "    numerator_cols = ct_df.columns\n",
    "    ct_df['rowsum'] = ct_df.sum(axis=1)\n",
    "\n",
    "    if laplacian is not None:\n",
    "        ct_df[numerator_cols] = ct_df[numerator_cols].fillna(0) + laplacian\n",
    "        ct_df['rowsum'] = ct_df['rowsum'].fillna(0) + laplacian * total_users\n",
    "    try:\n",
    "        retval = (ct_df[rating_vs].values/ct_df['rowsum'].values)[0]\n",
    "    except:\n",
    "        retval = 1/total_users\n",
    "    return retval\n",
    "    \n",
    "def calculate_rating(df,user,item,laplacian = None):\n",
    "    '''\n",
    "    df: sparse array (csc?) containing the data to be predicted\n",
    "    user is index of user to look at\n",
    "    item is item to be rated\n",
    "    \n",
    "    for all items that the user rated, we need to see, for each rating possible to use,\n",
    "    what the likelihood is that user rated item, that rating. In order to do so, we use the formula:\n",
    "    \n",
    "    P(r_uj = v_s | Observed ratings of user u) is proportional to P(r_uj = v_s) * PI(P(r_uk | r_uj = v_s) for k in I_u)\n",
    "    Where I_u is the set of items that user u has rated\n",
    "    P(r_uj = vs) is called the prior probability, and we'll need to calculate that for each item first\n",
    "    P(r_uk | r_uj = v_s) is called the conditional probability.\n",
    "    '''\n",
    "    \n",
    "    #priors contains the prior probabilities for all items\n",
    "    #for a given item, it's the list of all ratings and what ratio, \n",
    "    #for each rating for that item, what was the likelihood it occurred\n",
    "    priors = calculate_priors_sparse(df,laplacian = laplacian)\n",
    "    vals = list(set(df.data))\n",
    "    num = 0\n",
    "    denom = 0\n",
    "    user_items = df[user,:].nonzero()[1]\n",
    "    for i in range(len(vals)):\n",
    "        vs = vals[i]\n",
    "        try:\n",
    "            prior = priors.loc[(priors['mid']==item)&(priors['rating']==vs),'prob'].values[0]\n",
    "        except:\n",
    "            prior = 0\n",
    "            continue\n",
    "        mult = 1\n",
    "        for k in user_items:\n",
    "            user_rating = df[user,k]\n",
    "            conditional = calculate_conditional(df,vs,user_rating,item,k,laplacian = laplacian)\n",
    "            mult = mult * conditional \n",
    "            if np.isnan(conditional or np.isnan(prior)):\n",
    "                print('vs: %0.3f rating: %0.3f item: %i k: %i')\n",
    "        num += vs*prior*mult\n",
    "        denom += prior * mult\n",
    "    return num/denom\n",
    "\n",
    "def print_user_movies(df,user):\n",
    "    movies = df.loc[df['uid']==user,'title']\n",
    "    print(movies)"
   ]
  },
  {
   "cell_type": "code",
   "execution_count": null,
   "metadata": {},
   "outputs": [],
   "source": []
  },
  {
   "cell_type": "code",
   "execution_count": 100,
   "metadata": {},
   "outputs": [],
   "source": [
    "test = [\n",
    "    [1,-1,1,-1,1,-1],\n",
    "    [1,1,0,-1,-1,-1],\n",
    "    [0,1,1,-1,-1,0],\n",
    "    [-1,-1,-1,1,1,1],\n",
    "    [-1,0,-1,1,1,1]\n",
    "]\n",
    "test_array = np.array(test)\n",
    "test_sparse = csc_matrix(test_array)"
   ]
  },
  {
   "cell_type": "code",
   "execution_count": 134,
   "metadata": {},
   "outputs": [],
   "source": [
    "p = calculate_priors_sparse(df_sparse,laplacian=0.8)"
   ]
  },
  {
   "cell_type": "code",
   "execution_count": 135,
   "metadata": {},
   "outputs": [
    {
     "name": "stdout",
     "output_type": "stream",
     "text": [
      "3.98558709162\n"
     ]
    }
   ],
   "source": [
    "r = calculate_rating(df_sparse,2,1,laplacian = 0.8)\n",
    "print(r)"
   ]
  },
  {
   "cell_type": "code",
   "execution_count": 136,
   "metadata": {},
   "outputs": [
    {
     "name": "stdout",
     "output_type": "stream",
     "text": [
      "4.00000000244\n"
     ]
    }
   ],
   "source": [
    "r = calculate_rating(df_sparse,2,321,laplacian=0.8)\n",
    "print(r)"
   ]
  },
  {
   "cell_type": "code",
   "execution_count": 137,
   "metadata": {},
   "outputs": [
    {
     "name": "stdout",
     "output_type": "stream",
     "text": [
      "2.99619678703\n"
     ]
    }
   ],
   "source": [
    "r = calculate_rating(df_sparse,2,595,laplacian=0.8)\n",
    "print(r)"
   ]
  },
  {
   "cell_type": "code",
   "execution_count": 20,
   "metadata": {},
   "outputs": [
    {
     "name": "stdout",
     "output_type": "stream",
     "text": [
      "3.66251781122\n"
     ]
    }
   ],
   "source": [
    "r = calculate_rating(df_sparse,580,1,laplacian=0.8)\n",
    "print(r)"
   ]
  },
  {
   "cell_type": "markdown",
   "metadata": {},
   "source": [
    "# Latent Factor Models"
   ]
  },
  {
   "cell_type": "code",
   "execution_count": 88,
   "metadata": {},
   "outputs": [],
   "source": [
    "def construct_factors(df_sparse,num_factors):\n",
    "    '''Constructs the num_factors user factors and item factors for the sparse matrix'''\n",
    "    m = df_sparse.shape[0]\n",
    "    n = df_sparse.shape[1]\n",
    "    U = np.random.rand(m,num_factors)\n",
    "    V = np.random.rand(n,num_factors)\n",
    "    return U,V\n",
    "\n",
    "def error(df_sparse,U,V):\n",
    "    '''Calculates the matrix portion of the error term'''\n",
    "    d = df_sparse.nonzero()\n",
    "    rows = d[0].reshape(1,-1).flatten()\n",
    "    cols = d[1].reshape(1,-1).flatten()\n",
    "    e = df_sparse[d] - np.matmul(U,V.T)[d]\n",
    "    e = np.asarray(e).flatten()\n",
    "    e = csc_matrix((e,(rows,cols)))\n",
    "    return e\n",
    "\n",
    "def frobenius_norm(df_sparse,U,V):\n",
    "    e = error(df_sparse,U,V)\n",
    "    e = e.power(2)\n",
    "    return e.sum()\n",
    "\n",
    "def cost_function(df_sparse,U,V,l):\n",
    "    '''Calculates the cost function to minimize, l is the regularization term'''\n",
    "    e = frobenius_norm(df_sparse,U,V)\n",
    "    usum = np.square(U).sum()\n",
    "    vsum = np.square(V).sum()\n",
    "    J = 0.5 * e + (l/2)*usum + (l/2)*vsum\n",
    "    return J\n",
    "\n",
    "def update_factors(df_sparse,U,V,l,alpha):\n",
    "    '''alpha is learning rate, l is regularization parameter'''\n",
    "    nz = df_sparse.nonzero()\n",
    "    E = error(df_sparse,U,V)\n",
    "    U_temp = U*(1-alpha * l) + alpha * (E * V)\n",
    "    V_temp = V*(1-alpha * l) + alpha * (E.T * U)\n",
    "    return U_temp,V_temp\n",
    "\n",
    "def fit(df_sparse,num_factors,learning_rate,regularization_rate):\n",
    "    U,V = construct_factors(df_sparse,num_factors)\n",
    "    J = cost_function(df_sparse,U,V,regularization_rate)\n",
    "    prev = J\n",
    "    iter_ctr = 0\n",
    "    while True:\n",
    "        iter_ctr += 1\n",
    "        U,V = update_factors(df_sparse,U,V,regularization_rate,learning_rate)\n",
    "        J = cost_function(df_sparse,U,V,regularization_rate)\n",
    "        pct_change = J/prev-1\n",
    "        if abs(pct_change) < 0.001 or iter_ctr > 1000:\n",
    "            break\n",
    "        prev = J\n",
    "    return U,V\n",
    "    "
   ]
  },
  {
   "cell_type": "code",
   "execution_count": 89,
   "metadata": {},
   "outputs": [],
   "source": [
    "U,V = fit(df_sparse,10,0.0001,0.8)\n",
    "pred_rat = np.matmul(U,V.T)"
   ]
  },
  {
   "cell_type": "code",
   "execution_count": 81,
   "metadata": {},
   "outputs": [],
   "source": [
    "e = error(df_sparse,U,V)"
   ]
  },
  {
   "cell_type": "code",
   "execution_count": 82,
   "metadata": {},
   "outputs": [
    {
     "name": "stdout",
     "output_type": "stream",
     "text": [
      "2.5\n",
      "0.0479521599001\n",
      "2.4520478401\n"
     ]
    }
   ],
   "source": [
    "print(df_sparse[0,30])\n",
    "print(e[0,30])\n",
    "print(pred_rat[0,30])"
   ]
  },
  {
   "cell_type": "code",
   "execution_count": 83,
   "metadata": {},
   "outputs": [
    {
     "data": {
      "text/plain": [
       "54999.428332574898"
      ]
     },
     "execution_count": 83,
     "metadata": {},
     "output_type": "execute_result"
    }
   ],
   "source": [
    "cost_function(df_sparse,U,V,l)"
   ]
  },
  {
   "cell_type": "code",
   "execution_count": 84,
   "metadata": {},
   "outputs": [],
   "source": [
    "e = error(df_sparse,U,V)"
   ]
  },
  {
   "cell_type": "markdown",
   "metadata": {},
   "source": [
    "# Split into Train-Test Sets"
   ]
  },
  {
   "cell_type": "code",
   "execution_count": 98,
   "metadata": {},
   "outputs": [],
   "source": [
    "from numpy.random import choice\n",
    "from scipy.sparse import lil_matrix\n",
    "\n",
    "def train_test_split(sparse_matrix,pct):\n",
    "    '''Splits a sparse matrix into two sets - a train set and a test set'''\n",
    "    nz_coord = list(zip(*sparse_matrix.nonzero()))\n",
    "    nz_coord_array = np.array(nz_coord)\n",
    "    num_rand = int(np.floor(len(nz_coord)*(pct/100.0)))\n",
    "    n = len(nz_coord)\n",
    "    c = choice(n,size=num_rand,replace=False)\n",
    "    rows = nz_coord_array[c][:,0]\n",
    "    cols = nz_coord_array[c][:,1]\n",
    "    vals = np.array(sparse_matrix[rows,cols]).flatten()\n",
    "    train = sparse_matrix.copy()\n",
    "    test = lil_matrix(train.shape)\n",
    "    test[rows,cols] = vals\n",
    "    test = test.tocsr()\n",
    "    train[rows,cols] = 0\n",
    "    train.eliminate_zeros()\n",
    "    return train,test"
   ]
  },
  {
   "cell_type": "code",
   "execution_count": 93,
   "metadata": {},
   "outputs": [],
   "source": [
    "train,test = train_test_split(df_sparse,5)"
   ]
  },
  {
   "cell_type": "code",
   "execution_count": 94,
   "metadata": {},
   "outputs": [
    {
     "data": {
      "text/plain": [
       "<671x9066 sparse matrix of type '<class 'numpy.float64'>'\n",
       "\twith 5000 stored elements in Compressed Sparse Row format>"
      ]
     },
     "execution_count": 94,
     "metadata": {},
     "output_type": "execute_result"
    }
   ],
   "source": [
    "test"
   ]
  },
  {
   "cell_type": "code",
   "execution_count": 95,
   "metadata": {},
   "outputs": [],
   "source": [
    "U,V = fit(train,10,0.0001,0.8)\n",
    "pred_rat = np.matmul(U,V.T)"
   ]
  },
  {
   "cell_type": "code",
   "execution_count": 96,
   "metadata": {},
   "outputs": [],
   "source": [
    "e = error(test,U,V)"
   ]
  },
  {
   "cell_type": "code",
   "execution_count": 97,
   "metadata": {},
   "outputs": [
    {
     "data": {
      "text/plain": [
       "<671x9057 sparse matrix of type '<class 'numpy.float64'>'\n",
       "\twith 5000 stored elements in Compressed Sparse Column format>"
      ]
     },
     "execution_count": 97,
     "metadata": {},
     "output_type": "execute_result"
    }
   ],
   "source": [
    "e"
   ]
  },
  {
   "cell_type": "markdown",
   "metadata": {},
   "source": [
    "# Playing With Dimensionality Reduction"
   ]
  },
  {
   "cell_type": "code",
   "execution_count": 4,
   "metadata": {},
   "outputs": [
    {
     "data": {
      "text/plain": [
       "<671x9066 sparse matrix of type '<class 'numpy.float64'>'\n",
       "\twith 100004 stored elements in Compressed Sparse Row format>"
      ]
     },
     "execution_count": 4,
     "metadata": {},
     "output_type": "execute_result"
    }
   ],
   "source": [
    "df_sparse"
   ]
  },
  {
   "cell_type": "code",
   "execution_count": 11,
   "metadata": {},
   "outputs": [],
   "source": [
    "from sklearn.cluster import MiniBatchKMeans"
   ]
  },
  {
   "cell_type": "code",
   "execution_count": 13,
   "metadata": {},
   "outputs": [],
   "source": [
    "inertia = []\n",
    "for i in range(2,51):\n",
    "    num_clusters = i\n",
    "    km = MiniBatchKMeans(num_clusters)\n",
    "    km.fit(df_sparse)\n",
    "    inertia.append(km.inertia_)"
   ]
  },
  {
   "cell_type": "code",
   "execution_count": 14,
   "metadata": {},
   "outputs": [
    {
     "data": {
      "image/png": "[encoded data removed]",
      "text/plain": [
       "<matplotlib.figure.Figure at 0x2543e2d8be0>"
      ]
     },
     "metadata": {},
     "output_type": "display_data"
    }
   ],
   "source": [
    "plt.plot(list(range(2,51)),inertia)\n",
    "plt.show()"
   ]
  },
  {
   "cell_type": "code",
   "execution_count": 15,
   "metadata": {},
   "outputs": [],
   "source": [
    "num_clusters = 20\n",
    "km = MiniBatchKMeans(num_clusters)\n",
    "labels = km.fit_predict(df_sparse)"
   ]
  },
  {
   "cell_type": "code",
   "execution_count": 28,
   "metadata": {},
   "outputs": [],
   "source": [
    "user_ids = pd.DataFrame(sorted(df['uid'].unique()),columns=['uid'])\n",
    "user_ids['cluster'] = labels"
   ]
  },
  {
   "cell_type": "code",
   "execution_count": 33,
   "metadata": {},
   "outputs": [],
   "source": [
    "df = df.merge(user_ids,left_on='uid',right_on='uid')"
   ]
  },
  {
   "cell_type": "code",
   "execution_count": 34,
   "metadata": {},
   "outputs": [],
   "source": [
    "cluster_list = df['cluster']\n",
    "movies_list = df['mid']\n",
    "ratings_list = df['rating']\n",
    "new_sparse = csr_matrix((ratings_list,(cluster_list,movies_list)))"
   ]
  },
  {
   "cell_type": "code",
   "execution_count": 99,
   "metadata": {},
   "outputs": [],
   "source": [
    "train,test = train_test_split(new_sparse,20)"
   ]
  },
  {
   "cell_type": "code",
   "execution_count": 40,
   "metadata": {},
   "outputs": [],
   "source": [
    "import implicit"
   ]
  },
  {
   "cell_type": "code",
   "execution_count": 139,
   "metadata": {},
   "outputs": [],
   "source": [
    "def user_rated_movies(df,sparse_matrix,uid,cluster=False):\n",
    "    '''uid can be cluster or user id'''\n",
    "    mid = sparse_matrix[uid].nonzero()[1]\n",
    "    if cluster:\n",
    "        user_string = 'cluster'\n",
    "    else:\n",
    "        user_string = 'uid'    \n",
    "    df_rows = df.loc[(df[user_string]==uid)&(df['mid'].isin(train[uid].nonzero()[1])),:]\n",
    "    gb = df_rows.groupby('title').agg(['count','mean'])['user_mean_rating']\n",
    "    gb = gb.sort_values(by='count',ascending=False)\n",
    "    print(gb[:10])\n",
    "    \n",
    "def train_model(df,train):\n",
    "    factors = 20\n",
    "    regularization = 0.1\n",
    "    iterations = 50\n",
    "    model = implicit.als.AlternatingLeastSquares(factors=factors,regularization=regularization,iterations=iterations)\n",
    "\n",
    "    # train the model on a sparse matrix of item/user/confidence weights\n",
    "    model.fit(train.T)\n",
    "    return model\n",
    "    \n",
    "def recommend_movies(df,model,train,test,uid,cluster=False):\n",
    "    '''Predict what a user (or cluster) would like based on trained model'''\n",
    "    r = model.recommend(uid,test.T)\n",
    "    user_rated_movies(df,train,uid,cluster)\n",
    "    rec_mids = [i[0] for i in r]\n",
    "    movies = df[['mid','title']].drop_duplicates().reset_index().drop('index',axis=1)\n",
    "    print(movies.loc[movies['mid'].isin(rec_mids),:])"
   ]
  },
  {
   "cell_type": "code",
   "execution_count": 120,
   "metadata": {},
   "outputs": [
    {
     "name": "stderr",
     "output_type": "stream",
     "text": [
      "WARNING:root:Intel MKL BLAS detected. Its highly recommend to set the environment variable 'export MKL_NUM_THREADS=1' to disable its internal multithreading\n"
     ]
    },
    {
     "name": "stdout",
     "output_type": "stream",
     "text": [
      "                                                    count      mean\n",
      "title                                                              \n",
      "Matrix, The (1999)                                    117  3.670252\n",
      "Star Wars: Episode IV - A New Hope (1977)             113  3.693852\n",
      "Forrest Gump (1994)                                   107  3.667716\n",
      "Pulp Fiction (1994)                                   102  3.678243\n",
      "Back to the Future (1985)                             100  3.692343\n",
      "Lord of the Rings: The Fellowship of the Ring, ...     97  3.676323\n",
      "Men in Black (a.k.a. MIB) (1997)                       96  3.597023\n",
      "Raiders of the Lost Ark (Indiana Jones and the ...     93  3.681377\n",
      "Shawshank Redemption, The (1994)                       93  3.676176\n",
      "Lord of the Rings: The Two Towers, The (2002)          92  3.676079\n",
      "      mid                               title\n",
      "189     1                      Jumanji (1995)\n",
      "227     5                         Heat (1995)\n",
      "228    15                       Casino (1995)\n",
      "241    17                   Four Rooms (1995)\n",
      "1755    6                      Sabrina (1995)\n",
      "2080   16        Sense and Sensibility (1995)\n",
      "2431   13                        Nixon (1995)\n",
      "2502   19                  Money Train (1995)\n",
      "3595    3            Waiting to Exhale (1995)\n",
      "3994   11  Dracula: Dead and Loving It (1995)\n"
     ]
    },
    {
     "data": {
      "text/plain": [
       "<implicit.als.AlternatingLeastSquares at 0x2543bc0d048>"
      ]
     },
     "execution_count": 120,
     "metadata": {},
     "output_type": "execute_result"
    }
   ],
   "source": [
    "#Those recommendations look pretty bad - what did I do wrong?\n",
    "m = train_model(df,train)\n",
    "recommend_movies(df,m,train,test,3,True)"
   ]
  },
  {
   "cell_type": "code",
   "execution_count": 111,
   "metadata": {},
   "outputs": [],
   "source": [
    "#Below code taken from https://jessesw.com/Rec-System/\n",
    "from sklearn import metrics\n",
    "def auc_score(predictions, test):\n",
    "    '''\n",
    "    This simple function will output the area under the curve using sklearn's metrics. \n",
    "    \n",
    "    parameters:\n",
    "    \n",
    "    - predictions: your prediction output\n",
    "    \n",
    "    - test: the actual target result you are comparing to\n",
    "    \n",
    "    returns:\n",
    "    \n",
    "    - AUC (area under the Receiver Operating Characterisic curve)\n",
    "    '''\n",
    "    fpr, tpr, thresholds = metrics.roc_curve(test, predictions)\n",
    "    return metrics.auc(fpr, tpr)\n",
    "\n",
    "def calc_mean_auc(training_set, altered_users, predictions, test_set):\n",
    "    '''\n",
    "    This function will calculate the mean AUC by user for any user that had their user-item matrix altered. \n",
    "    \n",
    "    parameters:\n",
    "    \n",
    "    training_set - The training set resulting from make_train, where a certain percentage of the original\n",
    "    user/item interactions are reset to zero to hide them from the model \n",
    "    \n",
    "    predictions - The matrix of your predicted ratings for each user/item pair as output from the implicit MF.\n",
    "    These should be stored in a list, with user vectors as item zero and item vectors as item one. \n",
    "    \n",
    "    altered_users - The indices of the users where at least one user/item pair was altered from make_train function\n",
    "    \n",
    "    test_set - The test set constucted earlier from make_train function\n",
    "    \n",
    "    \n",
    "    \n",
    "    returns:\n",
    "    \n",
    "    The mean AUC (area under the Receiver Operator Characteristic curve) of the test set only on user-item interactions\n",
    "    there were originally zero to test ranking ability in addition to the most popular items as a benchmark.\n",
    "    '''\n",
    "    \n",
    "    \n",
    "    store_auc = [] # An empty list to store the AUC for each user that had an item removed from the training set\n",
    "    popularity_auc = [] # To store popular AUC scores\n",
    "    pop_items = np.array(test_set.sum(axis = 0)).reshape(-1) # Get sum of item iteractions to find most popular\n",
    "    item_vecs = predictions[1]\n",
    "    for user in altered_users: # Iterate through each user that had an item altered\n",
    "        training_row = training_set[user,:].toarray().reshape(-1) # Get the training set row\n",
    "        zero_inds = np.where(training_row == 0) # Find where the interaction had not yet occurred\n",
    "        # Get the predicted values based on our user/item vectors\n",
    "        user_vec = predictions[0][user,:]\n",
    "        pred = user_vec.dot(item_vecs).toarray()[0,zero_inds].reshape(-1)\n",
    "        # Get only the items that were originally zero\n",
    "        # Select all ratings from the MF prediction for this user that originally had no iteraction\n",
    "        actual = test_set[user,:].toarray()[0,zero_inds].reshape(-1) \n",
    "        # Select the binarized yes/no interaction pairs from the original full data\n",
    "        # that align with the same pairs in training \n",
    "        pop = pop_items[zero_inds] # Get the item popularity for our chosen items\n",
    "        store_auc.append(auc_score(pred, actual)) # Calculate AUC for the given user and store\n",
    "        popularity_auc.append(auc_score(pop, actual)) # Calculate AUC using most popular and score\n",
    "    # End users iteration\n",
    "    \n",
    "    return float('%.3f'%np.mean(store_auc)), float('%.3f'%np.mean(popularity_auc))  \n",
    "   # Return the mean AUC rounded to three decimal places for both test and popularity benchmark"
   ]
  },
  {
   "cell_type": "code",
   "execution_count": 140,
   "metadata": {},
   "outputs": [
    {
     "name": "stderr",
     "output_type": "stream",
     "text": [
      "WARNING:root:Intel MKL BLAS detected. Its highly recommend to set the environment variable 'export MKL_NUM_THREADS=1' to disable its internal multithreading\n"
     ]
    }
   ],
   "source": [
    "m = train_model(df,train)"
   ]
  },
  {
   "cell_type": "code",
   "execution_count": 145,
   "metadata": {},
   "outputs": [
    {
     "name": "stdout",
     "output_type": "stream",
     "text": [
      "                                                    count      mean\n",
      "title                                                              \n",
      "Matrix, The (1999)                                    117  3.670252\n",
      "Star Wars: Episode IV - A New Hope (1977)             113  3.693852\n",
      "Forrest Gump (1994)                                   107  3.667716\n",
      "Pulp Fiction (1994)                                   102  3.678243\n",
      "Back to the Future (1985)                             100  3.692343\n",
      "Lord of the Rings: The Fellowship of the Ring, ...     97  3.676323\n",
      "Men in Black (a.k.a. MIB) (1997)                       96  3.597023\n",
      "Raiders of the Lost Ark (Indiana Jones and the ...     93  3.681377\n",
      "Shawshank Redemption, The (1994)                       93  3.676176\n",
      "Lord of the Rings: The Two Towers, The (2002)          92  3.676079\n",
      "       mid                                              title\n",
      "235    274   Three Colors: Red (Trois couleurs: Rouge) (1994)\n",
      "245    221                            Immortal Beloved (1994)\n",
      "280     70                                   Screamers (1995)\n",
      "533   8156                                  Life of Pi (2012)\n",
      "550   7532                                 Toy Story 3 (2010)\n",
      "1623  7562                  Batman: Under the Red Hood (2010)\n",
      "2876   267                                      Priest (1994)\n",
      "3458  1423                     Last Days of Disco, The (1998)\n",
      "4291  3470                                 Cats & Dogs (2001)\n",
      "7727  7270  Evangelion: 1.0 You Are (Not) Alone (Evangerio...\n"
     ]
    }
   ],
   "source": [
    "recommend_movies(df,m,train,test,3,True)"
   ]
  },
  {
   "cell_type": "code",
   "execution_count": 126,
   "metadata": {},
   "outputs": [],
   "source": [
    "altered_users = np.unique(test.nonzero()[0])"
   ]
  },
  {
   "cell_type": "code",
   "execution_count": 141,
   "metadata": {},
   "outputs": [],
   "source": [
    "user_vecs = m.user_factors\n",
    "item_vecs = m.item_factors"
   ]
  },
  {
   "cell_type": "code",
   "execution_count": 138,
   "metadata": {},
   "outputs": [
    {
     "data": {
      "text/plain": [
       "(9066, 20)"
      ]
     },
     "execution_count": 138,
     "metadata": {},
     "output_type": "execute_result"
    }
   ],
   "source": [
    "user_vecs.dot(item_vecs).shape"
   ]
  },
  {
   "cell_type": "code",
   "execution_count": null,
   "metadata": {},
   "outputs": [],
   "source": []
  }
 ],
 "metadata": {
  "kernelspec": {
   "display_name": "Python 3",
   "language": "python",
   "name": "python3"
  },
  "language_info": {
   "codemirror_mode": {
    "name": "ipython",
    "version": 3
   },
   "file_extension": ".py",
   "mimetype": "text/x-python",
   "name": "python",
   "nbconvert_exporter": "python",
   "pygments_lexer": "ipython3",
   "version": "3.6.0"
  },
  "varInspector": {
   "cols": {
    "lenName": 16,
    "lenType": 16,
    "lenVar": 40
   },
   "kernels_config": {
    "python": {
     "delete_cmd_postfix": "",
     "delete_cmd_prefix": "del ",
     "library": "var_list.py",
     "varRefreshCmd": "print(var_dic_list())"
    },
    "r": {
     "delete_cmd_postfix": ") ",
     "delete_cmd_prefix": "rm(",
     "library": "var_list.r",
     "varRefreshCmd": "cat(var_dic_list()) "
    }
   },
   "types_to_exclude": [
    "module",
    "function",
    "builtin_function_or_method",
    "instance",
    "_Feature"
   ],
   "window_display": false
  }
 },
 "nbformat": 4,
 "nbformat_minor": 2
}
