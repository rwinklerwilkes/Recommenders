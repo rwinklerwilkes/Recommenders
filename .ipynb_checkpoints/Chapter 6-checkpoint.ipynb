{
 "cells": [
  {
   "cell_type": "code",
   "execution_count": 10,
   "metadata": {},
   "outputs": [],
   "source": [
    "import numpy as np\n",
    "from numpy.random import choice\n",
    "import pandas as pd\n",
    "from matplotlib import pyplot as plt\n",
    "from scipy.sparse import csc_matrix, csr_matrix, lil_matrix\n",
    "\n",
    "def load_movielens(mean_adjust = 'user'):\n",
    "    '''Loads movielens set into a Dataframe. Adjusted rating is user by default'''\n",
    "    path = 'ml-latest-small\\\\'\n",
    "    df = pd.read_csv(path + 'ratings.csv')\n",
    "    movie_xref = pd.read_csv(path + 'movies.csv')\n",
    "    users = df.groupby('userId').mean()['rating'].reset_index()\n",
    "    users['user_mean_rating'] = users['rating']\n",
    "    users['uid'] = users.index\n",
    "    users.drop('rating',inplace=True,axis=1)\n",
    "    df = df.merge(users,left_on='userId',right_on='userId')\n",
    "    movies = df.groupby('movieId').mean()['rating'].reset_index()\n",
    "    movies['movie_mean_rating'] = movies['rating']\n",
    "    movies = movies.merge(movie_xref,left_on='movieId',right_on='movieId')\n",
    "    movies.drop('rating',inplace=True,axis=1)\n",
    "    movies['mid'] = movies.index\n",
    "    df = df.merge(movies,left_on='movieId',right_on='movieId')\n",
    "    if mean_adjust == 'user':\n",
    "        df['adjusted_rating'] = df['rating'] - df['user_mean_rating']\n",
    "    elif mean_adjust == 'movie':\n",
    "        df['adjusted_rating'] = df['rating'] - df['movie_mean_rating']\n",
    "    return df\n",
    "\n",
    "def test_sparse(sparse_matrix):\n",
    "    n = sparse_matrix.nnz\n",
    "    s = sparse_matrix.shape\n",
    "    return 1-n/(s[0]*s[1])\n",
    "\n",
    "def train_test_split(sparse_matrix,pct):\n",
    "    '''Splits a sparse matrix into two sets - a train set and a test set'''\n",
    "    nz_coord = list(zip(*sparse_matrix.nonzero()))\n",
    "    nz_coord_array = np.array(nz_coord)\n",
    "    num_rand = int(np.floor(len(nz_coord)*(pct/100.0)))\n",
    "    n = len(nz_coord)\n",
    "    c = choice(n,size=num_rand,replace=False)\n",
    "    rows = nz_coord_array[c][:,0]\n",
    "    cols = nz_coord_array[c][:,1]\n",
    "    vals = np.array(sparse_matrix[rows,cols]).flatten()\n",
    "    train = sparse_matrix.copy()\n",
    "    test = lil_matrix(train.shape)\n",
    "    test[rows,cols] = vals\n",
    "    test = test.tocsr()\n",
    "    train[rows,cols] = 0\n",
    "    train.eliminate_zeros()\n",
    "    return train,test\n",
    "\n",
    "df = load_movielens()\n",
    "users_list = df['uid']\n",
    "movies_list = df['mid']\n",
    "ratings_list = df['rating']\n",
    "df_sparse = csr_matrix((ratings_list,(users_list,movies_list)))\n",
    "train,test = train_test_split(df_sparse,20)\n"
   ]
  },
  {
   "cell_type": "code",
   "execution_count": 148,
   "metadata": {},
   "outputs": [],
   "source": [
    "movie_xref = df[['mid','title','genres']]\n",
    "movie_xref = movie_xref.drop_duplicates()"
   ]
  },
  {
   "cell_type": "markdown",
   "metadata": {},
   "source": [
    "# Bagging"
   ]
  },
  {
   "cell_type": "code",
   "execution_count": 8,
   "metadata": {},
   "outputs": [],
   "source": [
    "import implicit"
   ]
  },
  {
   "cell_type": "code",
   "execution_count": 9,
   "metadata": {},
   "outputs": [],
   "source": [
    "def bootstrap(sparse_matrix):\n",
    "    '''\n",
    "        Row-wise bootstrapping of the sparse matrix\n",
    "        Returns the sampled rows as after CF we'll need to average out ratings over any \n",
    "        duplicated users\n",
    "    '''\n",
    "    rows = sparse_matrix.shape[0]\n",
    "    rows_to_sample = np.random.choice(rows,rows)\n",
    "    bootstrapped_matrix = sparse_matrix[rows_to_sample,:]\n",
    "    return bootstrapped_matrix, rows_to_sample"
   ]
  },
  {
   "cell_type": "code",
   "execution_count": 24,
   "metadata": {},
   "outputs": [],
   "source": [
    "user_list = df['uid']\n",
    "movies_list = df['mid']\n",
    "ratings_list = df['rating']\n",
    "ratings_list_implicit = [1 for i in ratings_list]\n",
    "new_sparse = csr_matrix((ratings_list,(user_list,movies_list)))\n",
    "#1 or 0 each value\n",
    "#new_sparse = new_sparse.sign()\n",
    "train,test = train_test_split(new_sparse,20)"
   ]
  },
  {
   "cell_type": "code",
   "execution_count": 25,
   "metadata": {},
   "outputs": [],
   "source": [
    "bs_train, bs_rows = bootstrap(train)"
   ]
  },
  {
   "cell_type": "code",
   "execution_count": 26,
   "metadata": {},
   "outputs": [
    {
     "data": {
      "text/plain": [
       "<671x9066 sparse matrix of type '<class 'numpy.float64'>'\n",
       "\twith 79215 stored elements in Compressed Sparse Row format>"
      ]
     },
     "execution_count": 26,
     "metadata": {},
     "output_type": "execute_result"
    }
   ],
   "source": [
    "bs_train"
   ]
  },
  {
   "cell_type": "code",
   "execution_count": 155,
   "metadata": {},
   "outputs": [],
   "source": [
    "def user_rated_movies(df,sparse_matrix,uid,cluster=False):\n",
    "    '''uid can be cluster or user id'''\n",
    "    mid = sparse_matrix[uid].nonzero()[1]\n",
    "    if cluster:\n",
    "        user_string = 'cluster'\n",
    "    else:\n",
    "        user_string = 'uid'    \n",
    "    df_rows = df.loc[(df[user_string]==uid)&(df['mid'].isin(train[uid].nonzero()[1])),:]\n",
    "    gb = df_rows.groupby('title').agg(['count','mean'])['rating']\n",
    "    gb = gb.sort_values(by='mean',ascending=False)\n",
    "    print(gb[:10])\n",
    "    \n",
    "def train_model(df,train):\n",
    "    factors = 20\n",
    "    regularization = 0.1\n",
    "    iterations = 50\n",
    "    model = implicit.als.AlternatingLeastSquares(factors=factors,regularization=regularization,iterations=iterations)\n",
    "\n",
    "    # train the model on a sparse matrix of item/user/confidence weights\n",
    "    model.fit(train.T)\n",
    "    return model\n",
    "\n",
    "def bootstrap_to_user_item_matrix(bootstrap_model, bootstrap_rows):\n",
    "    '''\n",
    "    Each bootstrapped fit model will have some duplicate rows in it\n",
    "    This function will recreate a user-item matrix so that there are no duplicates\n",
    "    '''\n",
    "    new_pred_matrix = np.zeros((m.user_factors.shape[0],m.item_factors.shape[0]))\n",
    "    user_f = bootstrap_model.user_factors\n",
    "    item_f = bootstrap_model.item_factors\n",
    "    pred_matrix = item_f.dot(user_f.T).T\n",
    "    for i in range(new_pred_matrix.shape[0]):\n",
    "        bs_dups = np.where(bootstrap_rows==i)[0]\n",
    "        if len(bs_dups) > 0:\n",
    "            model_pred = pred_matrix[bs_dups].mean(axis=0)\n",
    "            new_pred_matrix[i] = model_pred\n",
    "    return new_pred_matrix\n",
    "        \n",
    "\n",
    "def bag_recommendations(df, bootstraps_models, bootstraps_rows,shape):\n",
    "    '''\n",
    "        df is original dataframe\n",
    "        bootstraps is list of bootstrapped matrices\n",
    "        bootstraps_rows is list of rows sampled for each bootstrap\n",
    "    '''\n",
    "    bagged_model = np.zeros(shape)\n",
    "    user_ct_for_avg = np.zeros(shape[0])\n",
    "    for i in range(len(bootstraps_models)):\n",
    "        bs_model = bootstraps_models[i]\n",
    "        bs_rows = bootstraps_rows[i]\n",
    "        pred_matrix = bootstrap_to_user_item_matrix(bs_model,bs_rows)\n",
    "        bagged_model = np.add(bagged_model,pred_matrix)\n",
    "        users_for_this_model = np.unique(pred_matrix.nonzero()[0])\n",
    "        user_ct_for_avg[users_for_this_model] += 1\n",
    "    return bagged_model/user_ct_for_avg[:,None]\n",
    "    \n",
    "def recommend_movies_bootstrap(df,prediction_matrix,uid):\n",
    "    '''Predict what a user (or cluster) would like based on trained model'''\n",
    "    top_10 = prediction_matrix[uid].argsort()[-10:][::-1]\n",
    "    movie_xref = df[['mid','title','genres']]\n",
    "    movie_xref = movie_xref.drop_duplicates()\n",
    "    print(movie_xref[movie_xref['mid'].isin(top_10)])"
   ]
  },
  {
   "cell_type": "code",
   "execution_count": 38,
   "metadata": {},
   "outputs": [],
   "source": [
    "#Need to figure out the text from Aggarwal:\n",
    "\n",
    "##For each training data set, an item rating can be predicted\n",
    "##for a user only if that user is represented at least once in the matrix. In such a case,\n",
    "##the predicted rating from that ensemble component is the average rating of that item\n",
    "##over the duplicate occurrences of that user. "
   ]
  },
  {
   "cell_type": "code",
   "execution_count": 68,
   "metadata": {},
   "outputs": [
    {
     "data": {
      "text/plain": [
       "(671, 9066)"
      ]
     },
     "execution_count": 68,
     "metadata": {},
     "output_type": "execute_result"
    }
   ],
   "source": [
    "new_pred_matrix.shape"
   ]
  },
  {
   "cell_type": "code",
   "execution_count": 33,
   "metadata": {},
   "outputs": [
    {
     "name": "stderr",
     "output_type": "stream",
     "text": [
      "WARNING:root:Intel MKL BLAS detected. Its highly recommend to set the environment variable 'export MKL_NUM_THREADS=1' to disable its internal multithreading\n"
     ]
    }
   ],
   "source": [
    "m = train_model(df,bs_train)"
   ]
  },
  {
   "cell_type": "code",
   "execution_count": 72,
   "metadata": {},
   "outputs": [
    {
     "data": {
      "text/plain": [
       "array([], dtype=int64)"
      ]
     },
     "execution_count": 72,
     "metadata": {},
     "output_type": "execute_result"
    }
   ],
   "source": [
    "np.where(bs_rows==9000)[0]"
   ]
  },
  {
   "cell_type": "code",
   "execution_count": 49,
   "metadata": {},
   "outputs": [],
   "source": [
    "user_f = m.user_factors\n",
    "item_f = m.item_factors\n",
    "pred_matrix = item_f.dot(user_f.T).T"
   ]
  },
  {
   "cell_type": "code",
   "execution_count": 83,
   "metadata": {},
   "outputs": [],
   "source": [
    "b = bootstrap_to_user_item_matrix(m,bs_rows)"
   ]
  },
  {
   "cell_type": "code",
   "execution_count": 98,
   "metadata": {},
   "outputs": [],
   "source": [
    "user_ct_for_avg = np.zeros(671)"
   ]
  },
  {
   "cell_type": "code",
   "execution_count": 99,
   "metadata": {},
   "outputs": [],
   "source": [
    "users_for_this_model = np.unique(b.nonzero()[0])"
   ]
  },
  {
   "cell_type": "code",
   "execution_count": 102,
   "metadata": {},
   "outputs": [],
   "source": [
    "user_ct_for_avg[users_for_this_model] += 1"
   ]
  },
  {
   "cell_type": "code",
   "execution_count": 105,
   "metadata": {},
   "outputs": [
    {
     "name": "stderr",
     "output_type": "stream",
     "text": [
      "WARNING:root:Intel MKL BLAS detected. Its highly recommend to set the environment variable 'export MKL_NUM_THREADS=1' to disable its internal multithreading\n",
      "WARNING:root:Intel MKL BLAS detected. Its highly recommend to set the environment variable 'export MKL_NUM_THREADS=1' to disable its internal multithreading\n",
      "WARNING:root:Intel MKL BLAS detected. Its highly recommend to set the environment variable 'export MKL_NUM_THREADS=1' to disable its internal multithreading\n",
      "WARNING:root:Intel MKL BLAS detected. Its highly recommend to set the environment variable 'export MKL_NUM_THREADS=1' to disable its internal multithreading\n",
      "WARNING:root:Intel MKL BLAS detected. Its highly recommend to set the environment variable 'export MKL_NUM_THREADS=1' to disable its internal multithreading\n"
     ]
    }
   ],
   "source": [
    "models = []\n",
    "rows = []\n",
    "for i in range(5):\n",
    "    bs_train, bs_rows = bootstrap(train)\n",
    "    m = train_model(df,bs_train)\n",
    "    models.append(m)\n",
    "    rows.append(bs_rows)"
   ]
  },
  {
   "cell_type": "code",
   "execution_count": 107,
   "metadata": {},
   "outputs": [
    {
     "data": {
      "text/plain": [
       "(671, 9066)"
      ]
     },
     "execution_count": 107,
     "metadata": {},
     "output_type": "execute_result"
    }
   ],
   "source": [
    "pred_matrix.shape"
   ]
  },
  {
   "cell_type": "code",
   "execution_count": 122,
   "metadata": {},
   "outputs": [],
   "source": [
    "shape = (671, 9066)\n",
    "pred = bag_recommendations(df,models,rows,shape)"
   ]
  },
  {
   "cell_type": "code",
   "execution_count": 123,
   "metadata": {},
   "outputs": [
    {
     "data": {
      "text/plain": [
       "(671, 9066)"
      ]
     },
     "execution_count": 123,
     "metadata": {},
     "output_type": "execute_result"
    }
   ],
   "source": [
    "pred.shape"
   ]
  },
  {
   "cell_type": "code",
   "execution_count": 162,
   "metadata": {},
   "outputs": [
    {
     "name": "stdout",
     "output_type": "stream",
     "text": [
      "                                 count  mean\n",
      "title                                       \n",
      "Best in Show (2000)                  1   5.0\n",
      "American Movie (1999)                1   5.0\n",
      "Roger & Me (1989)                    1   5.0\n",
      "Poltergeist (1982)                   1   5.0\n",
      "Caddyshack II (1988)                 1   5.0\n",
      "Bully (2001)                         1   5.0\n",
      "Sex, Lies, and Videotape (1989)      1   5.0\n",
      "Shining, The (1980)                  1   5.0\n",
      "Novocaine (2001)                     1   4.0\n",
      "Pollock (2000)                       1   4.0\n"
     ]
    }
   ],
   "source": [
    "user_rated_movies(df,new_sparse,32)"
   ]
  },
  {
   "cell_type": "code",
   "execution_count": 154,
   "metadata": {},
   "outputs": [
    {
     "data": {
      "text/plain": [
       "array([ 266,  525,  321,  284,  472, 2288, 2374, 2062,  232,  100], dtype=int64)"
      ]
     },
     "execution_count": 154,
     "metadata": {},
     "output_type": "execute_result"
    }
   ],
   "source": [
    "top_10 = pred[2].argsort()[-10:][::-1]"
   ]
  },
  {
   "cell_type": "code",
   "execution_count": 163,
   "metadata": {},
   "outputs": [
    {
     "name": "stdout",
     "output_type": "stream",
     "text": [
      "        mid                                         title  \\\n",
      "11680  2374                             Fight Club (1999)   \n",
      "18163  1013                            Stand by Me (1986)   \n",
      "18804  1039                               Heathers (1989)   \n",
      "20439  1530                    Breakfast Club, The (1985)   \n",
      "22637  2147  Austin Powers: The Spy Who Shagged Me (1999)   \n",
      "26224  2004                           Office Space (1999)   \n",
      "26330  2164                           American Pie (1999)   \n",
      "51194  1905                               Rushmore (1998)   \n",
      "51727  2082                               Election (1999)   \n",
      "58001  3860                  Royal Tenenbaums, The (2001)   \n",
      "\n",
      "                            genres  \n",
      "11680  Action|Crime|Drama|Thriller  \n",
      "18163              Adventure|Drama  \n",
      "18804                       Comedy  \n",
      "20439                 Comedy|Drama  \n",
      "22637      Action|Adventure|Comedy  \n",
      "26224                 Comedy|Crime  \n",
      "26330               Comedy|Romance  \n",
      "51194                 Comedy|Drama  \n",
      "51727                       Comedy  \n",
      "58001                 Comedy|Drama  \n"
     ]
    }
   ],
   "source": [
    "recommend_movies_bootstrap(df,pred,32)"
   ]
  },
  {
   "cell_type": "code",
   "execution_count": 139,
   "metadata": {},
   "outputs": [
    {
     "data": {
      "text/html": [
       "<div>\n",
       "<style scoped>\n",
       "    .dataframe tbody tr th:only-of-type {\n",
       "        vertical-align: middle;\n",
       "    }\n",
       "\n",
       "    .dataframe tbody tr th {\n",
       "        vertical-align: top;\n",
       "    }\n",
       "\n",
       "    .dataframe thead th {\n",
       "        text-align: right;\n",
       "    }\n",
       "</style>\n",
       "<table border=\"1\" class=\"dataframe\">\n",
       "  <thead>\n",
       "    <tr style=\"text-align: right;\">\n",
       "      <th></th>\n",
       "      <th>userId</th>\n",
       "      <th>movieId</th>\n",
       "      <th>rating</th>\n",
       "      <th>timestamp</th>\n",
       "      <th>user_mean_rating</th>\n",
       "      <th>uid</th>\n",
       "      <th>movie_mean_rating</th>\n",
       "      <th>title</th>\n",
       "      <th>genres</th>\n",
       "      <th>mid</th>\n",
       "      <th>adjusted_rating</th>\n",
       "    </tr>\n",
       "  </thead>\n",
       "  <tbody>\n",
       "    <tr>\n",
       "      <th>0</th>\n",
       "      <td>1</td>\n",
       "      <td>31</td>\n",
       "      <td>2.5</td>\n",
       "      <td>1260759144</td>\n",
       "      <td>2.550000</td>\n",
       "      <td>0</td>\n",
       "      <td>3.178571</td>\n",
       "      <td>Dangerous Minds (1995)</td>\n",
       "      <td>Drama</td>\n",
       "      <td>30</td>\n",
       "      <td>-0.050000</td>\n",
       "    </tr>\n",
       "    <tr>\n",
       "      <th>1</th>\n",
       "      <td>7</td>\n",
       "      <td>31</td>\n",
       "      <td>3.0</td>\n",
       "      <td>851868750</td>\n",
       "      <td>3.465909</td>\n",
       "      <td>6</td>\n",
       "      <td>3.178571</td>\n",
       "      <td>Dangerous Minds (1995)</td>\n",
       "      <td>Drama</td>\n",
       "      <td>30</td>\n",
       "      <td>-0.465909</td>\n",
       "    </tr>\n",
       "    <tr>\n",
       "      <th>2</th>\n",
       "      <td>31</td>\n",
       "      <td>31</td>\n",
       "      <td>4.0</td>\n",
       "      <td>1273541953</td>\n",
       "      <td>4.166667</td>\n",
       "      <td>30</td>\n",
       "      <td>3.178571</td>\n",
       "      <td>Dangerous Minds (1995)</td>\n",
       "      <td>Drama</td>\n",
       "      <td>30</td>\n",
       "      <td>-0.166667</td>\n",
       "    </tr>\n",
       "    <tr>\n",
       "      <th>3</th>\n",
       "      <td>32</td>\n",
       "      <td>31</td>\n",
       "      <td>4.0</td>\n",
       "      <td>834828440</td>\n",
       "      <td>3.666667</td>\n",
       "      <td>31</td>\n",
       "      <td>3.178571</td>\n",
       "      <td>Dangerous Minds (1995)</td>\n",
       "      <td>Drama</td>\n",
       "      <td>30</td>\n",
       "      <td>0.333333</td>\n",
       "    </tr>\n",
       "    <tr>\n",
       "      <th>4</th>\n",
       "      <td>36</td>\n",
       "      <td>31</td>\n",
       "      <td>3.0</td>\n",
       "      <td>847057202</td>\n",
       "      <td>3.615385</td>\n",
       "      <td>35</td>\n",
       "      <td>3.178571</td>\n",
       "      <td>Dangerous Minds (1995)</td>\n",
       "      <td>Drama</td>\n",
       "      <td>30</td>\n",
       "      <td>-0.615385</td>\n",
       "    </tr>\n",
       "  </tbody>\n",
       "</table>\n",
       "</div>"
      ],
      "text/plain": [
       "   userId  movieId  rating   timestamp  user_mean_rating  uid  \\\n",
       "0       1       31     2.5  1260759144          2.550000    0   \n",
       "1       7       31     3.0   851868750          3.465909    6   \n",
       "2      31       31     4.0  1273541953          4.166667   30   \n",
       "3      32       31     4.0   834828440          3.666667   31   \n",
       "4      36       31     3.0   847057202          3.615385   35   \n",
       "\n",
       "   movie_mean_rating                   title genres  mid  adjusted_rating  \n",
       "0           3.178571  Dangerous Minds (1995)  Drama   30        -0.050000  \n",
       "1           3.178571  Dangerous Minds (1995)  Drama   30        -0.465909  \n",
       "2           3.178571  Dangerous Minds (1995)  Drama   30        -0.166667  \n",
       "3           3.178571  Dangerous Minds (1995)  Drama   30         0.333333  \n",
       "4           3.178571  Dangerous Minds (1995)  Drama   30        -0.615385  "
      ]
     },
     "execution_count": 139,
     "metadata": {},
     "output_type": "execute_result"
    }
   ],
   "source": [
    "df.head()"
   ]
  },
  {
   "cell_type": "code",
   "execution_count": null,
   "metadata": {},
   "outputs": [],
   "source": []
  }
 ],
 "metadata": {
  "kernelspec": {
   "display_name": "Python 3",
   "language": "python",
   "name": "python3"
  },
  "language_info": {
   "codemirror_mode": {
    "name": "ipython",
    "version": 3
   },
   "file_extension": ".py",
   "mimetype": "text/x-python",
   "name": "python",
   "nbconvert_exporter": "python",
   "pygments_lexer": "ipython3",
   "version": "3.6.0"
  },
  "varInspector": {
   "cols": {
    "lenName": 16,
    "lenType": 16,
    "lenVar": 40
   },
   "kernels_config": {
    "python": {
     "delete_cmd_postfix": "",
     "delete_cmd_prefix": "del ",
     "library": "var_list.py",
     "varRefreshCmd": "print(var_dic_list())"
    },
    "r": {
     "delete_cmd_postfix": ") ",
     "delete_cmd_prefix": "rm(",
     "library": "var_list.r",
     "varRefreshCmd": "cat(var_dic_list()) "
    }
   },
   "types_to_exclude": [
    "module",
    "function",
    "builtin_function_or_method",
    "instance",
    "_Feature"
   ],
   "window_display": false
  }
 },
 "nbformat": 4,
 "nbformat_minor": 2
}
