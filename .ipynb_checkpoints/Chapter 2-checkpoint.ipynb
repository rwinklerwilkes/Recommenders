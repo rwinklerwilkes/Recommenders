{
 "cells": [
  {
   "cell_type": "code",
   "execution_count": 4,
   "metadata": {},
   "outputs": [],
   "source": [
    "import numpy as np\n",
    "import pandas as pd\n",
    "from matplotlib import pyplot as plt"
   ]
  },
  {
   "cell_type": "code",
   "execution_count": 5,
   "metadata": {},
   "outputs": [],
   "source": [
    "def load_movielens(mean_adjust = 'user'):\n",
    "    '''Loads movielens set into a Dataframe. Adjusted rating is user by default'''\n",
    "    path = 'ml-latest-small\\\\'\n",
    "    df = pd.read_csv(path + 'ratings.csv')\n",
    "    movie_xref = pd.read_csv(path + 'movies.csv')\n",
    "    users = df.groupby('userId').mean()['rating'].reset_index()\n",
    "    users['user_mean_rating'] = users['rating']\n",
    "    users['uid'] = users.index\n",
    "    users.drop('rating',inplace=True,axis=1)\n",
    "    df = df.merge(users,left_on='userId',right_on='userId')\n",
    "    movies = df.groupby('movieId').mean()['rating'].reset_index()\n",
    "    movies['movie_mean_rating'] = movies['rating']\n",
    "    movies = movies.merge(movie_xref,left_on='movieId',right_on='movieId')\n",
    "    movies.drop('rating',inplace=True,axis=1)\n",
    "    movies['mid'] = movies.index\n",
    "    df = df.merge(movies,left_on='movieId',right_on='movieId')\n",
    "    if mean_adjust == 'user':\n",
    "        df['adjusted_rating'] = df['rating'] - df['user_mean_rating']\n",
    "    elif mean_adjust == 'movie':\n",
    "        df['adjusted_rating'] = df['rating'] - df['movie_mean_rating']\n",
    "    return df"
   ]
  },
  {
   "cell_type": "code",
   "execution_count": 3,
   "metadata": {},
   "outputs": [],
   "source": [
    "table_21 = [\n",
    "    [5,3,4,4,np.nan],\n",
    "    [3,1,2,3,3],\n",
    "    [4,3,4,3,5],\n",
    "    [3,3,1,5,4],\n",
    "    [1,5,5,2,1]\n",
    "]\n",
    "table_21 = pd.DataFrame(table_21,columns=['i%i'%i for i in range(5)])\n",
    "table_21.index = ['Alice'] + ['u%i'%i for i in range(1,5)]"
   ]
  },
  {
   "cell_type": "code",
   "execution_count": 4,
   "metadata": {},
   "outputs": [
    {
     "data": {
      "text/html": [
       "<div>\n",
       "<style scoped>\n",
       "    .dataframe tbody tr th:only-of-type {\n",
       "        vertical-align: middle;\n",
       "    }\n",
       "\n",
       "    .dataframe tbody tr th {\n",
       "        vertical-align: top;\n",
       "    }\n",
       "\n",
       "    .dataframe thead th {\n",
       "        text-align: right;\n",
       "    }\n",
       "</style>\n",
       "<table border=\"1\" class=\"dataframe\">\n",
       "  <thead>\n",
       "    <tr style=\"text-align: right;\">\n",
       "      <th></th>\n",
       "      <th>i0</th>\n",
       "      <th>i1</th>\n",
       "      <th>i2</th>\n",
       "      <th>i3</th>\n",
       "      <th>i4</th>\n",
       "    </tr>\n",
       "  </thead>\n",
       "  <tbody>\n",
       "    <tr>\n",
       "      <th>Alice</th>\n",
       "      <td>5</td>\n",
       "      <td>3</td>\n",
       "      <td>4</td>\n",
       "      <td>4</td>\n",
       "      <td>NaN</td>\n",
       "    </tr>\n",
       "    <tr>\n",
       "      <th>u1</th>\n",
       "      <td>3</td>\n",
       "      <td>1</td>\n",
       "      <td>2</td>\n",
       "      <td>3</td>\n",
       "      <td>3.0</td>\n",
       "    </tr>\n",
       "    <tr>\n",
       "      <th>u2</th>\n",
       "      <td>4</td>\n",
       "      <td>3</td>\n",
       "      <td>4</td>\n",
       "      <td>3</td>\n",
       "      <td>5.0</td>\n",
       "    </tr>\n",
       "    <tr>\n",
       "      <th>u3</th>\n",
       "      <td>3</td>\n",
       "      <td>3</td>\n",
       "      <td>1</td>\n",
       "      <td>5</td>\n",
       "      <td>4.0</td>\n",
       "    </tr>\n",
       "    <tr>\n",
       "      <th>u4</th>\n",
       "      <td>1</td>\n",
       "      <td>5</td>\n",
       "      <td>5</td>\n",
       "      <td>2</td>\n",
       "      <td>1.0</td>\n",
       "    </tr>\n",
       "  </tbody>\n",
       "</table>\n",
       "</div>"
      ],
      "text/plain": [
       "       i0  i1  i2  i3   i4\n",
       "Alice   5   3   4   4  NaN\n",
       "u1      3   1   2   3  3.0\n",
       "u2      4   3   4   3  5.0\n",
       "u3      3   3   1   5  4.0\n",
       "u4      1   5   5   2  1.0"
      ]
     },
     "execution_count": 4,
     "metadata": {},
     "output_type": "execute_result"
    }
   ],
   "source": [
    "table_21"
   ]
  },
  {
   "cell_type": "markdown",
   "metadata": {},
   "source": [
    "# User-Based"
   ]
  },
  {
   "cell_type": "code",
   "execution_count": 47,
   "metadata": {},
   "outputs": [],
   "source": [
    "df = table_21\n",
    "a = 'Alice'\n",
    "b = 'u1'\n",
    "\n",
    "a = df.loc[a,:]\n",
    "b = df.loc[b,:]\n",
    "anull = list(a[a.isnull()].index)\n",
    "bnull = list(b[b.isnull()].index)\n",
    "missing_both = set(anull).union(set(bnull))\n",
    "remain = list(set(df.columns) - missing_both)\n",
    "a = a[remain]\n",
    "b = b[remain]"
   ]
  },
  {
   "cell_type": "code",
   "execution_count": 130,
   "metadata": {},
   "outputs": [],
   "source": [
    "def sim(df,a,b):\n",
    "    a = df.loc[a,:]\n",
    "    b = df.loc[b,:]\n",
    "    anull = list(a[a.isnull()].index)\n",
    "    bnull = list(b[b.isnull()].index)\n",
    "    missing_both = set(anull).union(set(bnull))\n",
    "    remain = list(set(df.columns) - missing_both)\n",
    "    a = a[remain]\n",
    "    b = b[remain]\n",
    "    amz = a - a.mean()\n",
    "    bmz = b - b.mean()\n",
    "    num = (amz * bmz).sum()\n",
    "    denom = np.sqrt((amz**2).sum()) * np.sqrt((bmz**2).sum())\n",
    "    return num/denom  \n",
    "\n",
    "def nearest_neighbors(df,a,n,p):\n",
    "    #check_u = list(df[~df.index.isin([a])].index)\n",
    "    check_u = ~df.loc[~df.index.isin(['Alice']),p].isnull()\n",
    "    check_u = list(check_u[check_u].index)\n",
    "    sim_a = {u:sim(df,a,u) for u in check_u}\n",
    "    nearest_users_ind = np.argsort(list(sim_a.values()))[-n:]\n",
    "    nearest_users = np.array(list(sim_a.keys()))[nearest_users_ind]\n",
    "    return nearest_users"
   ]
  },
  {
   "cell_type": "code",
   "execution_count": 141,
   "metadata": {},
   "outputs": [],
   "source": [
    "def pred(df,a,p,n):\n",
    "    df_a = df.loc[a,:]\n",
    "    abar = df_a.mean()\n",
    "    nearest_users = nearest_neighbors(df,a,n,p)\n",
    "    print(nearest_users)\n",
    "    num = 0\n",
    "    denom = 0\n",
    "    for u in nearest_users:\n",
    "        df_u = df.loc[u,:]\n",
    "        u_p = df_u[p]\n",
    "        u_bar = df_u.mean()\n",
    "        s = sim(df,a,u)\n",
    "        num += s*(u_p - u_bar)\n",
    "        denom += s\n",
    "    return abar + num/denom"
   ]
  },
  {
   "cell_type": "code",
   "execution_count": 145,
   "metadata": {},
   "outputs": [
    {
     "name": "stdout",
     "output_type": "stream",
     "text": [
      "['u1', 'u2', 'u3', 'u4']\n",
      "['u2' 'u1']\n"
     ]
    },
    {
     "data": {
      "text/plain": [
       "4.8719798993705918"
      ]
     },
     "execution_count": 145,
     "metadata": {},
     "output_type": "execute_result"
    }
   ],
   "source": [
    "pred(df,'Alice','i4',2)"
   ]
  },
  {
   "cell_type": "markdown",
   "metadata": {},
   "source": [
    "# Item-Based"
   ]
  },
  {
   "cell_type": "code",
   "execution_count": 65,
   "metadata": {},
   "outputs": [],
   "source": [
    "a = [1,2,3]\n",
    "b = [4,5,6]\n",
    "\n",
    "def cosine_sim(a,b):\n",
    "    na = np.linalg.norm(a)\n",
    "    nb = np.linalg.norm(b)\n",
    "    num = np.dot(a,b)\n",
    "    denom = na * nb\n",
    "    return num/denom,num,denom\n",
    "\n",
    "def cosine_sim_item(df,p,q):\n",
    "    df_pq = df.loc[:,[p,q]]\n",
    "    df_pq = df_pq.loc[~df_pq.isnull().any(axis=1),:]\n",
    "    df_p = df_pq.loc[:,p]\n",
    "    df_q = df_pq.loc[:,q]\n",
    "    cs,n,d = cosine_sim(df_p,df_q)\n",
    "    return cs\n",
    "\n",
    "def adjusted_cosine_sim_item(df,p,q):\n",
    "    if p==q:\n",
    "        return 1\n",
    "    else:\n",
    "        temp_df = df.subtract(df.mean(axis=1),axis=0)\n",
    "        df_pq = temp_df.loc[:,[p,q]]\n",
    "        df_pq = df_pq.loc[~df_pq.isnull().any(axis=1),:]\n",
    "        df_p = df_pq.loc[:,p]\n",
    "        df_q = df_pq.loc[:,q]\n",
    "        cs,n,d = cosine_sim(df_p,df_q)\n",
    "        return cs\n",
    "\n",
    "def nearest_neighbors(df,p,n):\n",
    "    check_i = list(df.drop(p,axis=1).columns)\n",
    "    sim_p = {i:adjusted_cosine_sim_item(df,p,i) for i in check_i}\n",
    "    nearest_item_ind = np.argsort(list(sim_p.values()))[-n:]\n",
    "    items = np.array(list(sim_p.keys()))[nearest_item_ind]\n",
    "    return items\n",
    "\n",
    "def pred_item(df,u,p):\n",
    "    df_u = df.loc[u,:]\n",
    "    rated_items = list(df_u[~df_u.isnull()].index)\n",
    "    nearest_items = nearest_neighbors(df,p,2)\n",
    "    \n",
    "    num = 0\n",
    "    denom = 0\n",
    "    for i in nearest_items:\n",
    "        sim = adjusted_cosine_sim_item(df,p,i)\n",
    "        num += sim * df_u[i]\n",
    "        denom += sim\n",
    "    return num/denom,num,denom\n",
    "\n",
    "def item_similarity_matrix(df):\n",
    "    n = len(df.columns)\n",
    "    sim_mat = np.zeros((n,n))\n",
    "    \n",
    "    for i in range(len(df.columns)):\n",
    "        u = df.columns[i]\n",
    "        for j in range(len(df.columns)):\n",
    "            v = df.columns[j]\n",
    "            sim_mat[i][j] = adjusted_cosine_sim_item(df,u,v)\n",
    "    sim_mat = pd.DataFrame(sim_mat,columns=df.columns,index=df.columns)\n",
    "    return sim_mat\n",
    "            \n",
    "def item_similarity_matrix_2(df):\n",
    "    ndf = np.array(df.fillna(0).T)\n",
    "    A = np.dot(ndf,ndf.T)\n",
    "    B = ndf**2\n",
    "    C = np.sqrt(B.sum(axis=1))\n",
    "    C = np.outer(C.T,C)\n",
    "    return A/C"
   ]
  },
  {
   "cell_type": "code",
   "execution_count": 9,
   "metadata": {},
   "outputs": [],
   "source": [
    "df = table_21"
   ]
  },
  {
   "cell_type": "code",
   "execution_count": 10,
   "metadata": {},
   "outputs": [
    {
     "data": {
      "text/plain": [
       "0.99410024349541681"
      ]
     },
     "execution_count": 10,
     "metadata": {},
     "output_type": "execute_result"
    }
   ],
   "source": [
    "cosine_sim_item(df,'i0','i4')"
   ]
  },
  {
   "cell_type": "code",
   "execution_count": 258,
   "metadata": {},
   "outputs": [
    {
     "data": {
      "text/plain": [
       "0.80491448237912955"
      ]
     },
     "execution_count": 258,
     "metadata": {},
     "output_type": "execute_result"
    }
   ],
   "source": [
    "adjusted_cosine_sim_item(df,'i0','i4')"
   ]
  },
  {
   "cell_type": "code",
   "execution_count": 260,
   "metadata": {},
   "outputs": [],
   "source": [
    "p,num,denom = pred_item(df,'Alice','i4')"
   ]
  },
  {
   "cell_type": "code",
   "execution_count": 11,
   "metadata": {},
   "outputs": [
    {
     "data": {
      "text/html": [
       "<div>\n",
       "<style scoped>\n",
       "    .dataframe tbody tr th:only-of-type {\n",
       "        vertical-align: middle;\n",
       "    }\n",
       "\n",
       "    .dataframe tbody tr th {\n",
       "        vertical-align: top;\n",
       "    }\n",
       "\n",
       "    .dataframe thead th {\n",
       "        text-align: right;\n",
       "    }\n",
       "</style>\n",
       "<table border=\"1\" class=\"dataframe\">\n",
       "  <thead>\n",
       "    <tr style=\"text-align: right;\">\n",
       "      <th></th>\n",
       "      <th>i0</th>\n",
       "      <th>i1</th>\n",
       "      <th>i2</th>\n",
       "      <th>i3</th>\n",
       "      <th>i4</th>\n",
       "    </tr>\n",
       "  </thead>\n",
       "  <tbody>\n",
       "    <tr>\n",
       "      <th>i0</th>\n",
       "      <td>1.000000</td>\n",
       "      <td>-0.939725</td>\n",
       "      <td>-0.547068</td>\n",
       "      <td>0.267841</td>\n",
       "      <td>0.804914</td>\n",
       "    </tr>\n",
       "    <tr>\n",
       "      <th>i1</th>\n",
       "      <td>-0.939725</td>\n",
       "      <td>1.000000</td>\n",
       "      <td>0.620543</td>\n",
       "      <td>-0.360645</td>\n",
       "      <td>-0.908232</td>\n",
       "    </tr>\n",
       "    <tr>\n",
       "      <th>i2</th>\n",
       "      <td>-0.547068</td>\n",
       "      <td>0.620543</td>\n",
       "      <td>1.000000</td>\n",
       "      <td>-0.881380</td>\n",
       "      <td>-0.763560</td>\n",
       "    </tr>\n",
       "    <tr>\n",
       "      <th>i3</th>\n",
       "      <td>0.267841</td>\n",
       "      <td>-0.360645</td>\n",
       "      <td>-0.881380</td>\n",
       "      <td>1.000000</td>\n",
       "      <td>0.433063</td>\n",
       "    </tr>\n",
       "    <tr>\n",
       "      <th>i4</th>\n",
       "      <td>0.804914</td>\n",
       "      <td>-0.908232</td>\n",
       "      <td>-0.763560</td>\n",
       "      <td>0.433063</td>\n",
       "      <td>1.000000</td>\n",
       "    </tr>\n",
       "  </tbody>\n",
       "</table>\n",
       "</div>"
      ],
      "text/plain": [
       "          i0        i1        i2        i3        i4\n",
       "i0  1.000000 -0.939725 -0.547068  0.267841  0.804914\n",
       "i1 -0.939725  1.000000  0.620543 -0.360645 -0.908232\n",
       "i2 -0.547068  0.620543  1.000000 -0.881380 -0.763560\n",
       "i3  0.267841 -0.360645 -0.881380  1.000000  0.433063\n",
       "i4  0.804914 -0.908232 -0.763560  0.433063  1.000000"
      ]
     },
     "execution_count": 11,
     "metadata": {},
     "output_type": "execute_result"
    }
   ],
   "source": [
    "item_similarity_matrix(df)"
   ]
  },
  {
   "cell_type": "code",
   "execution_count": 35,
   "metadata": {},
   "outputs": [
    {
     "data": {
      "text/html": [
       "<div>\n",
       "<style scoped>\n",
       "    .dataframe tbody tr th:only-of-type {\n",
       "        vertical-align: middle;\n",
       "    }\n",
       "\n",
       "    .dataframe tbody tr th {\n",
       "        vertical-align: top;\n",
       "    }\n",
       "\n",
       "    .dataframe thead th {\n",
       "        text-align: right;\n",
       "    }\n",
       "</style>\n",
       "<table border=\"1\" class=\"dataframe\">\n",
       "  <thead>\n",
       "    <tr style=\"text-align: right;\">\n",
       "      <th></th>\n",
       "      <th>i0</th>\n",
       "      <th>i1</th>\n",
       "      <th>i2</th>\n",
       "      <th>i3</th>\n",
       "      <th>i4</th>\n",
       "    </tr>\n",
       "  </thead>\n",
       "  <tbody>\n",
       "    <tr>\n",
       "      <th>Alice</th>\n",
       "      <td>5</td>\n",
       "      <td>3</td>\n",
       "      <td>4</td>\n",
       "      <td>4</td>\n",
       "      <td>0.0</td>\n",
       "    </tr>\n",
       "    <tr>\n",
       "      <th>u1</th>\n",
       "      <td>3</td>\n",
       "      <td>1</td>\n",
       "      <td>2</td>\n",
       "      <td>3</td>\n",
       "      <td>3.0</td>\n",
       "    </tr>\n",
       "    <tr>\n",
       "      <th>u2</th>\n",
       "      <td>4</td>\n",
       "      <td>3</td>\n",
       "      <td>4</td>\n",
       "      <td>3</td>\n",
       "      <td>5.0</td>\n",
       "    </tr>\n",
       "    <tr>\n",
       "      <th>u3</th>\n",
       "      <td>3</td>\n",
       "      <td>3</td>\n",
       "      <td>1</td>\n",
       "      <td>5</td>\n",
       "      <td>4.0</td>\n",
       "    </tr>\n",
       "    <tr>\n",
       "      <th>u4</th>\n",
       "      <td>1</td>\n",
       "      <td>5</td>\n",
       "      <td>5</td>\n",
       "      <td>2</td>\n",
       "      <td>1.0</td>\n",
       "    </tr>\n",
       "  </tbody>\n",
       "</table>\n",
       "</div>"
      ],
      "text/plain": [
       "       i0  i1  i2  i3   i4\n",
       "Alice   5   3   4   4  0.0\n",
       "u1      3   1   2   3  3.0\n",
       "u2      4   3   4   3  5.0\n",
       "u3      3   3   1   5  4.0\n",
       "u4      1   5   5   2  1.0"
      ]
     },
     "execution_count": 35,
     "metadata": {},
     "output_type": "execute_result"
    }
   ],
   "source": [
    "df.fillna(0)"
   ]
  },
  {
   "cell_type": "code",
   "execution_count": 62,
   "metadata": {},
   "outputs": [],
   "source": [
    "ndf = np.array(df.fillna(0).T)\n",
    "A = np.dot(ndf,ndf.T)\n",
    "B = ndf**2\n",
    "C = np.sqrt(B.sum(axis=1))\n",
    "C = np.outer(C.T,C)"
   ]
  },
  {
   "cell_type": "code",
   "execution_count": 56,
   "metadata": {},
   "outputs": [
    {
     "data": {
      "text/plain": [
       "array([[ 1.        ,  0.78025959,  0.81978229,  0.94337007,  0.7592566 ],\n",
       "       [ 0.78025959,  1.        ,  0.94201969,  0.84798442,  0.67320142],\n",
       "       [ 0.81978229,  0.94201969,  1.        ,  0.78402509,  0.62242512],\n",
       "       [ 0.94337007,  0.84798442,  0.78402509,  1.        ,  0.81152606],\n",
       "       [ 0.7592566 ,  0.67320142,  0.62242512,  0.81152606,  1.        ]])"
      ]
     },
     "execution_count": 56,
     "metadata": {},
     "output_type": "execute_result"
    }
   ],
   "source": [
    "from sklearn.metrics.pairwise import cosine_similarity\n",
    "\n",
    "cosine_similarity(df.fillna(0).T)"
   ]
  },
  {
   "cell_type": "markdown",
   "metadata": {},
   "source": [
    "# SVD"
   ]
  },
  {
   "cell_type": "code",
   "execution_count": 286,
   "metadata": {},
   "outputs": [],
   "source": [
    "from sklearn.decomposition import PCA"
   ]
  },
  {
   "cell_type": "code",
   "execution_count": 284,
   "metadata": {},
   "outputs": [],
   "source": [
    "sdf = df.drop('Alice',axis=0).T\n",
    "sdf=sdf.drop('i4',axis=0)\n",
    "sdf.loc['i1','u3'] = 2\n",
    "sdf.loc['i1','u4'] = 6"
   ]
  },
  {
   "cell_type": "code",
   "execution_count": 285,
   "metadata": {},
   "outputs": [
    {
     "data": {
      "text/html": [
       "<div>\n",
       "<style scoped>\n",
       "    .dataframe tbody tr th:only-of-type {\n",
       "        vertical-align: middle;\n",
       "    }\n",
       "\n",
       "    .dataframe tbody tr th {\n",
       "        vertical-align: top;\n",
       "    }\n",
       "\n",
       "    .dataframe thead th {\n",
       "        text-align: right;\n",
       "    }\n",
       "</style>\n",
       "<table border=\"1\" class=\"dataframe\">\n",
       "  <thead>\n",
       "    <tr style=\"text-align: right;\">\n",
       "      <th></th>\n",
       "      <th>u1</th>\n",
       "      <th>u2</th>\n",
       "      <th>u3</th>\n",
       "      <th>u4</th>\n",
       "    </tr>\n",
       "  </thead>\n",
       "  <tbody>\n",
       "    <tr>\n",
       "      <th>i0</th>\n",
       "      <td>3.0</td>\n",
       "      <td>4.0</td>\n",
       "      <td>3.0</td>\n",
       "      <td>1.0</td>\n",
       "    </tr>\n",
       "    <tr>\n",
       "      <th>i1</th>\n",
       "      <td>1.0</td>\n",
       "      <td>3.0</td>\n",
       "      <td>2.0</td>\n",
       "      <td>6.0</td>\n",
       "    </tr>\n",
       "    <tr>\n",
       "      <th>i2</th>\n",
       "      <td>2.0</td>\n",
       "      <td>4.0</td>\n",
       "      <td>1.0</td>\n",
       "      <td>5.0</td>\n",
       "    </tr>\n",
       "    <tr>\n",
       "      <th>i3</th>\n",
       "      <td>3.0</td>\n",
       "      <td>3.0</td>\n",
       "      <td>5.0</td>\n",
       "      <td>2.0</td>\n",
       "    </tr>\n",
       "  </tbody>\n",
       "</table>\n",
       "</div>"
      ],
      "text/plain": [
       "     u1   u2   u3   u4\n",
       "i0  3.0  4.0  3.0  1.0\n",
       "i1  1.0  3.0  2.0  6.0\n",
       "i2  2.0  4.0  1.0  5.0\n",
       "i3  3.0  3.0  5.0  2.0"
      ]
     },
     "execution_count": 285,
     "metadata": {},
     "output_type": "execute_result"
    }
   ],
   "source": [
    "sdf"
   ]
  },
  {
   "cell_type": "code",
   "execution_count": 401,
   "metadata": {},
   "outputs": [],
   "source": [
    "from sklearn.utils.extmath import randomized_svd\n",
    "\n",
    "sdf_np = np.array(sdf)\n",
    "U, Sigma, V = randomized_svd(sdf_np,n_components=4,flip_sign=False,transpose=False)\n",
    "U, Sigma, V = np.linalg.svd(sdf_np)\n",
    "smat = np.diagflat(Sigma)\n",
    "#Reconstruct with np.dot(np.dot(U,np.diagflat(Sigma)),V)"
   ]
  },
  {
   "cell_type": "code",
   "execution_count": 397,
   "metadata": {},
   "outputs": [],
   "source": [
    "a = np.array([5,3,4,4])"
   ]
  },
  {
   "cell_type": "code",
   "execution_count": 402,
   "metadata": {},
   "outputs": [
    {
     "data": {
      "text/plain": [
       "array([[-0.43124523,  0.49315012, -0.55075835, -0.51719991],\n",
       "       [-0.53273754, -0.53052572,  0.41966021, -0.50854546],\n",
       "       [-0.52374556, -0.40520071, -0.48729169,  0.5692537 ],\n",
       "       [-0.50587435,  0.5578152 ,  0.53206894,  0.38708653]])"
      ]
     },
     "execution_count": 402,
     "metadata": {},
     "output_type": "execute_result"
    }
   ],
   "source": [
    "U"
   ]
  },
  {
   "cell_type": "code",
   "execution_count": 409,
   "metadata": {},
   "outputs": [
    {
     "data": {
      "text/plain": [
       "array([-0.64418534,  0.30125475, -0.63751178, -0.96174681])"
      ]
     },
     "execution_count": 409,
     "metadata": {},
     "output_type": "execute_result"
    }
   ],
   "source": [
    "smat_inv = np.linalg.inv(smat)\n",
    "np.dot(np.dot(a,U),smat_inv)"
   ]
  },
  {
   "cell_type": "markdown",
   "metadata": {},
   "source": [
    "# Try to Use - Movielens"
   ]
  },
  {
   "cell_type": "code",
   "execution_count": 1,
   "metadata": {},
   "outputs": [],
   "source": [
    "from scipy.sparse import csc_matrix"
   ]
  },
  {
   "cell_type": "code",
   "execution_count": 2,
   "metadata": {},
   "outputs": [],
   "source": [
    "def cosine_sim(a,b):\n",
    "    na = np.linalg.norm(a)\n",
    "    nb = np.linalg.norm(b)\n",
    "    num = np.dot(a,b)\n",
    "    denom = na * nb\n",
    "    return num/denom,num,denom\n",
    "\n",
    "def cosine_sim_mat(a,b):\n",
    "    na = np.linalg.norm(a)\n",
    "    nb = np.linalg.norm(b)\n",
    "    num = a.dot(b.T)\n",
    "    denom = na * nb\n",
    "    return num/denom,num,denom\n",
    "\n",
    "def cosine_sim_item(df,p,q):\n",
    "    df_pq = df.loc[:,[p,q]]\n",
    "    df_pq = df_pq.loc[~df_pq.isnull().any(axis=1),:]\n",
    "    df_p = df_pq.loc[:,p]\n",
    "    df_q = df_pq.loc[:,q]\n",
    "    cs,n,d = cosine_sim(df_p,df_q)\n",
    "    return cs\n",
    "\n",
    "def nearest_neighbors(df,p,n):\n",
    "    check_i = list(df.drop(p,axis=1).columns)\n",
    "    sim_p = {i:adjusted_cosine_sim_item(df,p,i) for i in check_i}\n",
    "    nearest_item_ind = np.argsort(list(sim_p.values()))[-n:]\n",
    "    items = np.array(list(sim_p.keys()))[nearest_item_ind]\n",
    "    return items\n",
    "\n",
    "def pred_item(df,u,p):\n",
    "    df_u = df.loc[u,:]\n",
    "    rated_items = list(df_u[~df_u.isnull()].index)\n",
    "    nearest_items = nearest_neighbors(df,p,2)\n",
    "    \n",
    "    num = 0\n",
    "    denom = 0\n",
    "    for i in nearest_items:\n",
    "        sim = adjusted_cosine_sim_item(df,p,i)\n",
    "        num += sim * df_u[i]\n",
    "        denom += sim\n",
    "    return num/denom,num,denom\n",
    "\n",
    "def adjusted_cosine_sim_item(df,p,q):\n",
    "    df_pq = df_mat[:,[i,j]]\n",
    "    nz = df_pq.nonzero()\n",
    "    df = pd.DataFrame(nz[0],columns=['movies'])\n",
    "    df['ind'] = 1\n",
    "    ct = df.groupby('movies').count().reset_index()\n",
    "    ct = ct[ct['ind']==2]['movies']\n",
    "    \n",
    "    if ct.shape[0] != 0:\n",
    "        df_pq = df_pq[ct,:]\n",
    "        df_p = df_pq[:,0].todense().reshape(1,-1)[0]\n",
    "        df_q = df_pq[:,1].todense().reshape(1,-1)[0]\n",
    "        cs,n,d = cosine_sim_mat(df_p,df_q)\n",
    "        return cs[0,0]\n",
    "    else:\n",
    "        return np.nan\n",
    "\n",
    "#Rewrite to use sparse matrix\n",
    "def item_similarity_matrix(df):\n",
    "    n = df.shape[1]\n",
    "    sim_mat = np.zeros((n,n))\n",
    "    \n",
    "    for i in range(n):\n",
    "        if i%10==0:\n",
    "            print(i)\n",
    "        u = df[:,i]\n",
    "        for j in range(n):\n",
    "            v = df[:,j]\n",
    "            if i==j:\n",
    "                acsi = 1\n",
    "            elif i > j:\n",
    "                acsi = sim_mat[j][i]\n",
    "            else:\n",
    "                acsi = adjusted_cosine_sim_item(df,i,j)\n",
    "            sim_mat[i][j] = acsi\n",
    "    sim_mat = pd.DataFrame(sim_mat,columns=df.columns,index=df.columns)\n",
    "    return sim_mat"
   ]
  },
  {
   "cell_type": "code",
   "execution_count": 5,
   "metadata": {},
   "outputs": [],
   "source": [
    "path = 'ml-latest-small\\\\'\n",
    "df = pd.read_csv(path + 'ratings.csv')\n",
    "movie_xref = pd.read_csv(path + 'movies.csv')"
   ]
  },
  {
   "cell_type": "code",
   "execution_count": 6,
   "metadata": {},
   "outputs": [],
   "source": [
    "movies = df.groupby('movieId').mean()['rating'].reset_index()\n",
    "movies = movies.merge(movie_xref,left_on='movieId',right_on='movieId')\n",
    "users = df['userId'].unique()\n",
    "data = df['rating']\n",
    "#df_mat = coo_matrix((data,(users,movies)))\n"
   ]
  },
  {
   "cell_type": "code",
   "execution_count": 7,
   "metadata": {},
   "outputs": [],
   "source": [
    "movies['mean_rating'] = movies['rating']\n",
    "movies = movies.drop('rating',axis=1)"
   ]
  },
  {
   "cell_type": "code",
   "execution_count": 8,
   "metadata": {},
   "outputs": [],
   "source": [
    "movies['mid'] = movies.index"
   ]
  },
  {
   "cell_type": "code",
   "execution_count": 9,
   "metadata": {},
   "outputs": [],
   "source": [
    "df = df.merge(movies,left_on='movieId',right_on='movieId')"
   ]
  },
  {
   "cell_type": "code",
   "execution_count": 10,
   "metadata": {},
   "outputs": [],
   "source": [
    "df['uid'] = df['userId']-1\n",
    "df['adjusted_rating'] = df['rating'] - df['mean_rating']"
   ]
  },
  {
   "cell_type": "code",
   "execution_count": 11,
   "metadata": {},
   "outputs": [],
   "source": [
    "users_list = df['uid']\n",
    "movies_list = df['mid']\n",
    "ratings_list = df['adjusted_rating']"
   ]
  },
  {
   "cell_type": "code",
   "execution_count": 12,
   "metadata": {},
   "outputs": [],
   "source": [
    "df_mat = csc_matrix((ratings_list,(users_list,movies_list)))"
   ]
  },
  {
   "cell_type": "code",
   "execution_count": 13,
   "metadata": {},
   "outputs": [],
   "source": [
    "from sklearn.metrics.pairwise import cosine_similarity"
   ]
  },
  {
   "cell_type": "code",
   "execution_count": 14,
   "metadata": {},
   "outputs": [],
   "source": [
    "s = cosine_similarity(df_mat.T,dense_output=False)"
   ]
  },
  {
   "cell_type": "code",
   "execution_count": 15,
   "metadata": {},
   "outputs": [
    {
     "data": {
      "text/html": [
       "<div>\n",
       "<style scoped>\n",
       "    .dataframe tbody tr th:only-of-type {\n",
       "        vertical-align: middle;\n",
       "    }\n",
       "\n",
       "    .dataframe tbody tr th {\n",
       "        vertical-align: top;\n",
       "    }\n",
       "\n",
       "    .dataframe thead th {\n",
       "        text-align: right;\n",
       "    }\n",
       "</style>\n",
       "<table border=\"1\" class=\"dataframe\">\n",
       "  <thead>\n",
       "    <tr style=\"text-align: right;\">\n",
       "      <th></th>\n",
       "      <th>movieId</th>\n",
       "      <th>title</th>\n",
       "      <th>genres</th>\n",
       "      <th>mean_rating</th>\n",
       "      <th>mid</th>\n",
       "    </tr>\n",
       "  </thead>\n",
       "  <tbody>\n",
       "    <tr>\n",
       "      <th>328</th>\n",
       "      <td>364</td>\n",
       "      <td>Lion King, The (1994)</td>\n",
       "      <td>Adventure|Animation|Children|Drama|Musical|IMAX</td>\n",
       "      <td>3.777500</td>\n",
       "      <td>328</td>\n",
       "    </tr>\n",
       "    <tr>\n",
       "      <th>521</th>\n",
       "      <td>588</td>\n",
       "      <td>Aladdin (1992)</td>\n",
       "      <td>Adventure|Animation|Children|Comedy|Musical</td>\n",
       "      <td>3.674419</td>\n",
       "      <td>521</td>\n",
       "    </tr>\n",
       "    <tr>\n",
       "      <th>883</th>\n",
       "      <td>1092</td>\n",
       "      <td>Basic Instinct (1992)</td>\n",
       "      <td>Crime|Mystery|Thriller</td>\n",
       "      <td>3.294643</td>\n",
       "      <td>883</td>\n",
       "    </tr>\n",
       "    <tr>\n",
       "      <th>1866</th>\n",
       "      <td>2355</td>\n",
       "      <td>Bug's Life, A (1998)</td>\n",
       "      <td>Adventure|Animation|Children|Comedy</td>\n",
       "      <td>3.609524</td>\n",
       "      <td>1866</td>\n",
       "    </tr>\n",
       "    <tr>\n",
       "      <th>2506</th>\n",
       "      <td>3114</td>\n",
       "      <td>Toy Story 2 (1999)</td>\n",
       "      <td>Adventure|Animation|Children|Comedy|Fantasy</td>\n",
       "      <td>3.844000</td>\n",
       "      <td>2506</td>\n",
       "    </tr>\n",
       "    <tr>\n",
       "      <th>3419</th>\n",
       "      <td>4306</td>\n",
       "      <td>Shrek (2001)</td>\n",
       "      <td>Adventure|Animation|Children|Comedy|Fantasy|Ro...</td>\n",
       "      <td>3.847701</td>\n",
       "      <td>3419</td>\n",
       "    </tr>\n",
       "    <tr>\n",
       "      <th>3803</th>\n",
       "      <td>4886</td>\n",
       "      <td>Monsters, Inc. (2001)</td>\n",
       "      <td>Adventure|Animation|Children|Comedy|Fantasy</td>\n",
       "      <td>3.884615</td>\n",
       "      <td>3803</td>\n",
       "    </tr>\n",
       "    <tr>\n",
       "      <th>4081</th>\n",
       "      <td>5349</td>\n",
       "      <td>Spider-Man (2002)</td>\n",
       "      <td>Action|Adventure|Sci-Fi|Thriller</td>\n",
       "      <td>3.522388</td>\n",
       "      <td>4081</td>\n",
       "    </tr>\n",
       "    <tr>\n",
       "      <th>6892</th>\n",
       "      <td>58559</td>\n",
       "      <td>Dark Knight, The (2008)</td>\n",
       "      <td>Action|Crime|Drama|IMAX</td>\n",
       "      <td>4.235537</td>\n",
       "      <td>6892</td>\n",
       "    </tr>\n",
       "  </tbody>\n",
       "</table>\n",
       "</div>"
      ],
      "text/plain": [
       "      movieId                    title  \\\n",
       "328       364    Lion King, The (1994)   \n",
       "521       588           Aladdin (1992)   \n",
       "883      1092    Basic Instinct (1992)   \n",
       "1866     2355     Bug's Life, A (1998)   \n",
       "2506     3114       Toy Story 2 (1999)   \n",
       "3419     4306             Shrek (2001)   \n",
       "3803     4886    Monsters, Inc. (2001)   \n",
       "4081     5349        Spider-Man (2002)   \n",
       "6892    58559  Dark Knight, The (2008)   \n",
       "\n",
       "                                                 genres  mean_rating   mid  \n",
       "328     Adventure|Animation|Children|Drama|Musical|IMAX     3.777500   328  \n",
       "521         Adventure|Animation|Children|Comedy|Musical     3.674419   521  \n",
       "883                              Crime|Mystery|Thriller     3.294643   883  \n",
       "1866                Adventure|Animation|Children|Comedy     3.609524  1866  \n",
       "2506        Adventure|Animation|Children|Comedy|Fantasy     3.844000  2506  \n",
       "3419  Adventure|Animation|Children|Comedy|Fantasy|Ro...     3.847701  3419  \n",
       "3803        Adventure|Animation|Children|Comedy|Fantasy     3.884615  3803  \n",
       "4081                   Action|Adventure|Sci-Fi|Thriller     3.522388  4081  \n",
       "6892                            Action|Crime|Drama|IMAX     4.235537  6892  "
      ]
     },
     "execution_count": 15,
     "metadata": {},
     "output_type": "execute_result"
    }
   ],
   "source": [
    "nearest_movies = np.argsort(s[0].todense()).tolist()[0][-10:-1]\n",
    "movies[movies['mid'].isin(nearest_movies)]"
   ]
  },
  {
   "cell_type": "code",
   "execution_count": 16,
   "metadata": {},
   "outputs": [
    {
     "ename": "NameError",
     "evalue": "name 'nz' is not defined",
     "output_type": "error",
     "traceback": [
      "\u001b[1;31m---------------------------------------------------------------------------\u001b[0m",
      "\u001b[1;31mNameError\u001b[0m                                 Traceback (most recent call last)",
      "\u001b[1;32m<ipython-input-16-de5336b1dfcb>\u001b[0m in \u001b[0;36m<module>\u001b[1;34m()\u001b[0m\n\u001b[1;32m----> 1\u001b[1;33m \u001b[0mdf\u001b[0m \u001b[1;33m=\u001b[0m \u001b[0mpd\u001b[0m\u001b[1;33m.\u001b[0m\u001b[0mDataFrame\u001b[0m\u001b[1;33m(\u001b[0m\u001b[0mnz\u001b[0m\u001b[1;33m[\u001b[0m\u001b[1;36m0\u001b[0m\u001b[1;33m]\u001b[0m\u001b[1;33m,\u001b[0m\u001b[0mcolumns\u001b[0m\u001b[1;33m=\u001b[0m\u001b[1;33m[\u001b[0m\u001b[1;34m'movies'\u001b[0m\u001b[1;33m]\u001b[0m\u001b[1;33m)\u001b[0m\u001b[1;33m\u001b[0m\u001b[0m\n\u001b[0m\u001b[0;32m      2\u001b[0m \u001b[0mdf\u001b[0m\u001b[1;33m[\u001b[0m\u001b[1;34m'ind'\u001b[0m\u001b[1;33m]\u001b[0m \u001b[1;33m=\u001b[0m \u001b[1;36m1\u001b[0m\u001b[1;33m\u001b[0m\u001b[0m\n\u001b[0;32m      3\u001b[0m \u001b[0mct\u001b[0m \u001b[1;33m=\u001b[0m \u001b[0mdf\u001b[0m\u001b[1;33m.\u001b[0m\u001b[0mgroupby\u001b[0m\u001b[1;33m(\u001b[0m\u001b[1;34m'movies'\u001b[0m\u001b[1;33m)\u001b[0m\u001b[1;33m.\u001b[0m\u001b[0mcount\u001b[0m\u001b[1;33m(\u001b[0m\u001b[1;33m)\u001b[0m\u001b[1;33m.\u001b[0m\u001b[0mreset_index\u001b[0m\u001b[1;33m(\u001b[0m\u001b[1;33m)\u001b[0m\u001b[1;33m\u001b[0m\u001b[0m\n\u001b[0;32m      4\u001b[0m \u001b[0mct\u001b[0m \u001b[1;33m=\u001b[0m \u001b[0mct\u001b[0m\u001b[1;33m[\u001b[0m\u001b[0mct\u001b[0m\u001b[1;33m[\u001b[0m\u001b[1;34m'ind'\u001b[0m\u001b[1;33m]\u001b[0m\u001b[1;33m==\u001b[0m\u001b[1;36m2\u001b[0m\u001b[1;33m]\u001b[0m\u001b[1;33m[\u001b[0m\u001b[1;34m'movies'\u001b[0m\u001b[1;33m]\u001b[0m\u001b[1;33m\u001b[0m\u001b[0m\n",
      "\u001b[1;31mNameError\u001b[0m: name 'nz' is not defined"
     ]
    }
   ],
   "source": [
    "df = pd.DataFrame(nz[0],columns=['movies'])\n",
    "df['ind'] = 1\n",
    "ct = df.groupby('movies').count().reset_index()\n",
    "ct = ct[ct['ind']==2]['movies']"
   ]
  },
  {
   "cell_type": "code",
   "execution_count": 153,
   "metadata": {},
   "outputs": [
    {
     "data": {
      "text/plain": [
       "array([ 18,  84, 114, 127, 164, 181, 284, 441, 467, 495, 533, 547, 563,\n",
       "       602, 606, 623, 640, 664], dtype=int64)"
      ]
     },
     "execution_count": 153,
     "metadata": {},
     "output_type": "execute_result"
    }
   ],
   "source": [
    "np.array(ct)"
   ]
  },
  {
   "cell_type": "code",
   "execution_count": 98,
   "metadata": {},
   "outputs": [],
   "source": [
    "i = 1\n",
    "j = 50\n",
    "u = df_mat[:,i]\n",
    "v = df_mat[:,j]\n",
    "temp_df = df_mat - df_mat.mean(axis=1)\n",
    "df_pq = temp_df[:,[i,j]]\n",
    "nz = df_pq.nonzero()\n",
    "nzu = np.unique(nz[0])\n",
    "df_pq = df_pq[nzu,:]"
   ]
  },
  {
   "cell_type": "code",
   "execution_count": 183,
   "metadata": {},
   "outputs": [
    {
     "data": {
      "text/plain": [
       "matrix([[ 1.83066688]])"
      ]
     },
     "execution_count": 183,
     "metadata": {},
     "output_type": "execute_result"
    }
   ],
   "source": [
    "df_p.dot(df_q.T)"
   ]
  },
  {
   "cell_type": "markdown",
   "metadata": {},
   "source": [
    "# Association Rule Learning"
   ]
  },
  {
   "cell_type": "code",
   "execution_count": 15,
   "metadata": {},
   "outputs": [],
   "source": [
    "path = 'ml-latest-small\\\\'\n",
    "df = pd.read_csv(path + 'ratings.csv')\n",
    "movie_xref = pd.read_csv(path + 'movies.csv')\n",
    "users = df.groupby('userId').mean()['rating'].reset_index()\n",
    "users['user_mean_rating'] = users['rating']\n",
    "users['uid'] = users.index\n",
    "users.drop('rating',inplace=True,axis=1)\n",
    "df = df.merge(users,left_on='userId',right_on='userId')\n",
    "movies = df.groupby('movieId').mean()['rating'].reset_index()\n",
    "movies['movie_mean_rating'] = movies['rating']\n",
    "movies = movies.merge(movie_xref,left_on='movieId',right_on='movieId')\n",
    "movies.drop('rating',inplace=True,axis=1)\n",
    "movies['mid'] = movies.index\n",
    "df = df.merge(movies,left_on='movieId',right_on='movieId')"
   ]
  },
  {
   "cell_type": "code",
   "execution_count": 20,
   "metadata": {},
   "outputs": [
    {
     "data": {
      "text/html": [
       "<div>\n",
       "<style scoped>\n",
       "    .dataframe tbody tr th:only-of-type {\n",
       "        vertical-align: middle;\n",
       "    }\n",
       "\n",
       "    .dataframe tbody tr th {\n",
       "        vertical-align: top;\n",
       "    }\n",
       "\n",
       "    .dataframe thead th {\n",
       "        text-align: right;\n",
       "    }\n",
       "</style>\n",
       "<table border=\"1\" class=\"dataframe\">\n",
       "  <thead>\n",
       "    <tr style=\"text-align: right;\">\n",
       "      <th></th>\n",
       "      <th>userId</th>\n",
       "      <th>movieId</th>\n",
       "      <th>rating</th>\n",
       "      <th>timestamp</th>\n",
       "      <th>user_mean_rating</th>\n",
       "      <th>uid</th>\n",
       "      <th>movie_mean_rating</th>\n",
       "      <th>title</th>\n",
       "      <th>genres</th>\n",
       "      <th>mid</th>\n",
       "    </tr>\n",
       "  </thead>\n",
       "  <tbody>\n",
       "    <tr>\n",
       "      <th>0</th>\n",
       "      <td>1</td>\n",
       "      <td>31</td>\n",
       "      <td>2.5</td>\n",
       "      <td>1260759144</td>\n",
       "      <td>2.550000</td>\n",
       "      <td>0</td>\n",
       "      <td>3.178571</td>\n",
       "      <td>Dangerous Minds (1995)</td>\n",
       "      <td>Drama</td>\n",
       "      <td>30</td>\n",
       "    </tr>\n",
       "    <tr>\n",
       "      <th>1</th>\n",
       "      <td>7</td>\n",
       "      <td>31</td>\n",
       "      <td>3.0</td>\n",
       "      <td>851868750</td>\n",
       "      <td>3.465909</td>\n",
       "      <td>6</td>\n",
       "      <td>3.178571</td>\n",
       "      <td>Dangerous Minds (1995)</td>\n",
       "      <td>Drama</td>\n",
       "      <td>30</td>\n",
       "    </tr>\n",
       "    <tr>\n",
       "      <th>2</th>\n",
       "      <td>31</td>\n",
       "      <td>31</td>\n",
       "      <td>4.0</td>\n",
       "      <td>1273541953</td>\n",
       "      <td>4.166667</td>\n",
       "      <td>30</td>\n",
       "      <td>3.178571</td>\n",
       "      <td>Dangerous Minds (1995)</td>\n",
       "      <td>Drama</td>\n",
       "      <td>30</td>\n",
       "    </tr>\n",
       "    <tr>\n",
       "      <th>3</th>\n",
       "      <td>32</td>\n",
       "      <td>31</td>\n",
       "      <td>4.0</td>\n",
       "      <td>834828440</td>\n",
       "      <td>3.666667</td>\n",
       "      <td>31</td>\n",
       "      <td>3.178571</td>\n",
       "      <td>Dangerous Minds (1995)</td>\n",
       "      <td>Drama</td>\n",
       "      <td>30</td>\n",
       "    </tr>\n",
       "    <tr>\n",
       "      <th>4</th>\n",
       "      <td>36</td>\n",
       "      <td>31</td>\n",
       "      <td>3.0</td>\n",
       "      <td>847057202</td>\n",
       "      <td>3.615385</td>\n",
       "      <td>35</td>\n",
       "      <td>3.178571</td>\n",
       "      <td>Dangerous Minds (1995)</td>\n",
       "      <td>Drama</td>\n",
       "      <td>30</td>\n",
       "    </tr>\n",
       "  </tbody>\n",
       "</table>\n",
       "</div>"
      ],
      "text/plain": [
       "   userId  movieId  rating   timestamp  user_mean_rating  uid  \\\n",
       "0       1       31     2.5  1260759144          2.550000    0   \n",
       "1       7       31     3.0   851868750          3.465909    6   \n",
       "2      31       31     4.0  1273541953          4.166667   30   \n",
       "3      32       31     4.0   834828440          3.666667   31   \n",
       "4      36       31     3.0   847057202          3.615385   35   \n",
       "\n",
       "   movie_mean_rating                   title genres  mid  \n",
       "0           3.178571  Dangerous Minds (1995)  Drama   30  \n",
       "1           3.178571  Dangerous Minds (1995)  Drama   30  \n",
       "2           3.178571  Dangerous Minds (1995)  Drama   30  \n",
       "3           3.178571  Dangerous Minds (1995)  Drama   30  \n",
       "4           3.178571  Dangerous Minds (1995)  Drama   30  "
      ]
     },
     "execution_count": 20,
     "metadata": {},
     "output_type": "execute_result"
    }
   ],
   "source": [
    "df.head()"
   ]
  },
  {
   "cell_type": "code",
   "execution_count": 74,
   "metadata": {},
   "outputs": [],
   "source": [
    "users_list = df['uid']\n",
    "movies_list = df['mid']\n",
    "ratings_list = df['adjusted_rating']\n",
    "ratings_list = ratings_list.apply(lambda x: x > 0) * 1"
   ]
  },
  {
   "cell_type": "code",
   "execution_count": 75,
   "metadata": {},
   "outputs": [],
   "source": [
    "df_mat = csc_matrix((ratings_list,(users_list,movies_list)))"
   ]
  },
  {
   "cell_type": "code",
   "execution_count": 76,
   "metadata": {},
   "outputs": [
    {
     "data": {
      "text/plain": [
       "<671x9066 sparse matrix of type '<class 'numpy.int32'>'\n",
       "\twith 100004 stored elements in Compressed Sparse Column format>"
      ]
     },
     "execution_count": 76,
     "metadata": {},
     "output_type": "execute_result"
    }
   ],
   "source": [
    "df_mat"
   ]
  },
  {
   "cell_type": "code",
   "execution_count": 113,
   "metadata": {},
   "outputs": [],
   "source": [
    "#cols = movies.sort_values(by='mid')['title']\n",
    "sdf = pd.SparseDataFrame(df_mat)#,columns=cols)\n",
    "sdf.fillna(0,inplace=True)"
   ]
  },
  {
   "cell_type": "code",
   "execution_count": 114,
   "metadata": {},
   "outputs": [],
   "source": [
    "from mlxtend.frequent_patterns import apriori\n",
    "from mlxtend.frequent_patterns import association_rules"
   ]
  },
  {
   "cell_type": "code",
   "execution_count": 115,
   "metadata": {},
   "outputs": [],
   "source": [
    "frequent_itemsets = apriori(sdf, min_support=0.07)"
   ]
  },
  {
   "cell_type": "code",
   "execution_count": 141,
   "metadata": {},
   "outputs": [],
   "source": [
    "def rename(x):\n",
    "    s = set()\n",
    "    for i in x:\n",
    "        name = movies[movies['mid'] == i]['title'].values[0]\n",
    "        s.add(name)\n",
    "    return s"
   ]
  },
  {
   "cell_type": "code",
   "execution_count": 143,
   "metadata": {},
   "outputs": [],
   "source": [
    "frequent_itemsets['itemsets'] = frequent_itemsets['itemsets'].apply(rename)"
   ]
  },
  {
   "cell_type": "code",
   "execution_count": 147,
   "metadata": {},
   "outputs": [
    {
     "data": {
      "text/html": [
       "<div>\n",
       "<style scoped>\n",
       "    .dataframe tbody tr th:only-of-type {\n",
       "        vertical-align: middle;\n",
       "    }\n",
       "\n",
       "    .dataframe tbody tr th {\n",
       "        vertical-align: top;\n",
       "    }\n",
       "\n",
       "    .dataframe thead th {\n",
       "        text-align: right;\n",
       "    }\n",
       "</style>\n",
       "<table border=\"1\" class=\"dataframe\">\n",
       "  <thead>\n",
       "    <tr style=\"text-align: right;\">\n",
       "      <th></th>\n",
       "      <th>antecedents</th>\n",
       "      <th>consequents</th>\n",
       "      <th>antecedent support</th>\n",
       "      <th>consequent support</th>\n",
       "      <th>support</th>\n",
       "      <th>confidence</th>\n",
       "      <th>lift</th>\n",
       "      <th>leverage</th>\n",
       "      <th>conviction</th>\n",
       "    </tr>\n",
       "  </thead>\n",
       "  <tbody>\n",
       "    <tr>\n",
       "      <th>21081</th>\n",
       "      <td>(Lord of the Rings: The Fellowship of the Ring...</td>\n",
       "      <td>(Star Wars: Episode IV - A New Hope (1977), St...</td>\n",
       "      <td>0.092399</td>\n",
       "      <td>0.090909</td>\n",
       "      <td>0.070045</td>\n",
       "      <td>0.758065</td>\n",
       "      <td>8.338710</td>\n",
       "      <td>0.061645</td>\n",
       "      <td>3.757576</td>\n",
       "    </tr>\n",
       "    <tr>\n",
       "      <th>21140</th>\n",
       "      <td>(Star Wars: Episode IV - A New Hope (1977), St...</td>\n",
       "      <td>(Lord of the Rings: The Fellowship of the Ring...</td>\n",
       "      <td>0.090909</td>\n",
       "      <td>0.092399</td>\n",
       "      <td>0.070045</td>\n",
       "      <td>0.770492</td>\n",
       "      <td>8.338710</td>\n",
       "      <td>0.061645</td>\n",
       "      <td>3.954545</td>\n",
       "    </tr>\n",
       "    <tr>\n",
       "      <th>21080</th>\n",
       "      <td>(Star Wars: Episode IV - A New Hope (1977), Lo...</td>\n",
       "      <td>(Raiders of the Lost Ark (Indiana Jones and th...</td>\n",
       "      <td>0.107303</td>\n",
       "      <td>0.078987</td>\n",
       "      <td>0.070045</td>\n",
       "      <td>0.652778</td>\n",
       "      <td>8.264413</td>\n",
       "      <td>0.061569</td>\n",
       "      <td>2.652519</td>\n",
       "    </tr>\n",
       "    <tr>\n",
       "      <th>21141</th>\n",
       "      <td>(Raiders of the Lost Ark (Indiana Jones and th...</td>\n",
       "      <td>(Star Wars: Episode IV - A New Hope (1977), Lo...</td>\n",
       "      <td>0.078987</td>\n",
       "      <td>0.107303</td>\n",
       "      <td>0.070045</td>\n",
       "      <td>0.886792</td>\n",
       "      <td>8.264413</td>\n",
       "      <td>0.061569</td>\n",
       "      <td>7.885494</td>\n",
       "    </tr>\n",
       "    <tr>\n",
       "      <th>21120</th>\n",
       "      <td>(Star Wars: Episode IV - A New Hope (1977), St...</td>\n",
       "      <td>(Lord of the Rings: The Fellowship of the Ring...</td>\n",
       "      <td>0.111773</td>\n",
       "      <td>0.076006</td>\n",
       "      <td>0.070045</td>\n",
       "      <td>0.626667</td>\n",
       "      <td>8.244967</td>\n",
       "      <td>0.061549</td>\n",
       "      <td>2.474984</td>\n",
       "    </tr>\n",
       "    <tr>\n",
       "      <th>21101</th>\n",
       "      <td>(Lord of the Rings: The Fellowship of the Ring...</td>\n",
       "      <td>(Star Wars: Episode IV - A New Hope (1977), St...</td>\n",
       "      <td>0.076006</td>\n",
       "      <td>0.111773</td>\n",
       "      <td>0.070045</td>\n",
       "      <td>0.921569</td>\n",
       "      <td>8.244967</td>\n",
       "      <td>0.061549</td>\n",
       "      <td>11.324888</td>\n",
       "    </tr>\n",
       "    <tr>\n",
       "      <th>21085</th>\n",
       "      <td>(Lord of the Rings: The Fellowship of the Ring...</td>\n",
       "      <td>(Star Wars: Episode IV - A New Hope (1977), Lo...</td>\n",
       "      <td>0.080477</td>\n",
       "      <td>0.105812</td>\n",
       "      <td>0.070045</td>\n",
       "      <td>0.870370</td>\n",
       "      <td>8.225613</td>\n",
       "      <td>0.061529</td>\n",
       "      <td>6.898020</td>\n",
       "    </tr>\n",
       "    <tr>\n",
       "      <th>21136</th>\n",
       "      <td>(Star Wars: Episode IV - A New Hope (1977), Lo...</td>\n",
       "      <td>(Lord of the Rings: The Fellowship of the Ring...</td>\n",
       "      <td>0.105812</td>\n",
       "      <td>0.080477</td>\n",
       "      <td>0.070045</td>\n",
       "      <td>0.661972</td>\n",
       "      <td>8.225613</td>\n",
       "      <td>0.061529</td>\n",
       "      <td>2.720256</td>\n",
       "    </tr>\n",
       "    <tr>\n",
       "      <th>21109</th>\n",
       "      <td>(Star Wars: Episode IV - A New Hope (1977), Ra...</td>\n",
       "      <td>(Lord of the Rings: The Fellowship of the Ring...</td>\n",
       "      <td>0.076006</td>\n",
       "      <td>0.113264</td>\n",
       "      <td>0.070045</td>\n",
       "      <td>0.921569</td>\n",
       "      <td>8.136481</td>\n",
       "      <td>0.061436</td>\n",
       "      <td>11.305887</td>\n",
       "    </tr>\n",
       "    <tr>\n",
       "      <th>21112</th>\n",
       "      <td>(Lord of the Rings: The Fellowship of the Ring...</td>\n",
       "      <td>(Star Wars: Episode IV - A New Hope (1977), Ra...</td>\n",
       "      <td>0.113264</td>\n",
       "      <td>0.076006</td>\n",
       "      <td>0.070045</td>\n",
       "      <td>0.618421</td>\n",
       "      <td>8.136481</td>\n",
       "      <td>0.061436</td>\n",
       "      <td>2.421502</td>\n",
       "    </tr>\n",
       "    <tr>\n",
       "      <th>20574</th>\n",
       "      <td>(Lord of the Rings: The Fellowship of the Ring...</td>\n",
       "      <td>(Star Wars: Episode IV - A New Hope (1977), St...</td>\n",
       "      <td>0.113264</td>\n",
       "      <td>0.090909</td>\n",
       "      <td>0.083458</td>\n",
       "      <td>0.736842</td>\n",
       "      <td>8.105263</td>\n",
       "      <td>0.073161</td>\n",
       "      <td>3.454545</td>\n",
       "    </tr>\n",
       "    <tr>\n",
       "      <th>20591</th>\n",
       "      <td>(Star Wars: Episode IV - A New Hope (1977), St...</td>\n",
       "      <td>(Lord of the Rings: The Fellowship of the Ring...</td>\n",
       "      <td>0.090909</td>\n",
       "      <td>0.113264</td>\n",
       "      <td>0.083458</td>\n",
       "      <td>0.918033</td>\n",
       "      <td>8.105263</td>\n",
       "      <td>0.073161</td>\n",
       "      <td>10.818182</td>\n",
       "    </tr>\n",
       "    <tr>\n",
       "      <th>20391</th>\n",
       "      <td>(Star Wars: Episode IV - A New Hope (1977), St...</td>\n",
       "      <td>(Raiders of the Lost Ark (Indiana Jones and th...</td>\n",
       "      <td>0.111773</td>\n",
       "      <td>0.078987</td>\n",
       "      <td>0.071535</td>\n",
       "      <td>0.640000</td>\n",
       "      <td>8.102642</td>\n",
       "      <td>0.062706</td>\n",
       "      <td>2.558371</td>\n",
       "    </tr>\n",
       "    <tr>\n",
       "      <th>20402</th>\n",
       "      <td>(Raiders of the Lost Ark (Indiana Jones and th...</td>\n",
       "      <td>(Star Wars: Episode IV - A New Hope (1977), St...</td>\n",
       "      <td>0.078987</td>\n",
       "      <td>0.111773</td>\n",
       "      <td>0.071535</td>\n",
       "      <td>0.905660</td>\n",
       "      <td>8.102642</td>\n",
       "      <td>0.062706</td>\n",
       "      <td>9.415201</td>\n",
       "    </tr>\n",
       "    <tr>\n",
       "      <th>21124</th>\n",
       "      <td>(Star Wars: Episode IV - A New Hope (1977), St...</td>\n",
       "      <td>(Lord of the Rings: The Fellowship of the Ring...</td>\n",
       "      <td>0.098361</td>\n",
       "      <td>0.087928</td>\n",
       "      <td>0.070045</td>\n",
       "      <td>0.712121</td>\n",
       "      <td>8.098870</td>\n",
       "      <td>0.061396</td>\n",
       "      <td>3.168248</td>\n",
       "    </tr>\n",
       "    <tr>\n",
       "      <th>21097</th>\n",
       "      <td>(Lord of the Rings: The Fellowship of the Ring...</td>\n",
       "      <td>(Star Wars: Episode IV - A New Hope (1977), St...</td>\n",
       "      <td>0.087928</td>\n",
       "      <td>0.098361</td>\n",
       "      <td>0.070045</td>\n",
       "      <td>0.796610</td>\n",
       "      <td>8.098870</td>\n",
       "      <td>0.061396</td>\n",
       "      <td>4.433060</td>\n",
       "    </tr>\n",
       "    <tr>\n",
       "      <th>21137</th>\n",
       "      <td>(Raiders of the Lost Ark (Indiana Jones and th...</td>\n",
       "      <td>(Star Wars: Episode IV - A New Hope (1977), Lo...</td>\n",
       "      <td>0.090909</td>\n",
       "      <td>0.095380</td>\n",
       "      <td>0.070045</td>\n",
       "      <td>0.770492</td>\n",
       "      <td>8.078125</td>\n",
       "      <td>0.061374</td>\n",
       "      <td>3.941558</td>\n",
       "    </tr>\n",
       "    <tr>\n",
       "      <th>21084</th>\n",
       "      <td>(Star Wars: Episode IV - A New Hope (1977), Lo...</td>\n",
       "      <td>(Raiders of the Lost Ark (Indiana Jones and th...</td>\n",
       "      <td>0.095380</td>\n",
       "      <td>0.090909</td>\n",
       "      <td>0.070045</td>\n",
       "      <td>0.734375</td>\n",
       "      <td>8.078125</td>\n",
       "      <td>0.061374</td>\n",
       "      <td>3.422460</td>\n",
       "    </tr>\n",
       "    <tr>\n",
       "      <th>5803</th>\n",
       "      <td>(Kill Bill: Vol. 2 (2004), Pulp Fiction (1994))</td>\n",
       "      <td>(Kill Bill: Vol. 1 (2003))</td>\n",
       "      <td>0.081967</td>\n",
       "      <td>0.113264</td>\n",
       "      <td>0.074516</td>\n",
       "      <td>0.909091</td>\n",
       "      <td>8.026316</td>\n",
       "      <td>0.065232</td>\n",
       "      <td>9.754098</td>\n",
       "    </tr>\n",
       "    <tr>\n",
       "      <th>5806</th>\n",
       "      <td>(Kill Bill: Vol. 1 (2003))</td>\n",
       "      <td>(Kill Bill: Vol. 2 (2004), Pulp Fiction (1994))</td>\n",
       "      <td>0.113264</td>\n",
       "      <td>0.081967</td>\n",
       "      <td>0.074516</td>\n",
       "      <td>0.657895</td>\n",
       "      <td>8.026316</td>\n",
       "      <td>0.065232</td>\n",
       "      <td>2.683480</td>\n",
       "    </tr>\n",
       "  </tbody>\n",
       "</table>\n",
       "</div>"
      ],
      "text/plain": [
       "                                             antecedents  \\\n",
       "21081  (Lord of the Rings: The Fellowship of the Ring...   \n",
       "21140  (Star Wars: Episode IV - A New Hope (1977), St...   \n",
       "21080  (Star Wars: Episode IV - A New Hope (1977), Lo...   \n",
       "21141  (Raiders of the Lost Ark (Indiana Jones and th...   \n",
       "21120  (Star Wars: Episode IV - A New Hope (1977), St...   \n",
       "21101  (Lord of the Rings: The Fellowship of the Ring...   \n",
       "21085  (Lord of the Rings: The Fellowship of the Ring...   \n",
       "21136  (Star Wars: Episode IV - A New Hope (1977), Lo...   \n",
       "21109  (Star Wars: Episode IV - A New Hope (1977), Ra...   \n",
       "21112  (Lord of the Rings: The Fellowship of the Ring...   \n",
       "20574  (Lord of the Rings: The Fellowship of the Ring...   \n",
       "20591  (Star Wars: Episode IV - A New Hope (1977), St...   \n",
       "20391  (Star Wars: Episode IV - A New Hope (1977), St...   \n",
       "20402  (Raiders of the Lost Ark (Indiana Jones and th...   \n",
       "21124  (Star Wars: Episode IV - A New Hope (1977), St...   \n",
       "21097  (Lord of the Rings: The Fellowship of the Ring...   \n",
       "21137  (Raiders of the Lost Ark (Indiana Jones and th...   \n",
       "21084  (Star Wars: Episode IV - A New Hope (1977), Lo...   \n",
       "5803     (Kill Bill: Vol. 2 (2004), Pulp Fiction (1994))   \n",
       "5806                          (Kill Bill: Vol. 1 (2003))   \n",
       "\n",
       "                                             consequents  antecedent support  \\\n",
       "21081  (Star Wars: Episode IV - A New Hope (1977), St...            0.092399   \n",
       "21140  (Lord of the Rings: The Fellowship of the Ring...            0.090909   \n",
       "21080  (Raiders of the Lost Ark (Indiana Jones and th...            0.107303   \n",
       "21141  (Star Wars: Episode IV - A New Hope (1977), Lo...            0.078987   \n",
       "21120  (Lord of the Rings: The Fellowship of the Ring...            0.111773   \n",
       "21101  (Star Wars: Episode IV - A New Hope (1977), St...            0.076006   \n",
       "21085  (Star Wars: Episode IV - A New Hope (1977), Lo...            0.080477   \n",
       "21136  (Lord of the Rings: The Fellowship of the Ring...            0.105812   \n",
       "21109  (Lord of the Rings: The Fellowship of the Ring...            0.076006   \n",
       "21112  (Star Wars: Episode IV - A New Hope (1977), Ra...            0.113264   \n",
       "20574  (Star Wars: Episode IV - A New Hope (1977), St...            0.113264   \n",
       "20591  (Lord of the Rings: The Fellowship of the Ring...            0.090909   \n",
       "20391  (Raiders of the Lost Ark (Indiana Jones and th...            0.111773   \n",
       "20402  (Star Wars: Episode IV - A New Hope (1977), St...            0.078987   \n",
       "21124  (Lord of the Rings: The Fellowship of the Ring...            0.098361   \n",
       "21097  (Star Wars: Episode IV - A New Hope (1977), St...            0.087928   \n",
       "21137  (Star Wars: Episode IV - A New Hope (1977), Lo...            0.090909   \n",
       "21084  (Raiders of the Lost Ark (Indiana Jones and th...            0.095380   \n",
       "5803                          (Kill Bill: Vol. 1 (2003))            0.081967   \n",
       "5806     (Kill Bill: Vol. 2 (2004), Pulp Fiction (1994))            0.113264   \n",
       "\n",
       "       consequent support   support  confidence      lift  leverage  \\\n",
       "21081            0.090909  0.070045    0.758065  8.338710  0.061645   \n",
       "21140            0.092399  0.070045    0.770492  8.338710  0.061645   \n",
       "21080            0.078987  0.070045    0.652778  8.264413  0.061569   \n",
       "21141            0.107303  0.070045    0.886792  8.264413  0.061569   \n",
       "21120            0.076006  0.070045    0.626667  8.244967  0.061549   \n",
       "21101            0.111773  0.070045    0.921569  8.244967  0.061549   \n",
       "21085            0.105812  0.070045    0.870370  8.225613  0.061529   \n",
       "21136            0.080477  0.070045    0.661972  8.225613  0.061529   \n",
       "21109            0.113264  0.070045    0.921569  8.136481  0.061436   \n",
       "21112            0.076006  0.070045    0.618421  8.136481  0.061436   \n",
       "20574            0.090909  0.083458    0.736842  8.105263  0.073161   \n",
       "20591            0.113264  0.083458    0.918033  8.105263  0.073161   \n",
       "20391            0.078987  0.071535    0.640000  8.102642  0.062706   \n",
       "20402            0.111773  0.071535    0.905660  8.102642  0.062706   \n",
       "21124            0.087928  0.070045    0.712121  8.098870  0.061396   \n",
       "21097            0.098361  0.070045    0.796610  8.098870  0.061396   \n",
       "21137            0.095380  0.070045    0.770492  8.078125  0.061374   \n",
       "21084            0.090909  0.070045    0.734375  8.078125  0.061374   \n",
       "5803             0.113264  0.074516    0.909091  8.026316  0.065232   \n",
       "5806             0.081967  0.074516    0.657895  8.026316  0.065232   \n",
       "\n",
       "       conviction  \n",
       "21081    3.757576  \n",
       "21140    3.954545  \n",
       "21080    2.652519  \n",
       "21141    7.885494  \n",
       "21120    2.474984  \n",
       "21101   11.324888  \n",
       "21085    6.898020  \n",
       "21136    2.720256  \n",
       "21109   11.305887  \n",
       "21112    2.421502  \n",
       "20574    3.454545  \n",
       "20591   10.818182  \n",
       "20391    2.558371  \n",
       "20402    9.415201  \n",
       "21124    3.168248  \n",
       "21097    4.433060  \n",
       "21137    3.941558  \n",
       "21084    3.422460  \n",
       "5803     9.754098  \n",
       "5806     2.683480  "
      ]
     },
     "execution_count": 147,
     "metadata": {},
     "output_type": "execute_result"
    }
   ],
   "source": [
    "rules = association_rules(frequent_itemsets, metric=\"lift\", min_threshold=1)\n",
    "rules.sort_values(by='lift',ascending=False).head(10)"
   ]
  },
  {
   "cell_type": "markdown",
   "metadata": {},
   "source": [
    "# Linear Regression Approach"
   ]
  },
  {
   "cell_type": "code",
   "execution_count": 55,
   "metadata": {},
   "outputs": [],
   "source": [
    "def pairwise_sim_user(df):\n",
    "    dot = np.dot(df,df.T)\n",
    "    norm = np.sqrt(np.sum(df.power(2),axis=1))\n",
    "    norm = np.outer(norm,norm.reshape(1,-1))\n",
    "    return dot/norm\n",
    "\n",
    "def pairwise_sim_item(df):\n",
    "    return pairwise_sim_user(df.T)\n",
    "\n",
    "def cost_function(x,df,user,user_avgs):\n",
    "    sim_mat = pairwise_sim_user(df)\n",
    "    weights = x.reshape(-1,1)\n",
    "    user_rated_items = df[user].nonzero()[1]\n",
    "    user_ratings = df[user,user_rated_items].todense()\n",
    "    nearest_users = np.argsort(sim_mat[user])[0,-11:-1].tolist()[0]\n",
    "    peer_set = df[nearest_users,:]\n",
    "    peer_set = peer_set[:,user_rated_items].todense()\n",
    "    peer_set = np.asarray(peer_set)\n",
    "    mean_user = user_avgs[user]\n",
    "    peer_set_sum = np.sum(peer_set * weights,axis=0)\n",
    "    predict = peer_set_sum + mean_user\n",
    "    mse = (np.asarray((user_ratings - predict))**2).sum()\n",
    "    return mse\n",
    "\n",
    "def cost_function_predict(x,df,user,user_avgs):\n",
    "    sim_mat = pairwise_sim_user(df)\n",
    "    weights = x.reshape(-1,1)\n",
    "    user_rated_items = df[user].nonzero()[1]\n",
    "    user_ratings = df[user,user_rated_items].todense()\n",
    "    nearest_users = np.argsort(sim_mat[user])[0,-11:-1].tolist()[0]\n",
    "    peer_set = df[nearest_users,:]\n",
    "    peer_set = peer_set[:,user_rated_items].todense()\n",
    "    peer_set = np.asarray(peer_set)\n",
    "    mean_user = user_avgs[user]\n",
    "    peer_set_sum = np.sum(peer_set * weights,axis=0)\n",
    "    predict = peer_set_sum + mean_user\n",
    "    mse = (np.asarray((user_ratings - predict))**2).sum()\n",
    "    return mse,predict"
   ]
  },
  {
   "cell_type": "code",
   "execution_count": 56,
   "metadata": {},
   "outputs": [],
   "source": [
    "from scipy.sparse import csc_matrix\n",
    "\n",
    "df = load_movielens()\n",
    "users_list = df['uid']\n",
    "user_avgs = df.groupby('uid').mean()['rating']\n",
    "movies_list = df['mid']\n",
    "ratings_list = df['rating']\n",
    "df_mat = csc_matrix((ratings_list,(users_list,movies_list)))\n",
    "user_sim_mat = pairwise_sim_user(df_mat)\n",
    "item_sim_mat = pairwise_sim_item(df_mat)"
   ]
  },
  {
   "cell_type": "code",
   "execution_count": 57,
   "metadata": {},
   "outputs": [],
   "source": [
    "user = 0\n",
    "user_rated_items = df_mat[user].nonzero()[1]\n",
    "nearest_users = np.argsort(sim_mat[user])[0,-6:-1].tolist()[0]\n",
    "\n",
    "mean_user = user_avgs[user]"
   ]
  },
  {
   "cell_type": "code",
   "execution_count": 211,
   "metadata": {},
   "outputs": [],
   "source": [
    "import numpy.random\n",
    "\n",
    "weights = np.random.rand(10,1)\n",
    "m = cost_function(weights,df_mat,0,user_avgs)\n",
    "\n",
    "mse = (np.asarray((user_ratings - (peer_set_sum + mean_user)))**2).sum()"
   ]
  },
  {
   "cell_type": "code",
   "execution_count": 59,
   "metadata": {},
   "outputs": [],
   "source": [
    "from scipy.optimize import minimize"
   ]
  },
  {
   "cell_type": "code",
   "execution_count": 60,
   "metadata": {},
   "outputs": [],
   "source": [
    "res = minimize(cost_function,weights,args=(df_mat,0,user_avgs))"
   ]
  },
  {
   "cell_type": "code",
   "execution_count": 61,
   "metadata": {},
   "outputs": [
    {
     "data": {
      "text/plain": [
       "array([-0.13220403,  0.06584494, -0.16886173,  0.04312117,  0.26526064,\n",
       "       -0.24415956,  0.18311145,  0.17980334, -0.18981619,  0.07055322])"
      ]
     },
     "execution_count": 61,
     "metadata": {},
     "output_type": "execute_result"
    }
   ],
   "source": [
    "res.x"
   ]
  },
  {
   "cell_type": "code",
   "execution_count": 62,
   "metadata": {},
   "outputs": [],
   "source": [
    "m,predict = cost_function_predict(res.x,df_mat,0,user_avgs)"
   ]
  },
  {
   "cell_type": "code",
   "execution_count": 63,
   "metadata": {},
   "outputs": [],
   "source": [
    "user = 0\n",
    "user_rated_items = df_mat[user].nonzero()[1]\n",
    "user_ratings = df_mat[user,user_rated_items].todense()"
   ]
  },
  {
   "cell_type": "code",
   "execution_count": 64,
   "metadata": {},
   "outputs": [
    {
     "data": {
      "text/plain": [
       "array([  30,  833,  859,  906,  931, 1017, 1041, 1047, 1083, 1087, 1111,\n",
       "       1140, 1515, 1665, 1708, 1743, 1815, 1962, 2380, 2925])"
      ]
     },
     "execution_count": 64,
     "metadata": {},
     "output_type": "execute_result"
    }
   ],
   "source": [
    "user_rated_items"
   ]
  },
  {
   "cell_type": "code",
   "execution_count": 65,
   "metadata": {},
   "outputs": [
    {
     "data": {
      "text/plain": [
       "array([ 3.27582478,  2.94789096,  2.79693627,  2.23533226,  3.07878142,\n",
       "        2.67936351,  1.98250592,  2.41641587,  2.69480944,  2.04841556,\n",
       "        2.39114609,  1.37015253,  2.67936351,  3.87115551,  2.22417518,\n",
       "        2.74991673,  2.9200195 ,  3.20531344,  2.05823835,  2.23293907])"
      ]
     },
     "execution_count": 65,
     "metadata": {},
     "output_type": "execute_result"
    }
   ],
   "source": [
    "predict"
   ]
  },
  {
   "cell_type": "markdown",
   "metadata": {},
   "source": [
    "Joint interpolation with similarity weighting"
   ]
  },
  {
   "cell_type": "code",
   "execution_count": 17,
   "metadata": {},
   "outputs": [
    {
     "data": {
      "text/plain": [
       "(array([  0,   0,   0, ..., 670, 670, 670], dtype=int32),\n",
       " array([  30,  833,  859, ..., 4597, 4610, 4696], dtype=int32))"
      ]
     },
     "execution_count": 17,
     "metadata": {},
     "output_type": "execute_result"
    }
   ],
   "source": [
    "df_mat.nonzero()"
   ]
  },
  {
   "cell_type": "code",
   "execution_count": 87,
   "metadata": {},
   "outputs": [],
   "source": [
    "def predict(df,user,user_avgs,item,weights):\n",
    "    weights = weights.reshape(-1,1)\n",
    "    user_sim_mat = pairwise_sim_user(df)\n",
    "    nearest_users = np.argsort(user_sim_mat[user])[0,-11:-1].tolist()[0]\n",
    "    peer_set = df[nearest_users,:]\n",
    "    peer_set = peer_set[:,item].todense()\n",
    "    peer_set = np.asarray(peer_set)\n",
    "    mean_user = user_avgs[user]\n",
    "    predict_item = mean_user + np.sum(peer_set * weights,axis=0)\n",
    "    return predict_item\n",
    "\n",
    "def predict_2(df,user,user_avgs,weights):\n",
    "    sim_mat = pairwise_sim_user(df)\n",
    "    weights = weights.reshape(-1,1)\n",
    "    user_rated_items = df[user].nonzero()[1]\n",
    "    user_ratings = df[user,user_rated_items].todense()\n",
    "    nearest_users = np.argsort(sim_mat[user])[0,-11:-1].tolist()[0]\n",
    "    peer_set = df[nearest_users,:]\n",
    "    peer_set = peer_set[:,user_rated_items].todense()\n",
    "    peer_set = np.asarray(peer_set)\n",
    "    mean_user = user_avgs[user]\n",
    "    peer_set_sum = np.sum(peer_set * weights,axis=0)\n",
    "    predict = peer_set_sum + mean_user\n",
    "    return predict\n",
    "\n",
    "def cost(x,df,user,user_avgs):\n",
    "    user_sim_mat = pairwise_sim_user(df)\n",
    "    item_sim_mat = pairwise_sim_item(df)\n",
    "    weights = x.reshape(-1,1)\n",
    "    user_items = df[user,:].nonzero()[1]\n",
    "    ret_sum = 0\n",
    "    predict_array = predict_2(df,user,user_avgs,x)\n",
    "    for s in range(len(user_items)):\n",
    "        s_mat = user_items[s]\n",
    "        for j in range(len(user_items)):\n",
    "            j_mat = user_items[j]\n",
    "            if j == s:\n",
    "                continue\n",
    "            else:\n",
    "                ret_sum += item_sim_mat[s_mat,j_mat] * ((df[user,s_mat] - predict_array[j])**2)\n",
    "    return ret_sum\n",
    "    "
   ]
  },
  {
   "cell_type": "code",
   "execution_count": 90,
   "metadata": {},
   "outputs": [],
   "source": [
    "weights = np.random.rand(1,10)\n",
    "item = 30\n",
    "user = 0\n",
    "#predict(df_mat,user,item,weights)\n",
    "\n",
    "#p = predict_2(df_mat,user,user_avgs,weights)\n",
    "c = cost(weights,df_mat,user,user_avgs)\n",
    "res = minimize(cost,weights,args=(df_mat,0,user_avgs))"
   ]
  },
  {
   "cell_type": "code",
   "execution_count": 93,
   "metadata": {},
   "outputs": [
    {
     "data": {
      "text/plain": [
       "array([ 2.42138407,  2.46850263,  2.48422235,  2.50957646,  2.55512793,\n",
       "        2.55769952,  2.63112906,  2.58749674,  2.45456597,  2.56820569,\n",
       "        2.48547992,  2.58669232,  2.55769952,  2.3813789 ,  2.60098318,\n",
       "        2.53890591,  2.57064596,  2.48686678,  2.61392384,  2.58537509])"
      ]
     },
     "execution_count": 93,
     "metadata": {},
     "output_type": "execute_result"
    }
   ],
   "source": [
    "predict_2(df_mat,user,user_avgs,res.x)"
   ]
  },
  {
   "cell_type": "code",
   "execution_count": null,
   "metadata": {},
   "outputs": [],
   "source": []
  }
 ],
 "metadata": {
  "kernelspec": {
   "display_name": "Python 3",
   "language": "python",
   "name": "python3"
  },
  "language_info": {
   "codemirror_mode": {
    "name": "ipython",
    "version": 3
   },
   "file_extension": ".py",
   "mimetype": "text/x-python",
   "name": "python",
   "nbconvert_exporter": "python",
   "pygments_lexer": "ipython3",
   "version": "3.6.0"
  },
  "varInspector": {
   "cols": {
    "lenName": 16,
    "lenType": 16,
    "lenVar": 40
   },
   "kernels_config": {
    "python": {
     "delete_cmd_postfix": "",
     "delete_cmd_prefix": "del ",
     "library": "var_list.py",
     "varRefreshCmd": "print(var_dic_list())"
    },
    "r": {
     "delete_cmd_postfix": ") ",
     "delete_cmd_prefix": "rm(",
     "library": "var_list.r",
     "varRefreshCmd": "cat(var_dic_list()) "
    }
   },
   "types_to_exclude": [
    "module",
    "function",
    "builtin_function_or_method",
    "instance",
    "_Feature"
   ],
   "window_display": false
  }
 },
 "nbformat": 4,
 "nbformat_minor": 2
}
