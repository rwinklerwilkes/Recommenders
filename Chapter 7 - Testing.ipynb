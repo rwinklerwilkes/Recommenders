{
 "cells": [
  {
   "cell_type": "code",
   "execution_count": 1,
   "metadata": {},
   "outputs": [],
   "source": [
    "import numpy as np\n",
    "import pandas as pd\n",
    "from matplotlib import pyplot as plt\n",
    "from scipy.sparse import csc_matrix, csr_matrix\n",
    "import Utilities as u"
   ]
  },
  {
   "cell_type": "code",
   "execution_count": 3,
   "metadata": {},
   "outputs": [],
   "source": [
    "df_sparse = u.load_movielens_sparse()"
   ]
  },
  {
   "cell_type": "markdown",
   "metadata": {},
   "source": [
    "# Latent Factors, Taken from Chapter 3"
   ]
  },
  {
   "cell_type": "code",
   "execution_count": 4,
   "metadata": {},
   "outputs": [],
   "source": [
    "def construct_factors(df_sparse,num_factors):\n",
    "    '''Constructs the num_factors user factors and item factors for the sparse matrix'''\n",
    "    m = df_sparse.shape[0]\n",
    "    n = df_sparse.shape[1]\n",
    "    U = np.random.rand(m,num_factors)\n",
    "    V = np.random.rand(n,num_factors)\n",
    "    return U,V\n",
    "\n",
    "def error(df_sparse,U,V):\n",
    "    '''Calculates the matrix portion of the error term'''\n",
    "    d = df_sparse.nonzero()\n",
    "    rows = d[0].reshape(1,-1).flatten()\n",
    "    cols = d[1].reshape(1,-1).flatten()\n",
    "    e = df_sparse[d] - np.matmul(U,V.T)[d]\n",
    "    e = np.asarray(e).flatten()\n",
    "    e = csc_matrix((e,(rows,cols)))\n",
    "    return e\n",
    "\n",
    "def frobenius_norm(df_sparse,U,V):\n",
    "    e = error(df_sparse,U,V)\n",
    "    e = e.power(2)\n",
    "    return e.sum()\n",
    "\n",
    "def cost_function(df_sparse,U,V,l):\n",
    "    '''Calculates the cost function to minimize, l is the regularization term'''\n",
    "    e = frobenius_norm(df_sparse,U,V)\n",
    "    usum = np.square(U).sum()\n",
    "    vsum = np.square(V).sum()\n",
    "    J = 0.5 * e + (l/2)*usum + (l/2)*vsum\n",
    "    return J\n",
    "\n",
    "def update_factors(df_sparse,U,V,l,alpha):\n",
    "    '''alpha is learning rate, l is regularization parameter'''\n",
    "    nz = df_sparse.nonzero()\n",
    "    E = error(df_sparse,U,V)\n",
    "    U_temp = U*(1-alpha * l) + alpha * (E * V)\n",
    "    V_temp = V*(1-alpha * l) + alpha * (E.T * U)\n",
    "    return U_temp,V_temp\n",
    "\n",
    "def fit(df_sparse,num_factors,learning_rate,regularization_rate):\n",
    "    U,V = construct_factors(df_sparse,num_factors)\n",
    "    J = cost_function(df_sparse,U,V,regularization_rate)\n",
    "    prev = J\n",
    "    iter_ctr = 0\n",
    "    while True:\n",
    "        iter_ctr += 1\n",
    "        U,V = update_factors(df_sparse,U,V,regularization_rate,learning_rate)\n",
    "        J = cost_function(df_sparse,U,V,regularization_rate)\n",
    "        pct_change = J/prev-1\n",
    "        if abs(pct_change) < 0.001 or iter_ctr > 1000:\n",
    "            break\n",
    "        prev = J\n",
    "    return U,V\n",
    "    "
   ]
  },
  {
   "cell_type": "code",
   "execution_count": null,
   "metadata": {},
   "outputs": [],
   "source": [
    "U,V = fit(df_sparse,10,0.0001,0.8)\n",
    "pred_rat = np.matmul(U,V.T)"
   ]
  },
  {
   "cell_type": "code",
   "execution_count": null,
   "metadata": {},
   "outputs": [],
   "source": [
    "e = error(df_sparse,U,V)"
   ]
  },
  {
   "cell_type": "code",
   "execution_count": 5,
   "metadata": {},
   "outputs": [],
   "source": [
    "train,test = u.train_test_split(df_sparse,10)\n",
    "\n",
    "U,V = fit(train,10,0.0001,0.8)\n",
    "pred_rat = np.matmul(U,V.T)"
   ]
  },
  {
   "cell_type": "markdown",
   "metadata": {},
   "source": [
    "# Calculating Error Rates"
   ]
  },
  {
   "cell_type": "code",
   "execution_count": 18,
   "metadata": {},
   "outputs": [],
   "source": [
    "def mse(err):\n",
    "    '''Calculates mean squared error of a sparse matrix'''\n",
    "    squared_error = err.power(2)\n",
    "    s = squared_error.sum()\n",
    "    n = err.nnz\n",
    "    return s/n\n",
    "\n",
    "def rmse(err):\n",
    "    '''Calculates root mean squared error of a sparse matrix'''\n",
    "    m = mse(err)\n",
    "    return np.sqrt(m)\n",
    "\n",
    "def mae(err):\n",
    "    abs_err = err_test.multiply(err_test.sign())\n",
    "    n = err.nnz\n",
    "    return abs_err.sum()/n\n",
    "    "
   ]
  },
  {
   "cell_type": "code",
   "execution_count": 19,
   "metadata": {},
   "outputs": [
    {
     "name": "stdout",
     "output_type": "stream",
     "text": [
      "0.9139774177\n",
      "0.955594162026\n",
      "0.0826120435754\n",
      "0.743541436996\n"
     ]
    }
   ],
   "source": [
    "err_train = error(train,U,V)\n",
    "err_test = error(test,U,V)\n",
    "print(rmse(err_train))\n",
    "print(rmse(err_test))\n",
    "print(mae(err_train))\n",
    "print(mae(err_test))"
   ]
  },
  {
   "cell_type": "code",
   "execution_count": null,
   "metadata": {},
   "outputs": [],
   "source": []
  }
 ],
 "metadata": {
  "kernelspec": {
   "display_name": "Python 3",
   "language": "python",
   "name": "python3"
  },
  "varInspector": {
   "cols": {
    "lenName": 16,
    "lenType": 16,
    "lenVar": 40
   },
   "kernels_config": {
    "python": {
     "delete_cmd_postfix": "",
     "delete_cmd_prefix": "del ",
     "library": "var_list.py",
     "varRefreshCmd": "print(var_dic_list())"
    },
    "r": {
     "delete_cmd_postfix": ") ",
     "delete_cmd_prefix": "rm(",
     "library": "var_list.r",
     "varRefreshCmd": "cat(var_dic_list()) "
    }
   },
   "types_to_exclude": [
    "module",
    "function",
    "builtin_function_or_method",
    "instance",
    "_Feature"
   ],
   "window_display": false
  }
 },
 "nbformat": 4,
 "nbformat_minor": 2
}
