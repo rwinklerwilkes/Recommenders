{
 "cells": [
  {
   "cell_type": "code",
   "execution_count": 2,
   "metadata": {},
   "outputs": [],
   "source": [
    "import numpy as np\n",
    "import pandas as pd\n",
    "from matplotlib import pyplot as plt"
   ]
  },
  {
   "cell_type": "code",
   "execution_count": 9,
   "metadata": {},
   "outputs": [],
   "source": [
    "table_21 = [\n",
    "    [5,3,4,4,np.nan],\n",
    "    [3,1,2,3,3],\n",
    "    [4,3,4,3,5],\n",
    "    [3,3,1,5,4],\n",
    "    [1,5,5,2,1]\n",
    "]\n",
    "table_21 = pd.DataFrame(table_21,columns=['i%i'%i for i in range(5)])\n",
    "table_21.index = ['Alice'] + ['u%i'%i for i in range(1,5)]"
   ]
  },
  {
   "cell_type": "code",
   "execution_count": 10,
   "metadata": {},
   "outputs": [
    {
     "data": {
      "text/html": [
       "<div>\n",
       "<style scoped>\n",
       "    .dataframe tbody tr th:only-of-type {\n",
       "        vertical-align: middle;\n",
       "    }\n",
       "\n",
       "    .dataframe tbody tr th {\n",
       "        vertical-align: top;\n",
       "    }\n",
       "\n",
       "    .dataframe thead th {\n",
       "        text-align: right;\n",
       "    }\n",
       "</style>\n",
       "<table border=\"1\" class=\"dataframe\">\n",
       "  <thead>\n",
       "    <tr style=\"text-align: right;\">\n",
       "      <th></th>\n",
       "      <th>i0</th>\n",
       "      <th>i1</th>\n",
       "      <th>i2</th>\n",
       "      <th>i3</th>\n",
       "      <th>i4</th>\n",
       "    </tr>\n",
       "  </thead>\n",
       "  <tbody>\n",
       "    <tr>\n",
       "      <th>Alice</th>\n",
       "      <td>5</td>\n",
       "      <td>3</td>\n",
       "      <td>4</td>\n",
       "      <td>4</td>\n",
       "      <td>NaN</td>\n",
       "    </tr>\n",
       "    <tr>\n",
       "      <th>u1</th>\n",
       "      <td>3</td>\n",
       "      <td>1</td>\n",
       "      <td>2</td>\n",
       "      <td>3</td>\n",
       "      <td>3.0</td>\n",
       "    </tr>\n",
       "    <tr>\n",
       "      <th>u2</th>\n",
       "      <td>4</td>\n",
       "      <td>3</td>\n",
       "      <td>4</td>\n",
       "      <td>3</td>\n",
       "      <td>5.0</td>\n",
       "    </tr>\n",
       "    <tr>\n",
       "      <th>u3</th>\n",
       "      <td>3</td>\n",
       "      <td>3</td>\n",
       "      <td>1</td>\n",
       "      <td>5</td>\n",
       "      <td>4.0</td>\n",
       "    </tr>\n",
       "    <tr>\n",
       "      <th>u4</th>\n",
       "      <td>1</td>\n",
       "      <td>5</td>\n",
       "      <td>5</td>\n",
       "      <td>2</td>\n",
       "      <td>1.0</td>\n",
       "    </tr>\n",
       "  </tbody>\n",
       "</table>\n",
       "</div>"
      ],
      "text/plain": [
       "       i0  i1  i2  i3   i4\n",
       "Alice   5   3   4   4  NaN\n",
       "u1      3   1   2   3  3.0\n",
       "u2      4   3   4   3  5.0\n",
       "u3      3   3   1   5  4.0\n",
       "u4      1   5   5   2  1.0"
      ]
     },
     "execution_count": 10,
     "metadata": {},
     "output_type": "execute_result"
    }
   ],
   "source": [
    "table_21"
   ]
  },
  {
   "cell_type": "markdown",
   "metadata": {
    "heading_collapsed": true
   },
   "source": [
    "# User-Based"
   ]
  },
  {
   "cell_type": "code",
   "execution_count": 47,
   "metadata": {
    "hidden": true
   },
   "outputs": [],
   "source": [
    "df = table_21\n",
    "a = 'Alice'\n",
    "b = 'u1'\n",
    "\n",
    "a = df.loc[a,:]\n",
    "b = df.loc[b,:]\n",
    "anull = list(a[a.isnull()].index)\n",
    "bnull = list(b[b.isnull()].index)\n",
    "missing_both = set(anull).union(set(bnull))\n",
    "remain = list(set(df.columns) - missing_both)\n",
    "a = a[remain]\n",
    "b = b[remain]"
   ]
  },
  {
   "cell_type": "code",
   "execution_count": 130,
   "metadata": {
    "hidden": true
   },
   "outputs": [],
   "source": [
    "def sim(df,a,b):\n",
    "    a = df.loc[a,:]\n",
    "    b = df.loc[b,:]\n",
    "    anull = list(a[a.isnull()].index)\n",
    "    bnull = list(b[b.isnull()].index)\n",
    "    missing_both = set(anull).union(set(bnull))\n",
    "    remain = list(set(df.columns) - missing_both)\n",
    "    a = a[remain]\n",
    "    b = b[remain]\n",
    "    amz = a - a.mean()\n",
    "    bmz = b - b.mean()\n",
    "    num = (amz * bmz).sum()\n",
    "    denom = np.sqrt((amz**2).sum()) * np.sqrt((bmz**2).sum())\n",
    "    return num/denom\n",
    "\n",
    "def nearest_neighbors(df,a,n,p):\n",
    "    #check_u = list(df[~df.index.isin([a])].index)\n",
    "    check_u = ~df.loc[~df.index.isin(['Alice']),p].isnull()\n",
    "    check_u = list(check_u[check_u].index)\n",
    "    sim_a = {u:sim(df,a,u) for u in check_u}\n",
    "    nearest_users_ind = np.argsort(list(sim_a.values()))[-n:]\n",
    "    nearest_users = np.array(list(sim_a.keys()))[nearest_users_ind]\n",
    "    return nearest_users"
   ]
  },
  {
   "cell_type": "code",
   "execution_count": 141,
   "metadata": {
    "hidden": true
   },
   "outputs": [],
   "source": [
    "def pred(df,a,p,n):\n",
    "    df_a = df.loc[a,:]\n",
    "    abar = df_a.mean()\n",
    "    nearest_users = nearest_neighbors(df,a,n,p)\n",
    "    print(nearest_users)\n",
    "    num = 0\n",
    "    denom = 0\n",
    "    for u in nearest_users:\n",
    "        df_u = df.loc[u,:]\n",
    "        u_p = df_u[p]\n",
    "        u_bar = df_u.mean()\n",
    "        s = sim(df,a,u)\n",
    "        num += s*(u_p - u_bar)\n",
    "        denom += s\n",
    "    return abar + num/denom"
   ]
  },
  {
   "cell_type": "code",
   "execution_count": 145,
   "metadata": {
    "hidden": true
   },
   "outputs": [
    {
     "name": "stdout",
     "output_type": "stream",
     "text": [
      "['u1', 'u2', 'u3', 'u4']\n",
      "['u2' 'u1']\n"
     ]
    },
    {
     "data": {
      "text/plain": [
       "4.8719798993705918"
      ]
     },
     "execution_count": 145,
     "metadata": {},
     "output_type": "execute_result"
    }
   ],
   "source": [
    "pred(df,'Alice','i4',2)"
   ]
  },
  {
   "cell_type": "markdown",
   "metadata": {},
   "source": [
    "# Item-Based"
   ]
  },
  {
   "cell_type": "code",
   "execution_count": 7,
   "metadata": {},
   "outputs": [],
   "source": [
    "a = [1,2,3]\n",
    "b = [4,5,6]\n",
    "\n",
    "def cosine_sim(a,b):\n",
    "    na = np.linalg.norm(a)\n",
    "    nb = np.linalg.norm(b)\n",
    "    num = np.dot(a,b)\n",
    "    denom = na * nb\n",
    "    return num/denom,num,denom\n",
    "\n",
    "def cosine_sim_item(df,p,q):\n",
    "    df_pq = df.loc[:,[p,q]]\n",
    "    df_pq = df_pq.loc[~df_pq.isnull().any(axis=1),:]\n",
    "    df_p = df_pq.loc[:,p]\n",
    "    df_q = df_pq.loc[:,q]\n",
    "    cs,n,d = cosine_sim(df_p,df_q)\n",
    "    return cs\n",
    "\n",
    "def adjusted_cosine_sim_item(df,p,q):\n",
    "    if p==q:\n",
    "        return 1\n",
    "    else:\n",
    "        temp_df = df.subtract(df.mean(axis=1),axis=0)\n",
    "        df_pq = temp_df.loc[:,[p,q]]\n",
    "        df_pq = df_pq.loc[~df_pq.isnull().any(axis=1),:]\n",
    "        df_p = df_pq.loc[:,p]\n",
    "        df_q = df_pq.loc[:,q]\n",
    "        cs,n,d = cosine_sim(df_p,df_q)\n",
    "        return cs\n",
    "\n",
    "def nearest_neighbors(df,p,n):\n",
    "    check_i = list(df.drop(p,axis=1).columns)\n",
    "    sim_p = {i:adjusted_cosine_sim_item(df,p,i) for i in check_i}\n",
    "    nearest_item_ind = np.argsort(list(sim_p.values()))[-n:]\n",
    "    items = np.array(list(sim_p.keys()))[nearest_item_ind]\n",
    "    return items\n",
    "\n",
    "def pred_item(df,u,p):\n",
    "    df_u = df.loc[u,:]\n",
    "    rated_items = list(df_u[~df_u.isnull()].index)\n",
    "    nearest_items = nearest_neighbors(df,p,2)\n",
    "    \n",
    "    num = 0\n",
    "    denom = 0\n",
    "    for i in nearest_items:\n",
    "        sim = adjusted_cosine_sim_item(df,p,i)\n",
    "        num += sim * df_u[i]\n",
    "        denom += sim\n",
    "    return num/denom,num,denom\n",
    "\n",
    "def item_similarity_matrix(df):\n",
    "    n = len(df.columns)\n",
    "    sim_mat = np.zeros((n,n))\n",
    "    \n",
    "    for i in range(len(df.columns)):\n",
    "        u = df.columns[i]\n",
    "        for j in range(len(df.columns)):\n",
    "            v = df.columns[j]\n",
    "            sim_mat[i][j] = adjusted_cosine_sim_item(df,u,v)\n",
    "    sim_mat = pd.DataFrame(sim_mat,columns=df.columns,index=df.columns)\n",
    "    return sim_mat\n",
    "            "
   ]
  },
  {
   "cell_type": "code",
   "execution_count": 257,
   "metadata": {},
   "outputs": [
    {
     "data": {
      "text/plain": [
       "0.99410024349541681"
      ]
     },
     "execution_count": 257,
     "metadata": {},
     "output_type": "execute_result"
    }
   ],
   "source": [
    "cosine_sim_item(df,'i0','i4')"
   ]
  },
  {
   "cell_type": "code",
   "execution_count": 258,
   "metadata": {},
   "outputs": [
    {
     "data": {
      "text/plain": [
       "0.80491448237912955"
      ]
     },
     "execution_count": 258,
     "metadata": {},
     "output_type": "execute_result"
    }
   ],
   "source": [
    "adjusted_cosine_sim_item(df,'i0','i4')"
   ]
  },
  {
   "cell_type": "code",
   "execution_count": 260,
   "metadata": {},
   "outputs": [],
   "source": [
    "p,num,denom = pred_item(df,'Alice','i4')"
   ]
  },
  {
   "cell_type": "code",
   "execution_count": 273,
   "metadata": {},
   "outputs": [
    {
     "data": {
      "text/html": [
       "<div>\n",
       "<style scoped>\n",
       "    .dataframe tbody tr th:only-of-type {\n",
       "        vertical-align: middle;\n",
       "    }\n",
       "\n",
       "    .dataframe tbody tr th {\n",
       "        vertical-align: top;\n",
       "    }\n",
       "\n",
       "    .dataframe thead th {\n",
       "        text-align: right;\n",
       "    }\n",
       "</style>\n",
       "<table border=\"1\" class=\"dataframe\">\n",
       "  <thead>\n",
       "    <tr style=\"text-align: right;\">\n",
       "      <th></th>\n",
       "      <th>i0</th>\n",
       "      <th>i1</th>\n",
       "      <th>i2</th>\n",
       "      <th>i3</th>\n",
       "      <th>i4</th>\n",
       "    </tr>\n",
       "  </thead>\n",
       "  <tbody>\n",
       "    <tr>\n",
       "      <th>i0</th>\n",
       "      <td>1.000000</td>\n",
       "      <td>-0.939725</td>\n",
       "      <td>-0.547068</td>\n",
       "      <td>0.267841</td>\n",
       "      <td>0.804914</td>\n",
       "    </tr>\n",
       "    <tr>\n",
       "      <th>i1</th>\n",
       "      <td>-0.939725</td>\n",
       "      <td>1.000000</td>\n",
       "      <td>0.620543</td>\n",
       "      <td>-0.360645</td>\n",
       "      <td>-0.908232</td>\n",
       "    </tr>\n",
       "    <tr>\n",
       "      <th>i2</th>\n",
       "      <td>-0.547068</td>\n",
       "      <td>0.620543</td>\n",
       "      <td>1.000000</td>\n",
       "      <td>-0.881380</td>\n",
       "      <td>-0.763560</td>\n",
       "    </tr>\n",
       "    <tr>\n",
       "      <th>i3</th>\n",
       "      <td>0.267841</td>\n",
       "      <td>-0.360645</td>\n",
       "      <td>-0.881380</td>\n",
       "      <td>1.000000</td>\n",
       "      <td>0.433063</td>\n",
       "    </tr>\n",
       "    <tr>\n",
       "      <th>i4</th>\n",
       "      <td>0.804914</td>\n",
       "      <td>-0.908232</td>\n",
       "      <td>-0.763560</td>\n",
       "      <td>0.433063</td>\n",
       "      <td>1.000000</td>\n",
       "    </tr>\n",
       "  </tbody>\n",
       "</table>\n",
       "</div>"
      ],
      "text/plain": [
       "          i0        i1        i2        i3        i4\n",
       "i0  1.000000 -0.939725 -0.547068  0.267841  0.804914\n",
       "i1 -0.939725  1.000000  0.620543 -0.360645 -0.908232\n",
       "i2 -0.547068  0.620543  1.000000 -0.881380 -0.763560\n",
       "i3  0.267841 -0.360645 -0.881380  1.000000  0.433063\n",
       "i4  0.804914 -0.908232 -0.763560  0.433063  1.000000"
      ]
     },
     "execution_count": 273,
     "metadata": {},
     "output_type": "execute_result"
    }
   ],
   "source": [
    "item_similarity_matrix(df)"
   ]
  },
  {
   "cell_type": "markdown",
   "metadata": {},
   "source": [
    "# SVD"
   ]
  },
  {
   "cell_type": "code",
   "execution_count": 286,
   "metadata": {},
   "outputs": [],
   "source": [
    "from sklearn.decomposition import PCA"
   ]
  },
  {
   "cell_type": "code",
   "execution_count": 284,
   "metadata": {},
   "outputs": [],
   "source": [
    "sdf = df.drop('Alice',axis=0).T\n",
    "sdf=sdf.drop('i4',axis=0)\n",
    "sdf.loc['i1','u3'] = 2\n",
    "sdf.loc['i1','u4'] = 6"
   ]
  },
  {
   "cell_type": "code",
   "execution_count": 285,
   "metadata": {},
   "outputs": [
    {
     "data": {
      "text/html": [
       "<div>\n",
       "<style scoped>\n",
       "    .dataframe tbody tr th:only-of-type {\n",
       "        vertical-align: middle;\n",
       "    }\n",
       "\n",
       "    .dataframe tbody tr th {\n",
       "        vertical-align: top;\n",
       "    }\n",
       "\n",
       "    .dataframe thead th {\n",
       "        text-align: right;\n",
       "    }\n",
       "</style>\n",
       "<table border=\"1\" class=\"dataframe\">\n",
       "  <thead>\n",
       "    <tr style=\"text-align: right;\">\n",
       "      <th></th>\n",
       "      <th>u1</th>\n",
       "      <th>u2</th>\n",
       "      <th>u3</th>\n",
       "      <th>u4</th>\n",
       "    </tr>\n",
       "  </thead>\n",
       "  <tbody>\n",
       "    <tr>\n",
       "      <th>i0</th>\n",
       "      <td>3.0</td>\n",
       "      <td>4.0</td>\n",
       "      <td>3.0</td>\n",
       "      <td>1.0</td>\n",
       "    </tr>\n",
       "    <tr>\n",
       "      <th>i1</th>\n",
       "      <td>1.0</td>\n",
       "      <td>3.0</td>\n",
       "      <td>2.0</td>\n",
       "      <td>6.0</td>\n",
       "    </tr>\n",
       "    <tr>\n",
       "      <th>i2</th>\n",
       "      <td>2.0</td>\n",
       "      <td>4.0</td>\n",
       "      <td>1.0</td>\n",
       "      <td>5.0</td>\n",
       "    </tr>\n",
       "    <tr>\n",
       "      <th>i3</th>\n",
       "      <td>3.0</td>\n",
       "      <td>3.0</td>\n",
       "      <td>5.0</td>\n",
       "      <td>2.0</td>\n",
       "    </tr>\n",
       "  </tbody>\n",
       "</table>\n",
       "</div>"
      ],
      "text/plain": [
       "     u1   u2   u3   u4\n",
       "i0  3.0  4.0  3.0  1.0\n",
       "i1  1.0  3.0  2.0  6.0\n",
       "i2  2.0  4.0  1.0  5.0\n",
       "i3  3.0  3.0  5.0  2.0"
      ]
     },
     "execution_count": 285,
     "metadata": {},
     "output_type": "execute_result"
    }
   ],
   "source": [
    "sdf"
   ]
  },
  {
   "cell_type": "code",
   "execution_count": 401,
   "metadata": {},
   "outputs": [],
   "source": [
    "from sklearn.utils.extmath import randomized_svd\n",
    "\n",
    "sdf_np = np.array(sdf)\n",
    "U, Sigma, V = randomized_svd(sdf_np,n_components=4,flip_sign=False,transpose=False)\n",
    "U, Sigma, V = np.linalg.svd(sdf_np)\n",
    "smat = np.diagflat(Sigma)\n",
    "#Reconstruct with np.dot(np.dot(U,np.diagflat(Sigma)),V)"
   ]
  },
  {
   "cell_type": "code",
   "execution_count": 397,
   "metadata": {},
   "outputs": [],
   "source": [
    "a = np.array([5,3,4,4])"
   ]
  },
  {
   "cell_type": "code",
   "execution_count": 402,
   "metadata": {},
   "outputs": [
    {
     "data": {
      "text/plain": [
       "array([[-0.43124523,  0.49315012, -0.55075835, -0.51719991],\n",
       "       [-0.53273754, -0.53052572,  0.41966021, -0.50854546],\n",
       "       [-0.52374556, -0.40520071, -0.48729169,  0.5692537 ],\n",
       "       [-0.50587435,  0.5578152 ,  0.53206894,  0.38708653]])"
      ]
     },
     "execution_count": 402,
     "metadata": {},
     "output_type": "execute_result"
    }
   ],
   "source": [
    "U"
   ]
  },
  {
   "cell_type": "code",
   "execution_count": 409,
   "metadata": {},
   "outputs": [
    {
     "data": {
      "text/plain": [
       "array([-0.64418534,  0.30125475, -0.63751178, -0.96174681])"
      ]
     },
     "execution_count": 409,
     "metadata": {},
     "output_type": "execute_result"
    }
   ],
   "source": [
    "smat_inv = np.linalg.inv(smat)\n",
    "np.dot(np.dot(a,U),smat_inv)"
   ]
  },
  {
   "cell_type": "markdown",
   "metadata": {},
   "source": [
    "# Try to Use - Movielens"
   ]
  },
  {
   "cell_type": "code",
   "execution_count": 120,
   "metadata": {},
   "outputs": [],
   "source": [
    "from scipy.sparse import csc_matrix"
   ]
  },
  {
   "cell_type": "code",
   "execution_count": 230,
   "metadata": {},
   "outputs": [],
   "source": [
    "def cosine_sim(a,b):\n",
    "    na = np.linalg.norm(a)\n",
    "    nb = np.linalg.norm(b)\n",
    "    num = np.dot(a,b)\n",
    "    denom = na * nb\n",
    "    return num/denom,num,denom\n",
    "\n",
    "def cosine_sim_mat(a,b):\n",
    "    na = np.linalg.norm(a)\n",
    "    nb = np.linalg.norm(b)\n",
    "    num = a.dot(b.T)\n",
    "    denom = na * nb\n",
    "    return num/denom,num,denom\n",
    "\n",
    "def cosine_sim_item(df,p,q):\n",
    "    df_pq = df.loc[:,[p,q]]\n",
    "    df_pq = df_pq.loc[~df_pq.isnull().any(axis=1),:]\n",
    "    df_p = df_pq.loc[:,p]\n",
    "    df_q = df_pq.loc[:,q]\n",
    "    cs,n,d = cosine_sim(df_p,df_q)\n",
    "    return cs\n",
    "\n",
    "def nearest_neighbors(df,p,n):\n",
    "    check_i = list(df.drop(p,axis=1).columns)\n",
    "    sim_p = {i:adjusted_cosine_sim_item(df,p,i) for i in check_i}\n",
    "    nearest_item_ind = np.argsort(list(sim_p.values()))[-n:]\n",
    "    items = np.array(list(sim_p.keys()))[nearest_item_ind]\n",
    "    return items\n",
    "\n",
    "def pred_item(df,u,p):\n",
    "    df_u = df.loc[u,:]\n",
    "    rated_items = list(df_u[~df_u.isnull()].index)\n",
    "    nearest_items = nearest_neighbors(df,p,2)\n",
    "    \n",
    "    num = 0\n",
    "    denom = 0\n",
    "    for i in nearest_items:\n",
    "        sim = adjusted_cosine_sim_item(df,p,i)\n",
    "        num += sim * df_u[i]\n",
    "        denom += sim\n",
    "    return num/denom,num,denom\n",
    "\n",
    "def adjusted_cosine_sim_item(df,p,q):\n",
    "    df_pq = df_mat[:,[i,j]]\n",
    "    nz = df_pq.nonzero()\n",
    "    df = pd.DataFrame(nz[0],columns=['movies'])\n",
    "    df['ind'] = 1\n",
    "    ct = df.groupby('movies').count().reset_index()\n",
    "    ct = ct[ct['ind']==2]['movies']\n",
    "    \n",
    "    if ct.shape[0] != 0:\n",
    "        df_pq = df_pq[ct,:]\n",
    "        df_p = df_pq[:,0].todense().reshape(1,-1)[0]\n",
    "        df_q = df_pq[:,1].todense().reshape(1,-1)[0]\n",
    "        cs,n,d = cosine_sim_mat(df_p,df_q)\n",
    "        return cs[0,0]\n",
    "    else:\n",
    "        return np.nan\n",
    "\n",
    "#Rewrite to use sparse matrix\n",
    "def item_similarity_matrix(df):\n",
    "    n = df.shape[1]\n",
    "    sim_mat = np.zeros((n,n))\n",
    "    \n",
    "    for i in range(n):\n",
    "        if i%10==0:\n",
    "            print(i)\n",
    "        u = df[:,i]\n",
    "        for j in range(n):\n",
    "            v = df[:,j]\n",
    "            if i==j:\n",
    "                acsi = 1\n",
    "            elif i > j:\n",
    "                acsi = sim_mat[j][i]\n",
    "            else:\n",
    "                acsi = adjusted_cosine_sim_item(df,i,j)\n",
    "            sim_mat[i][j] = acsi\n",
    "    sim_mat = pd.DataFrame(sim_mat,columns=df.columns,index=df.columns)\n",
    "    return sim_mat"
   ]
  },
  {
   "cell_type": "code",
   "execution_count": 244,
   "metadata": {},
   "outputs": [],
   "source": [
    "path = 'ml-latest-small\\\\'\n",
    "df = pd.read_csv(path + 'ratings.csv')\n",
    "movie_xref = pd.read_csv(path + 'movies.csv')"
   ]
  },
  {
   "cell_type": "code",
   "execution_count": 245,
   "metadata": {},
   "outputs": [],
   "source": [
    "movies = df.groupby('movieId').mean()['rating'].reset_index()\n",
    "movies = movies.merge(movie_xref,left_on='movieId',right_on='movieId')\n",
    "users = df['userId'].unique()\n",
    "data = df['rating']\n",
    "#df_mat = coo_matrix((data,(users,movies)))\n"
   ]
  },
  {
   "cell_type": "code",
   "execution_count": 246,
   "metadata": {},
   "outputs": [],
   "source": [
    "movies['mean_rating'] = movies['rating']\n",
    "movies = movies.drop('rating',axis=1)"
   ]
  },
  {
   "cell_type": "code",
   "execution_count": 247,
   "metadata": {},
   "outputs": [],
   "source": [
    "movies['mid'] = movies.index"
   ]
  },
  {
   "cell_type": "code",
   "execution_count": 248,
   "metadata": {},
   "outputs": [],
   "source": [
    "df = df.merge(movies,left_on='movieId',right_on='movieId')"
   ]
  },
  {
   "cell_type": "code",
   "execution_count": 249,
   "metadata": {},
   "outputs": [],
   "source": [
    "df['uid'] = df['userId']-1\n",
    "df['adjusted_rating'] = df['rating'] - df['mean_rating']"
   ]
  },
  {
   "cell_type": "code",
   "execution_count": 250,
   "metadata": {},
   "outputs": [],
   "source": [
    "users_list = df['uid']\n",
    "movies_list = df['mid']\n",
    "ratings_list = df['adjusted_rating']"
   ]
  },
  {
   "cell_type": "code",
   "execution_count": 252,
   "metadata": {},
   "outputs": [],
   "source": [
    "df_mat = csc_matrix((ratings_list,(users_list,movies_list)))"
   ]
  },
  {
   "cell_type": "code",
   "execution_count": 253,
   "metadata": {},
   "outputs": [],
   "source": [
    "from sklearn.metrics.pairwise import cosine_similarity"
   ]
  },
  {
   "cell_type": "code",
   "execution_count": 254,
   "metadata": {},
   "outputs": [],
   "source": [
    "s = cosine_similarity(df_mat.T,dense_output=False)"
   ]
  },
  {
   "cell_type": "code",
   "execution_count": 262,
   "metadata": {},
   "outputs": [
    {
     "data": {
      "text/html": [
       "<div>\n",
       "<style scoped>\n",
       "    .dataframe tbody tr th:only-of-type {\n",
       "        vertical-align: middle;\n",
       "    }\n",
       "\n",
       "    .dataframe tbody tr th {\n",
       "        vertical-align: top;\n",
       "    }\n",
       "\n",
       "    .dataframe thead th {\n",
       "        text-align: right;\n",
       "    }\n",
       "</style>\n",
       "<table border=\"1\" class=\"dataframe\">\n",
       "  <thead>\n",
       "    <tr style=\"text-align: right;\">\n",
       "      <th></th>\n",
       "      <th>movieId</th>\n",
       "      <th>title</th>\n",
       "      <th>genres</th>\n",
       "      <th>mean_rating</th>\n",
       "      <th>mid</th>\n",
       "    </tr>\n",
       "  </thead>\n",
       "  <tbody>\n",
       "    <tr>\n",
       "      <th>328</th>\n",
       "      <td>364</td>\n",
       "      <td>Lion King, The (1994)</td>\n",
       "      <td>Adventure|Animation|Children|Drama|Musical|IMAX</td>\n",
       "      <td>3.777500</td>\n",
       "      <td>328</td>\n",
       "    </tr>\n",
       "    <tr>\n",
       "      <th>521</th>\n",
       "      <td>588</td>\n",
       "      <td>Aladdin (1992)</td>\n",
       "      <td>Adventure|Animation|Children|Comedy|Musical</td>\n",
       "      <td>3.674419</td>\n",
       "      <td>521</td>\n",
       "    </tr>\n",
       "    <tr>\n",
       "      <th>883</th>\n",
       "      <td>1092</td>\n",
       "      <td>Basic Instinct (1992)</td>\n",
       "      <td>Crime|Mystery|Thriller</td>\n",
       "      <td>3.294643</td>\n",
       "      <td>883</td>\n",
       "    </tr>\n",
       "    <tr>\n",
       "      <th>1866</th>\n",
       "      <td>2355</td>\n",
       "      <td>Bug's Life, A (1998)</td>\n",
       "      <td>Adventure|Animation|Children|Comedy</td>\n",
       "      <td>3.609524</td>\n",
       "      <td>1866</td>\n",
       "    </tr>\n",
       "    <tr>\n",
       "      <th>2506</th>\n",
       "      <td>3114</td>\n",
       "      <td>Toy Story 2 (1999)</td>\n",
       "      <td>Adventure|Animation|Children|Comedy|Fantasy</td>\n",
       "      <td>3.844000</td>\n",
       "      <td>2506</td>\n",
       "    </tr>\n",
       "    <tr>\n",
       "      <th>3419</th>\n",
       "      <td>4306</td>\n",
       "      <td>Shrek (2001)</td>\n",
       "      <td>Adventure|Animation|Children|Comedy|Fantasy|Ro...</td>\n",
       "      <td>3.847701</td>\n",
       "      <td>3419</td>\n",
       "    </tr>\n",
       "    <tr>\n",
       "      <th>3803</th>\n",
       "      <td>4886</td>\n",
       "      <td>Monsters, Inc. (2001)</td>\n",
       "      <td>Adventure|Animation|Children|Comedy|Fantasy</td>\n",
       "      <td>3.884615</td>\n",
       "      <td>3803</td>\n",
       "    </tr>\n",
       "    <tr>\n",
       "      <th>4081</th>\n",
       "      <td>5349</td>\n",
       "      <td>Spider-Man (2002)</td>\n",
       "      <td>Action|Adventure|Sci-Fi|Thriller</td>\n",
       "      <td>3.522388</td>\n",
       "      <td>4081</td>\n",
       "    </tr>\n",
       "    <tr>\n",
       "      <th>6892</th>\n",
       "      <td>58559</td>\n",
       "      <td>Dark Knight, The (2008)</td>\n",
       "      <td>Action|Crime|Drama|IMAX</td>\n",
       "      <td>4.235537</td>\n",
       "      <td>6892</td>\n",
       "    </tr>\n",
       "  </tbody>\n",
       "</table>\n",
       "</div>"
      ],
      "text/plain": [
       "      movieId                    title  \\\n",
       "328       364    Lion King, The (1994)   \n",
       "521       588           Aladdin (1992)   \n",
       "883      1092    Basic Instinct (1992)   \n",
       "1866     2355     Bug's Life, A (1998)   \n",
       "2506     3114       Toy Story 2 (1999)   \n",
       "3419     4306             Shrek (2001)   \n",
       "3803     4886    Monsters, Inc. (2001)   \n",
       "4081     5349        Spider-Man (2002)   \n",
       "6892    58559  Dark Knight, The (2008)   \n",
       "\n",
       "                                                 genres  mean_rating   mid  \n",
       "328     Adventure|Animation|Children|Drama|Musical|IMAX     3.777500   328  \n",
       "521         Adventure|Animation|Children|Comedy|Musical     3.674419   521  \n",
       "883                              Crime|Mystery|Thriller     3.294643   883  \n",
       "1866                Adventure|Animation|Children|Comedy     3.609524  1866  \n",
       "2506        Adventure|Animation|Children|Comedy|Fantasy     3.844000  2506  \n",
       "3419  Adventure|Animation|Children|Comedy|Fantasy|Ro...     3.847701  3419  \n",
       "3803        Adventure|Animation|Children|Comedy|Fantasy     3.884615  3803  \n",
       "4081                   Action|Adventure|Sci-Fi|Thriller     3.522388  4081  \n",
       "6892                            Action|Crime|Drama|IMAX     4.235537  6892  "
      ]
     },
     "execution_count": 262,
     "metadata": {},
     "output_type": "execute_result"
    }
   ],
   "source": [
    "nearest_movies = np.argsort(s[0].todense()).tolist()[0][-10:-1]\n",
    "movies[movies['mid'].isin(nearest_movies)]"
   ]
  },
  {
   "cell_type": "code",
   "execution_count": 151,
   "metadata": {},
   "outputs": [],
   "source": [
    "df = pd.DataFrame(nz[0],columns=['movies'])\n",
    "df['ind'] = 1\n",
    "ct = df.groupby('movies').count().reset_index()\n",
    "ct = ct[ct['ind']==2]['movies']"
   ]
  },
  {
   "cell_type": "code",
   "execution_count": 153,
   "metadata": {},
   "outputs": [
    {
     "data": {
      "text/plain": [
       "array([ 18,  84, 114, 127, 164, 181, 284, 441, 467, 495, 533, 547, 563,\n",
       "       602, 606, 623, 640, 664], dtype=int64)"
      ]
     },
     "execution_count": 153,
     "metadata": {},
     "output_type": "execute_result"
    }
   ],
   "source": [
    "np.array(ct)"
   ]
  },
  {
   "cell_type": "code",
   "execution_count": 98,
   "metadata": {},
   "outputs": [],
   "source": [
    "i = 1\n",
    "j = 50\n",
    "u = df_mat[:,i]\n",
    "v = df_mat[:,j]\n",
    "temp_df = df_mat - df_mat.mean(axis=1)\n",
    "df_pq = temp_df[:,[i,j]]\n",
    "nz = df_pq.nonzero()\n",
    "nzu = np.unique(nz[0])\n",
    "df_pq = df_pq[nzu,:]"
   ]
  },
  {
   "cell_type": "code",
   "execution_count": 183,
   "metadata": {},
   "outputs": [
    {
     "data": {
      "text/plain": [
       "matrix([[ 1.83066688]])"
      ]
     },
     "execution_count": 183,
     "metadata": {},
     "output_type": "execute_result"
    }
   ],
   "source": [
    "df_p.dot(df_q.T)"
   ]
  },
  {
   "cell_type": "code",
   "execution_count": null,
   "metadata": {},
   "outputs": [],
   "source": []
  }
 ],
 "metadata": {
  "kernelspec": {
   "display_name": "Python 3",
   "language": "python",
   "name": "python3"
  },
  "language_info": {
   "codemirror_mode": {
    "name": "ipython",
    "version": 3
   },
   "file_extension": ".py",
   "mimetype": "text/x-python",
   "name": "python",
   "nbconvert_exporter": "python",
   "pygments_lexer": "ipython3",
   "version": "3.6.0"
  },
  "varInspector": {
   "cols": {
    "lenName": 16,
    "lenType": 16,
    "lenVar": 40
   },
   "kernels_config": {
    "python": {
     "delete_cmd_postfix": "",
     "delete_cmd_prefix": "del ",
     "library": "var_list.py",
     "varRefreshCmd": "print(var_dic_list())"
    },
    "r": {
     "delete_cmd_postfix": ") ",
     "delete_cmd_prefix": "rm(",
     "library": "var_list.r",
     "varRefreshCmd": "cat(var_dic_list()) "
    }
   },
   "types_to_exclude": [
    "module",
    "function",
    "builtin_function_or_method",
    "instance",
    "_Feature"
   ],
   "window_display": false
  }
 },
 "nbformat": 4,
 "nbformat_minor": 2
}
